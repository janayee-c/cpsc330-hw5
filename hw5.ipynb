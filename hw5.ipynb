{
 "cells": [
  {
   "cell_type": "code",
   "execution_count": 1,
   "metadata": {
    "deletable": false,
    "editable": false
   },
   "outputs": [],
   "source": [
    "# Initialize Otter\n",
    "import otter\n",
    "grader = otter.Notebook(\"hw5.ipynb\")"
   ]
  },
  {
   "cell_type": "markdown",
   "metadata": {},
   "source": [
    "# CPSC 330 - Applied Machine Learning \n",
    "\n",
    "## Homework 5: Putting it all together \n",
    "### Associated lectures: All material till lecture 13 "
   ]
  },
  {
   "cell_type": "markdown",
   "metadata": {},
   "source": [
    "<div class=\"alert-warning\">\n",
    "    \n",
    "## Instructions  \n",
    "rubric={points}\n",
    "\n",
    "You will earn points for following these instructions and successfully submitting your work on Gradescope.  \n",
    "\n",
    "### Before you start  \n",
    "\n",
    "- Please **read carefully\n",
    "[Use of Generative AI policy](https://ubc-cs.github.io/cpsc330-2025W1/syllabus.html#use-of-generative-ai-in-the-course)** before starting the homework assignment. \n",
    "  \n",
    "- Review the [CPSC 330 homework instructions](https://ubc-cs.github.io/cpsc330-2025W1/docs/homework_instructions.html) for detailed guidance on completing and submitting assignments. \n",
    "\n",
    "### Group work instructions\n",
    "\n",
    "**You may work with a partner on this homework and submit your assignment as a group.** Below are some instructions on working as a group.  \n",
    "- The maximum group size is 2.\n",
    "  \n",
    "- Use group work as an opportunity to collaborate and learn new things from each other. \n",
    "- Be respectful to each other and make sure you understand all the concepts in the assignment well. \n",
    "- It's your responsibility to make sure that the assignment is submitted by one of the group members before the deadline. \n",
    "- You can find the instructions on how to do group submission on Gradescope [here](https://help.gradescope.com/article/m5qz2xsnjy-student-add-group-members).\n",
    "- If you would like to use late tokens for the homework, all group members must have the necessary late tokens available. Please note that the late tokens will be counted for all members of the group.   \n",
    "### Before submitting  \n",
    "\n",
    "- **Run all cells** (▶▶ button) to ensure the notebook executes cleanly from top to bottom.\n",
    "\n",
    "  - Execution counts must start at **1** and be sequential.\n",
    "    \n",
    "  - Notebooks with missing outputs or errors may lose marks.\n",
    "\n",
    "- **Do not upload or push data files** used in this lab to GitHub or Gradescope. (A `.gitignore` is provided to prevent this.)  \n",
    "\n",
    "\n",
    "### Submitting on Gradescope  \n",
    "\n",
    "- Upload **only** your `.ipynb` file (with outputs shown) and any required output files. Do **not** submit extra files.\n",
    "  \n",
    "- If needed, refer to the [Gradescope Student Guide](https://lthub.ubc.ca/guides/gradescope-student-guide/).  \n",
    "- If your notebook is too large to render, also upload a **Web PDF** or **HTML** version.  \n",
    "  - You can create one using **File $\\rightarrow$ Save and Export Notebook As**.  \n",
    "  - If you get an error when creating a PDF, try running the following commands in your lab directory:  \n",
    "\n",
    "    ```bash\n",
    "    conda install -c conda-forge nbconvert-playwright\n",
    "    jupyter nbconvert --to webpdf lab1.ipynb\n",
    "    ```  \n",
    "\n",
    "  - Ensure all outputs are visible in your PDF or HTML file; TAs cannot grade your work if outputs are missing.\n",
    "\n",
    "</div>\n"
   ]
  },
  {
   "cell_type": "markdown",
   "metadata": {},
   "source": [
    "_Note: Unlike previous assignments, this one is open-ended and project-style. Treat it as an opportunity to explore, experiment, and learn._"
   ]
  },
  {
   "cell_type": "markdown",
   "metadata": {
    "deletable": false,
    "editable": false
   },
   "source": [
    "<!-- BEGIN QUESTION -->\n",
    "\n",
    "## Imports"
   ]
  },
  {
   "cell_type": "markdown",
   "metadata": {
    "deletable": false,
    "editable": false
   },
   "source": [
    "<div class=\"alert alert-warning\">\n",
    "    \n",
    "Imports\n",
    "    \n",
    "</div>\n",
    "\n",
    "_Points:_ 0"
   ]
  },
  {
   "cell_type": "code",
   "execution_count": 2,
   "metadata": {
    "tags": [
     "otter_answer_cell"
    ]
   },
   "outputs": [],
   "source": [
    "import pandas as pd\n",
    "import matplotlib.pyplot as plt\n",
    "import numpy as np \n",
    "from sklearn.model_selection import train_test_split\n",
    "from sklearn.linear_model import LinearRegression\n",
    "from sklearn.metrics import mean_squared_error, r2_score\n",
    "from sklearn.preprocessing import OneHotEncoder\n",
    "from sklearn.compose import ColumnTransformer\n",
    "from sklearn.pipeline import Pipeline\n",
    "from sklearn.impute import SimpleImputer        \n",
    "from sklearn.feature_extraction.text import TfidfVectorizer\n",
    "from sklearn.feature_extraction.text import CountVectorizer, TfidfVectorizer\n"
   ]
  },
  {
   "cell_type": "markdown",
   "metadata": {
    "deletable": false,
    "editable": false
   },
   "source": [
    "<!-- END QUESTION -->\n",
    "\n",
    "## Introduction\n",
    "\n",
    "In this homework you will be working on an open-ended mini-project, where you will put all the different things you have learned so far together to solve an interesting problem.\n",
    "\n",
    "A few notes and tips when you work on this mini-project: \n",
    "\n",
    "#### Tips\n",
    "1. This mini-project is open-ended, and while working on it, there might be some situations where you'll have to use your own judgment and make your own decisions (as you would be doing when you work as a data scientist). Make sure you explain your decisions whenever necessary. \n",
    "2. **Do not include everything you ever tried in your submission** -- it's fine just to have your final code. That said, your code should be reproducible and well-documented. For example, if you chose your hyperparameters based on some hyperparameter optimization experiment, you should leave in the code for that experiment so that someone else could re-run it and obtain the same hyperparameters, rather than mysteriously just setting the hyperparameters to some (carefully chosen) values in your code. \n",
    "3. If you realize that you are repeating a lot of code try to organize it in functions. Clear presentation of your code, experiments, and results is the key to be successful in this lab. You may use code from lecture notes or previous lab solutions with appropriate attributions. \n",
    "\n",
    "#### Assessment\n",
    "We plan to grade fairly and leniently. We don't have some secret target score that you need to achieve to get a good grade. **You'll be assessed on demonstration of mastery of course topics, clear presentation, and the quality of your analysis and results.** For example, if you just have a bunch of code and no text or figures, that's not good. If you do a bunch of sane things and get a lower accuracy than your friend, don't sweat it.\n",
    "\n",
    "\n",
    "#### A final note\n",
    "Finally, this style of this \"project\" question is different from other assignments. It'll be up to you to decide when you're \"done\" -- in fact, this is one of the hardest parts of real projects. But please don't spend WAY too much time on this... perhaps \"a few hours\" (10-14 hours???) is a good guideline for this project . Of course if you're having fun you're welcome to spend as much time as you want! But, if so, try not to do it out of perfectionism or getting the best possible grade. Do it because you're learning and enjoying it. Students from the past cohorts have found such kind of labs useful and fun and I hope you enjoy it as well. "
   ]
  },
  {
   "cell_type": "markdown",
   "metadata": {},
   "source": [
    "<br><br>"
   ]
  },
  {
   "cell_type": "markdown",
   "metadata": {
    "deletable": false,
    "editable": false
   },
   "source": [
    "<!-- BEGIN QUESTION -->\n",
    "\n",
    "## 1. Pick your problem and explain the prediction problem\n",
    "<hr>\n",
    "rubric={points:3}\n",
    "\n",
    "In this mini project, you have the option to choose on which dataset you will be working on. The tasks you will need to carry on will be similar, independently of your choice.\n",
    "\n",
    "### Option 1\n",
    "You can choose to work on a classification problem of predicting whether a credit card client will default or not. \n",
    "For this problem, you will use [Default of Credit Card Clients Dataset](https://www.kaggle.com/uciml/default-of-credit-card-clients-dataset). In this data set, there are 30,000 examples and 24 features, and the goal is to estimate whether a person will default (fail to pay) their credit card bills; this column is labeled \"default.payment.next.month\" in the data. The rest of the columns can be used as features. You may take some ideas and compare your results with [the associated research paper](https://www.sciencedirect.com/science/article/pii/S0957417407006719), which is available through [the UBC library](https://www.library.ubc.ca/). \n",
    "\n",
    "\n",
    "### Option 2\n",
    "You can choose to work on a regression problem using a [dataset](https://www.kaggle.com/dgomonov/new-york-city-airbnb-open-data) of New York City Airbnb listings from 2019. As usual, you'll need to start by downloading the dataset, then you will try to predict `reviews_per_month`, as a proxy for the popularity of the listing. Airbnb could use this sort of model to predict how popular future listings might be before they are posted, perhaps to help guide hosts create more appealing listings. In reality they might instead use something like vacancy rate or average rating as their target, but we do not have that available here.\n",
    "\n",
    "> Note there is an updated version of this dataset with more features available [here](http://insideairbnb.com/). The features were are using in `listings.csv.gz` for the New York city datasets. You will also see some other files like `reviews.csv.gz`. For your own interest you may want to explore the expanded dataset and try your analysis there. However, please submit your results on the dataset obtained from Kaggle.\n",
    "\n",
    "\n",
    "<div class=\"alert alert-info\">\n",
    "    \n",
    "**Your tasks:**\n",
    "\n",
    "1. Review the available datasets and choose the one you find most interesting. It may help to read through the dataset documentation on Kaggle before deciding.\n",
    "2. Once you've selected a dataset, take time to understand the problem it represents and the meaning of each feature. Use the Kaggle documentation to guide you.\n",
    "3. Download the dataset and load it into a pandas DataFrame.\n",
    "4. Write a few sentences summarizing your initial thoughts about the problem and the dataset.\n",
    "   \n",
    "</div>"
   ]
  },
  {
   "cell_type": "markdown",
   "metadata": {
    "deletable": false,
    "editable": false
   },
   "source": [
    "<div class=\"alert alert-warning\">\n",
    "    \n",
    "Solution_1\n",
    "    \n",
    "</div>\n",
    "\n",
    "_Points:_ 3"
   ]
  },
  {
   "cell_type": "markdown",
   "metadata": {},
   "source": [
    "The available dataset describes 48895 specific AirBnb listings specific to 2019, originally sourced from the Inside AirBnb project. The project has an aim to demonstrate the impact of short-term rentals on housing availability and affordability in the area. There are 16 (column) features in total in the original dataset that detail geographic information, hosting details, the reviews of the listings and availabilities. In the problem described, prediction of reviews_per_month as the target variable is used to represent the popularity of the listings via the attention and frequency of the booking, thus informing hosts on the features that increase appeal. The reviews per month are calculated over the lifetime of the listings as \"IF scrape_date - first_review <= 30 THEN number_of_reviews\n",
    "ELSE number_of_reviews / ((scrape_date - first_review + 1) / (365/12))\" (InsideAirBnb)"
   ]
  },
  {
   "cell_type": "code",
   "execution_count": 3,
   "metadata": {},
   "outputs": [
    {
     "data": {
      "text/html": [
       "<div>\n",
       "<style scoped>\n",
       "    .dataframe tbody tr th:only-of-type {\n",
       "        vertical-align: middle;\n",
       "    }\n",
       "\n",
       "    .dataframe tbody tr th {\n",
       "        vertical-align: top;\n",
       "    }\n",
       "\n",
       "    .dataframe thead th {\n",
       "        text-align: right;\n",
       "    }\n",
       "</style>\n",
       "<table border=\"1\" class=\"dataframe\">\n",
       "  <thead>\n",
       "    <tr style=\"text-align: right;\">\n",
       "      <th></th>\n",
       "      <th>id</th>\n",
       "      <th>name</th>\n",
       "      <th>host_id</th>\n",
       "      <th>host_name</th>\n",
       "      <th>neighbourhood_group</th>\n",
       "      <th>neighbourhood</th>\n",
       "      <th>latitude</th>\n",
       "      <th>longitude</th>\n",
       "      <th>room_type</th>\n",
       "      <th>price</th>\n",
       "      <th>minimum_nights</th>\n",
       "      <th>number_of_reviews</th>\n",
       "      <th>last_review</th>\n",
       "      <th>reviews_per_month</th>\n",
       "      <th>calculated_host_listings_count</th>\n",
       "      <th>availability_365</th>\n",
       "    </tr>\n",
       "  </thead>\n",
       "  <tbody>\n",
       "    <tr>\n",
       "      <th>0</th>\n",
       "      <td>2539</td>\n",
       "      <td>Clean &amp; quiet apt home by the park</td>\n",
       "      <td>2787</td>\n",
       "      <td>John</td>\n",
       "      <td>Brooklyn</td>\n",
       "      <td>Kensington</td>\n",
       "      <td>40.64749</td>\n",
       "      <td>-73.97237</td>\n",
       "      <td>Private room</td>\n",
       "      <td>149</td>\n",
       "      <td>1</td>\n",
       "      <td>9</td>\n",
       "      <td>2018-10-19</td>\n",
       "      <td>0.21</td>\n",
       "      <td>6</td>\n",
       "      <td>365</td>\n",
       "    </tr>\n",
       "    <tr>\n",
       "      <th>1</th>\n",
       "      <td>2595</td>\n",
       "      <td>Skylit Midtown Castle</td>\n",
       "      <td>2845</td>\n",
       "      <td>Jennifer</td>\n",
       "      <td>Manhattan</td>\n",
       "      <td>Midtown</td>\n",
       "      <td>40.75362</td>\n",
       "      <td>-73.98377</td>\n",
       "      <td>Entire home/apt</td>\n",
       "      <td>225</td>\n",
       "      <td>1</td>\n",
       "      <td>45</td>\n",
       "      <td>2019-05-21</td>\n",
       "      <td>0.38</td>\n",
       "      <td>2</td>\n",
       "      <td>355</td>\n",
       "    </tr>\n",
       "    <tr>\n",
       "      <th>2</th>\n",
       "      <td>3647</td>\n",
       "      <td>THE VILLAGE OF HARLEM....NEW YORK !</td>\n",
       "      <td>4632</td>\n",
       "      <td>Elisabeth</td>\n",
       "      <td>Manhattan</td>\n",
       "      <td>Harlem</td>\n",
       "      <td>40.80902</td>\n",
       "      <td>-73.94190</td>\n",
       "      <td>Private room</td>\n",
       "      <td>150</td>\n",
       "      <td>3</td>\n",
       "      <td>0</td>\n",
       "      <td>NaN</td>\n",
       "      <td>NaN</td>\n",
       "      <td>1</td>\n",
       "      <td>365</td>\n",
       "    </tr>\n",
       "    <tr>\n",
       "      <th>3</th>\n",
       "      <td>3831</td>\n",
       "      <td>Cozy Entire Floor of Brownstone</td>\n",
       "      <td>4869</td>\n",
       "      <td>LisaRoxanne</td>\n",
       "      <td>Brooklyn</td>\n",
       "      <td>Clinton Hill</td>\n",
       "      <td>40.68514</td>\n",
       "      <td>-73.95976</td>\n",
       "      <td>Entire home/apt</td>\n",
       "      <td>89</td>\n",
       "      <td>1</td>\n",
       "      <td>270</td>\n",
       "      <td>2019-07-05</td>\n",
       "      <td>4.64</td>\n",
       "      <td>1</td>\n",
       "      <td>194</td>\n",
       "    </tr>\n",
       "    <tr>\n",
       "      <th>4</th>\n",
       "      <td>5022</td>\n",
       "      <td>Entire Apt: Spacious Studio/Loft by central park</td>\n",
       "      <td>7192</td>\n",
       "      <td>Laura</td>\n",
       "      <td>Manhattan</td>\n",
       "      <td>East Harlem</td>\n",
       "      <td>40.79851</td>\n",
       "      <td>-73.94399</td>\n",
       "      <td>Entire home/apt</td>\n",
       "      <td>80</td>\n",
       "      <td>10</td>\n",
       "      <td>9</td>\n",
       "      <td>2018-11-19</td>\n",
       "      <td>0.10</td>\n",
       "      <td>1</td>\n",
       "      <td>0</td>\n",
       "    </tr>\n",
       "    <tr>\n",
       "      <th>...</th>\n",
       "      <td>...</td>\n",
       "      <td>...</td>\n",
       "      <td>...</td>\n",
       "      <td>...</td>\n",
       "      <td>...</td>\n",
       "      <td>...</td>\n",
       "      <td>...</td>\n",
       "      <td>...</td>\n",
       "      <td>...</td>\n",
       "      <td>...</td>\n",
       "      <td>...</td>\n",
       "      <td>...</td>\n",
       "      <td>...</td>\n",
       "      <td>...</td>\n",
       "      <td>...</td>\n",
       "      <td>...</td>\n",
       "    </tr>\n",
       "    <tr>\n",
       "      <th>48890</th>\n",
       "      <td>36484665</td>\n",
       "      <td>Charming one bedroom - newly renovated rowhouse</td>\n",
       "      <td>8232441</td>\n",
       "      <td>Sabrina</td>\n",
       "      <td>Brooklyn</td>\n",
       "      <td>Bedford-Stuyvesant</td>\n",
       "      <td>40.67853</td>\n",
       "      <td>-73.94995</td>\n",
       "      <td>Private room</td>\n",
       "      <td>70</td>\n",
       "      <td>2</td>\n",
       "      <td>0</td>\n",
       "      <td>NaN</td>\n",
       "      <td>NaN</td>\n",
       "      <td>2</td>\n",
       "      <td>9</td>\n",
       "    </tr>\n",
       "    <tr>\n",
       "      <th>48891</th>\n",
       "      <td>36485057</td>\n",
       "      <td>Affordable room in Bushwick/East Williamsburg</td>\n",
       "      <td>6570630</td>\n",
       "      <td>Marisol</td>\n",
       "      <td>Brooklyn</td>\n",
       "      <td>Bushwick</td>\n",
       "      <td>40.70184</td>\n",
       "      <td>-73.93317</td>\n",
       "      <td>Private room</td>\n",
       "      <td>40</td>\n",
       "      <td>4</td>\n",
       "      <td>0</td>\n",
       "      <td>NaN</td>\n",
       "      <td>NaN</td>\n",
       "      <td>2</td>\n",
       "      <td>36</td>\n",
       "    </tr>\n",
       "    <tr>\n",
       "      <th>48892</th>\n",
       "      <td>36485431</td>\n",
       "      <td>Sunny Studio at Historical Neighborhood</td>\n",
       "      <td>23492952</td>\n",
       "      <td>Ilgar &amp; Aysel</td>\n",
       "      <td>Manhattan</td>\n",
       "      <td>Harlem</td>\n",
       "      <td>40.81475</td>\n",
       "      <td>-73.94867</td>\n",
       "      <td>Entire home/apt</td>\n",
       "      <td>115</td>\n",
       "      <td>10</td>\n",
       "      <td>0</td>\n",
       "      <td>NaN</td>\n",
       "      <td>NaN</td>\n",
       "      <td>1</td>\n",
       "      <td>27</td>\n",
       "    </tr>\n",
       "    <tr>\n",
       "      <th>48893</th>\n",
       "      <td>36485609</td>\n",
       "      <td>43rd St. Time Square-cozy single bed</td>\n",
       "      <td>30985759</td>\n",
       "      <td>Taz</td>\n",
       "      <td>Manhattan</td>\n",
       "      <td>Hell's Kitchen</td>\n",
       "      <td>40.75751</td>\n",
       "      <td>-73.99112</td>\n",
       "      <td>Shared room</td>\n",
       "      <td>55</td>\n",
       "      <td>1</td>\n",
       "      <td>0</td>\n",
       "      <td>NaN</td>\n",
       "      <td>NaN</td>\n",
       "      <td>6</td>\n",
       "      <td>2</td>\n",
       "    </tr>\n",
       "    <tr>\n",
       "      <th>48894</th>\n",
       "      <td>36487245</td>\n",
       "      <td>Trendy duplex in the very heart of Hell's Kitchen</td>\n",
       "      <td>68119814</td>\n",
       "      <td>Christophe</td>\n",
       "      <td>Manhattan</td>\n",
       "      <td>Hell's Kitchen</td>\n",
       "      <td>40.76404</td>\n",
       "      <td>-73.98933</td>\n",
       "      <td>Private room</td>\n",
       "      <td>90</td>\n",
       "      <td>7</td>\n",
       "      <td>0</td>\n",
       "      <td>NaN</td>\n",
       "      <td>NaN</td>\n",
       "      <td>1</td>\n",
       "      <td>23</td>\n",
       "    </tr>\n",
       "  </tbody>\n",
       "</table>\n",
       "<p>48895 rows × 16 columns</p>\n",
       "</div>"
      ],
      "text/plain": [
       "             id                                               name   host_id  \\\n",
       "0          2539                 Clean & quiet apt home by the park      2787   \n",
       "1          2595                              Skylit Midtown Castle      2845   \n",
       "2          3647                THE VILLAGE OF HARLEM....NEW YORK !      4632   \n",
       "3          3831                    Cozy Entire Floor of Brownstone      4869   \n",
       "4          5022   Entire Apt: Spacious Studio/Loft by central park      7192   \n",
       "...         ...                                                ...       ...   \n",
       "48890  36484665    Charming one bedroom - newly renovated rowhouse   8232441   \n",
       "48891  36485057      Affordable room in Bushwick/East Williamsburg   6570630   \n",
       "48892  36485431            Sunny Studio at Historical Neighborhood  23492952   \n",
       "48893  36485609               43rd St. Time Square-cozy single bed  30985759   \n",
       "48894  36487245  Trendy duplex in the very heart of Hell's Kitchen  68119814   \n",
       "\n",
       "           host_name neighbourhood_group       neighbourhood  latitude  \\\n",
       "0               John            Brooklyn          Kensington  40.64749   \n",
       "1           Jennifer           Manhattan             Midtown  40.75362   \n",
       "2          Elisabeth           Manhattan              Harlem  40.80902   \n",
       "3        LisaRoxanne            Brooklyn        Clinton Hill  40.68514   \n",
       "4              Laura           Manhattan         East Harlem  40.79851   \n",
       "...              ...                 ...                 ...       ...   \n",
       "48890        Sabrina            Brooklyn  Bedford-Stuyvesant  40.67853   \n",
       "48891        Marisol            Brooklyn            Bushwick  40.70184   \n",
       "48892  Ilgar & Aysel           Manhattan              Harlem  40.81475   \n",
       "48893            Taz           Manhattan      Hell's Kitchen  40.75751   \n",
       "48894     Christophe           Manhattan      Hell's Kitchen  40.76404   \n",
       "\n",
       "       longitude        room_type  price  minimum_nights  number_of_reviews  \\\n",
       "0      -73.97237     Private room    149               1                  9   \n",
       "1      -73.98377  Entire home/apt    225               1                 45   \n",
       "2      -73.94190     Private room    150               3                  0   \n",
       "3      -73.95976  Entire home/apt     89               1                270   \n",
       "4      -73.94399  Entire home/apt     80              10                  9   \n",
       "...          ...              ...    ...             ...                ...   \n",
       "48890  -73.94995     Private room     70               2                  0   \n",
       "48891  -73.93317     Private room     40               4                  0   \n",
       "48892  -73.94867  Entire home/apt    115              10                  0   \n",
       "48893  -73.99112      Shared room     55               1                  0   \n",
       "48894  -73.98933     Private room     90               7                  0   \n",
       "\n",
       "      last_review  reviews_per_month  calculated_host_listings_count  \\\n",
       "0      2018-10-19               0.21                               6   \n",
       "1      2019-05-21               0.38                               2   \n",
       "2             NaN                NaN                               1   \n",
       "3      2019-07-05               4.64                               1   \n",
       "4      2018-11-19               0.10                               1   \n",
       "...           ...                ...                             ...   \n",
       "48890         NaN                NaN                               2   \n",
       "48891         NaN                NaN                               2   \n",
       "48892         NaN                NaN                               1   \n",
       "48893         NaN                NaN                               6   \n",
       "48894         NaN                NaN                               1   \n",
       "\n",
       "       availability_365  \n",
       "0                   365  \n",
       "1                   355  \n",
       "2                   365  \n",
       "3                   194  \n",
       "4                     0  \n",
       "...                 ...  \n",
       "48890                 9  \n",
       "48891                36  \n",
       "48892                27  \n",
       "48893                 2  \n",
       "48894                23  \n",
       "\n",
       "[48895 rows x 16 columns]"
      ]
     },
     "execution_count": 3,
     "metadata": {},
     "output_type": "execute_result"
    }
   ],
   "source": [
    "airbnb_df = pd.read_csv('AB_NYC_2019.csv')\n",
    "airbnb_df"
   ]
  },
  {
   "cell_type": "code",
   "execution_count": 4,
   "metadata": {},
   "outputs": [
    {
     "name": "stdout",
     "output_type": "stream",
     "text": [
      "<class 'pandas.core.frame.DataFrame'>\n",
      "RangeIndex: 48895 entries, 0 to 48894\n",
      "Data columns (total 16 columns):\n",
      " #   Column                          Non-Null Count  Dtype  \n",
      "---  ------                          --------------  -----  \n",
      " 0   id                              48895 non-null  int64  \n",
      " 1   name                            48879 non-null  object \n",
      " 2   host_id                         48895 non-null  int64  \n",
      " 3   host_name                       48874 non-null  object \n",
      " 4   neighbourhood_group             48895 non-null  object \n",
      " 5   neighbourhood                   48895 non-null  object \n",
      " 6   latitude                        48895 non-null  float64\n",
      " 7   longitude                       48895 non-null  float64\n",
      " 8   room_type                       48895 non-null  object \n",
      " 9   price                           48895 non-null  int64  \n",
      " 10  minimum_nights                  48895 non-null  int64  \n",
      " 11  number_of_reviews               48895 non-null  int64  \n",
      " 12  last_review                     38843 non-null  object \n",
      " 13  reviews_per_month               38843 non-null  float64\n",
      " 14  calculated_host_listings_count  48895 non-null  int64  \n",
      " 15  availability_365                48895 non-null  int64  \n",
      "dtypes: float64(3), int64(7), object(6)\n",
      "memory usage: 6.0+ MB\n",
      "None\n"
     ]
    },
    {
     "data": {
      "text/html": [
       "<div>\n",
       "<style scoped>\n",
       "    .dataframe tbody tr th:only-of-type {\n",
       "        vertical-align: middle;\n",
       "    }\n",
       "\n",
       "    .dataframe tbody tr th {\n",
       "        vertical-align: top;\n",
       "    }\n",
       "\n",
       "    .dataframe thead th {\n",
       "        text-align: right;\n",
       "    }\n",
       "</style>\n",
       "<table border=\"1\" class=\"dataframe\">\n",
       "  <thead>\n",
       "    <tr style=\"text-align: right;\">\n",
       "      <th></th>\n",
       "      <th>id</th>\n",
       "      <th>host_id</th>\n",
       "      <th>latitude</th>\n",
       "      <th>longitude</th>\n",
       "      <th>price</th>\n",
       "      <th>minimum_nights</th>\n",
       "      <th>number_of_reviews</th>\n",
       "      <th>reviews_per_month</th>\n",
       "      <th>calculated_host_listings_count</th>\n",
       "      <th>availability_365</th>\n",
       "    </tr>\n",
       "  </thead>\n",
       "  <tbody>\n",
       "    <tr>\n",
       "      <th>count</th>\n",
       "      <td>4.889500e+04</td>\n",
       "      <td>4.889500e+04</td>\n",
       "      <td>48895.000000</td>\n",
       "      <td>48895.000000</td>\n",
       "      <td>48895.000000</td>\n",
       "      <td>48895.000000</td>\n",
       "      <td>48895.000000</td>\n",
       "      <td>38843.000000</td>\n",
       "      <td>48895.000000</td>\n",
       "      <td>48895.000000</td>\n",
       "    </tr>\n",
       "    <tr>\n",
       "      <th>mean</th>\n",
       "      <td>1.901714e+07</td>\n",
       "      <td>6.762001e+07</td>\n",
       "      <td>40.728949</td>\n",
       "      <td>-73.952170</td>\n",
       "      <td>152.720687</td>\n",
       "      <td>7.029962</td>\n",
       "      <td>23.274466</td>\n",
       "      <td>1.373221</td>\n",
       "      <td>7.143982</td>\n",
       "      <td>112.781327</td>\n",
       "    </tr>\n",
       "    <tr>\n",
       "      <th>std</th>\n",
       "      <td>1.098311e+07</td>\n",
       "      <td>7.861097e+07</td>\n",
       "      <td>0.054530</td>\n",
       "      <td>0.046157</td>\n",
       "      <td>240.154170</td>\n",
       "      <td>20.510550</td>\n",
       "      <td>44.550582</td>\n",
       "      <td>1.680442</td>\n",
       "      <td>32.952519</td>\n",
       "      <td>131.622289</td>\n",
       "    </tr>\n",
       "    <tr>\n",
       "      <th>min</th>\n",
       "      <td>2.539000e+03</td>\n",
       "      <td>2.438000e+03</td>\n",
       "      <td>40.499790</td>\n",
       "      <td>-74.244420</td>\n",
       "      <td>0.000000</td>\n",
       "      <td>1.000000</td>\n",
       "      <td>0.000000</td>\n",
       "      <td>0.010000</td>\n",
       "      <td>1.000000</td>\n",
       "      <td>0.000000</td>\n",
       "    </tr>\n",
       "    <tr>\n",
       "      <th>25%</th>\n",
       "      <td>9.471945e+06</td>\n",
       "      <td>7.822033e+06</td>\n",
       "      <td>40.690100</td>\n",
       "      <td>-73.983070</td>\n",
       "      <td>69.000000</td>\n",
       "      <td>1.000000</td>\n",
       "      <td>1.000000</td>\n",
       "      <td>0.190000</td>\n",
       "      <td>1.000000</td>\n",
       "      <td>0.000000</td>\n",
       "    </tr>\n",
       "    <tr>\n",
       "      <th>50%</th>\n",
       "      <td>1.967728e+07</td>\n",
       "      <td>3.079382e+07</td>\n",
       "      <td>40.723070</td>\n",
       "      <td>-73.955680</td>\n",
       "      <td>106.000000</td>\n",
       "      <td>3.000000</td>\n",
       "      <td>5.000000</td>\n",
       "      <td>0.720000</td>\n",
       "      <td>1.000000</td>\n",
       "      <td>45.000000</td>\n",
       "    </tr>\n",
       "    <tr>\n",
       "      <th>75%</th>\n",
       "      <td>2.915218e+07</td>\n",
       "      <td>1.074344e+08</td>\n",
       "      <td>40.763115</td>\n",
       "      <td>-73.936275</td>\n",
       "      <td>175.000000</td>\n",
       "      <td>5.000000</td>\n",
       "      <td>24.000000</td>\n",
       "      <td>2.020000</td>\n",
       "      <td>2.000000</td>\n",
       "      <td>227.000000</td>\n",
       "    </tr>\n",
       "    <tr>\n",
       "      <th>max</th>\n",
       "      <td>3.648724e+07</td>\n",
       "      <td>2.743213e+08</td>\n",
       "      <td>40.913060</td>\n",
       "      <td>-73.712990</td>\n",
       "      <td>10000.000000</td>\n",
       "      <td>1250.000000</td>\n",
       "      <td>629.000000</td>\n",
       "      <td>58.500000</td>\n",
       "      <td>327.000000</td>\n",
       "      <td>365.000000</td>\n",
       "    </tr>\n",
       "  </tbody>\n",
       "</table>\n",
       "</div>"
      ],
      "text/plain": [
       "                 id       host_id      latitude     longitude         price  \\\n",
       "count  4.889500e+04  4.889500e+04  48895.000000  48895.000000  48895.000000   \n",
       "mean   1.901714e+07  6.762001e+07     40.728949    -73.952170    152.720687   \n",
       "std    1.098311e+07  7.861097e+07      0.054530      0.046157    240.154170   \n",
       "min    2.539000e+03  2.438000e+03     40.499790    -74.244420      0.000000   \n",
       "25%    9.471945e+06  7.822033e+06     40.690100    -73.983070     69.000000   \n",
       "50%    1.967728e+07  3.079382e+07     40.723070    -73.955680    106.000000   \n",
       "75%    2.915218e+07  1.074344e+08     40.763115    -73.936275    175.000000   \n",
       "max    3.648724e+07  2.743213e+08     40.913060    -73.712990  10000.000000   \n",
       "\n",
       "       minimum_nights  number_of_reviews  reviews_per_month  \\\n",
       "count    48895.000000       48895.000000       38843.000000   \n",
       "mean         7.029962          23.274466           1.373221   \n",
       "std         20.510550          44.550582           1.680442   \n",
       "min          1.000000           0.000000           0.010000   \n",
       "25%          1.000000           1.000000           0.190000   \n",
       "50%          3.000000           5.000000           0.720000   \n",
       "75%          5.000000          24.000000           2.020000   \n",
       "max       1250.000000         629.000000          58.500000   \n",
       "\n",
       "       calculated_host_listings_count  availability_365  \n",
       "count                    48895.000000      48895.000000  \n",
       "mean                         7.143982        112.781327  \n",
       "std                         32.952519        131.622289  \n",
       "min                          1.000000          0.000000  \n",
       "25%                          1.000000          0.000000  \n",
       "50%                          1.000000         45.000000  \n",
       "75%                          2.000000        227.000000  \n",
       "max                        327.000000        365.000000  "
      ]
     },
     "execution_count": 4,
     "metadata": {},
     "output_type": "execute_result"
    }
   ],
   "source": [
    "airbnb_df = pd.read_csv('AB_NYC_2019.csv')\n",
    "print(airbnb_df.info())\n",
    "airbnb_df.describe()"
   ]
  },
  {
   "cell_type": "markdown",
   "metadata": {},
   "source": [
    "# GLOBAL VARIABLES"
   ]
  },
  {
   "cell_type": "code",
   "execution_count": 5,
   "metadata": {},
   "outputs": [],
   "source": [
    "# taken from lecture 10\n",
    "from sklearn.metrics import make_scorer\n",
    "\n",
    "\n",
    "def my_mape(true, pred):\n",
    "    return np.mean(np.abs((pred - true) / true))\n",
    "\n",
    "mape_scorer = make_scorer(my_mape, greater_is_better=False)\n",
    "\n",
    "scoring = {\n",
    "    \"r2\": \"r2\",\n",
    "    \"mape_scorer\": mape_scorer, # custom scorer from lecture \n",
    "    \"sklearn MAPE\": \"neg_mean_absolute_percentage_error\",\n",
    "    \"RMSE\": \"neg_root_mean_squared_error\",\n",
    "    \"MSE\": \"neg_mean_squared_error\",\n",
    "}\n"
   ]
  },
  {
   "cell_type": "markdown",
   "metadata": {
    "deletable": false,
    "editable": false
   },
   "source": [
    "<!-- END QUESTION -->\n",
    "\n",
    "<br><br>"
   ]
  },
  {
   "cell_type": "markdown",
   "metadata": {
    "deletable": false,
    "editable": false
   },
   "source": [
    "<!-- BEGIN QUESTION -->\n",
    "\n",
    "## 2. Data splitting\n",
    "<hr>\n",
    "rubric={points:2}\n",
    "\n",
    "<div class=\"alert alert-info\">\n",
    "    \n",
    "**Your tasks:**\n",
    "\n",
    "1. Split the data into train (70%) and test (30%) portions with `random_state=123`.\n",
    "\n",
    "> If your computer cannot handle training on 70% training data, make the test split bigger.\n",
    "\n",
    "</div>"
   ]
  },
  {
   "cell_type": "markdown",
   "metadata": {
    "deletable": false,
    "editable": false
   },
   "source": [
    "<div class=\"alert alert-warning\">\n",
    "    \n",
    "Solution_2\n",
    "    \n",
    "</div>\n",
    "\n",
    "_Points:_ 2"
   ]
  },
  {
   "cell_type": "code",
   "execution_count": 6,
   "metadata": {
    "tags": [
     "otter_answer_cell"
    ]
   },
   "outputs": [],
   "source": [
    "train_df, test_df = train_test_split(airbnb_df, test_size=0.6, random_state=123)"
   ]
  },
  {
   "cell_type": "markdown",
   "metadata": {
    "deletable": false,
    "editable": false
   },
   "source": [
    "<!-- END QUESTION -->\n",
    "\n",
    "<br><br>"
   ]
  },
  {
   "cell_type": "markdown",
   "metadata": {
    "deletable": false,
    "editable": false
   },
   "source": [
    "<!-- BEGIN QUESTION -->\n",
    "\n",
    "## 3. EDA\n",
    "<hr>\n",
    "rubric={points:10}\n",
    "\n",
    "<div class=\"alert alert-info\">\n",
    "\n",
    "**Your tasks:**\n",
    "\n",
    "1. **Perform exploratory data analysis (EDA)**: Conduct an initial exploration of the training set to better understand its characteristics.\n",
    "\n",
    "2. **Summarize and visualize the data**: Include at least **two summary statistics** and **two visualizations** that you find informative. For each, write **one sentence** explaining what insight it provides.\n",
    "\n",
    "3. **Record your observations**: Summarize your **initial observations** about the dataset based on your EDA.\n",
    "\n",
    "4. **Select evaluation metrics**: Choose one or more **appropriate metrics** for assessing model performance and briefly justify your choice.\n",
    "\n",
    "</div>"
   ]
  },
  {
   "cell_type": "markdown",
   "metadata": {
    "deletable": false,
    "editable": false
   },
   "source": [
    "<div class=\"alert alert-warning\">\n",
    "    \n",
    "Solution_3\n",
    "    \n",
    "</div>\n",
    "\n",
    "_Points:_ 10"
   ]
  },
  {
   "cell_type": "markdown",
   "metadata": {
    "tags": [
     "otter_answer_cell"
    ]
   },
   "source": [
    "1. EDA Conducted below: characterization of columns of train_df via calculation of non-null values, min max mean of numerical columns.\n",
    "\n",
    "\n",
    "2. - a) The mean number of reviews per month is 1.36 and the median is 0.70, indicating that while a small number of listings receive frequent reviews, most listings experience very low monthly review activity.\n",
    "\n",
    "    - b) The standard deviation of reviews per month is significant in magnitude, especially when compared to the mean (std ≈ 1.64 vs. mean ≈ 1.36), indicating that review activity varies significantly among listings and suggesting that while most listings receive minimal engagement, a smaller subset experiences significantly higher demand and accumulates reviews faster.\n",
    "\n",
    "    - c) The histogram exhibits how the disparity between mean and median reflects right-skew; most listings receive 0–1 reviews per month, however a small number receive many (above 7-10)\n",
    "\n",
    "    - d) According to the location scatter plot, the spatial distribution highlights that demand and guest engagement vary significantly depending on the latitude and longitude of the neighborhood; this reinforces that location may be a significant feature in listing activity and popularity, as there are clusters of lighter colored (more populous) data points.\n",
    "\n",
    "3. From an initial exploration of the training set, there are a total of 19558 entries and 16 features (6 categorized variables as objects, 10 as numerical). The last_review and reviews_per_month have the equivalent missing value count of 20.7% (and non-null count of 15614), which is logical considering the reviews_per_month would be unavailable in the case where the listing has never been reviewed, and hence the last_review would also be missing. This missingness is informative about listing performance, as it indicates a lack of documented activity or opinion on the listing. Although there is no clear documentation indicating whether the values were unable to be sourced, or equivalent to zero, this project will assume that each instance of  are imputed with the value of 0. This avoids distortion during modeling, as using the mean or median imputation would inflate review counts for listings. Additionally, because no listings in the dataset naturally have a recorded 0 reviews per month, imputing zero does not overwrite or obscure true existing values, which maintains data integrity. If we instead dropped listings with missing review data, over one-fifth of the dataset would be eliminated, potentially biasing the training data toward only well-reviewed, higher-activity listings, which would significantly skew the model’s real-world applicability. The correlation between price and reviews per month is negative but small in magnitude, indicating that listings with higher prices tend to receive fewer monthly reviews, while more frequently reviewed listings are lower priced. \n",
    "\n",
    "4. Evaluation Metrics: Considering that the prediction of the number of reviews per month is a regression problem, and the distribution is heavily skewed by the number of close-to-zero values, an appropriate metric would be the root mean squared error (RMSE) as it presents the prediction in the same units of the target variable, which is averaged as the number of reviews over the lifetime of the listing. RMSE also penalizes substantial errors when the model predicts them, which matters as some listings have very high review activity but the majority do not, and these outliers could significantly impact the accuracy of the prediction. Along with RMSE, R^2 could be used to measure the variation in reviews_per_month and comparing the prediction model to the naive baseline to judge performance. "
   ]
  },
  {
   "cell_type": "code",
   "execution_count": 7,
   "metadata": {
    "tags": [
     "otter_answer_cell"
    ]
   },
   "outputs": [
    {
     "name": "stdout",
     "output_type": "stream",
     "text": [
      "<class 'pandas.core.frame.DataFrame'>\n",
      "Index: 19558 entries, 13505 to 15725\n",
      "Data columns (total 16 columns):\n",
      " #   Column                          Non-Null Count  Dtype  \n",
      "---  ------                          --------------  -----  \n",
      " 0   id                              19558 non-null  int64  \n",
      " 1   name                            19550 non-null  object \n",
      " 2   host_id                         19558 non-null  int64  \n",
      " 3   host_name                       19551 non-null  object \n",
      " 4   neighbourhood_group             19558 non-null  object \n",
      " 5   neighbourhood                   19558 non-null  object \n",
      " 6   latitude                        19558 non-null  float64\n",
      " 7   longitude                       19558 non-null  float64\n",
      " 8   room_type                       19558 non-null  object \n",
      " 9   price                           19558 non-null  int64  \n",
      " 10  minimum_nights                  19558 non-null  int64  \n",
      " 11  number_of_reviews               19558 non-null  int64  \n",
      " 12  last_review                     15614 non-null  object \n",
      " 13  reviews_per_month               15614 non-null  float64\n",
      " 14  calculated_host_listings_count  19558 non-null  int64  \n",
      " 15  availability_365                19558 non-null  int64  \n",
      "dtypes: float64(3), int64(7), object(6)\n",
      "memory usage: 2.5+ MB\n",
      "None\n",
      "(19558, 16)\n",
      "16621\n",
      "host_id\n",
      "219517861    118\n",
      "107434423     92\n",
      "30283594      54\n",
      "137358866     44\n",
      "61391963      42\n",
      "            ... \n",
      "6354467        1\n",
      "13753058       1\n",
      "103277215      1\n",
      "131792379      1\n",
      "159769278      1\n",
      "Name: count, Length: 16621, dtype: int64\n",
      "212\n",
      "neighbourhood\n",
      "Williamsburg          1559\n",
      "Bedford-Stuyvesant    1490\n",
      "Harlem                1070\n",
      "Bushwick               971\n",
      "Upper West Side        792\n",
      "                      ... \n",
      "South Beach              1\n",
      "Rosebank                 1\n",
      "Howland Hook             1\n",
      "Bull's Head              1\n",
      "Woodrow                  1\n",
      "Name: count, Length: 212, dtype: int64\n",
      "                       name host_name neighbourhood_group neighbourhood  \\\n",
      "count                 19550     19551               19558         19558   \n",
      "unique                19337      6428                   5           212   \n",
      "top     Home away from home   Michael           Manhattan  Williamsburg   \n",
      "freq                      8       170                8608          1559   \n",
      "\n",
      "              room_type last_review  \n",
      "count             19558       15614  \n",
      "unique                3        1504  \n",
      "top     Entire home/apt  2019-06-23  \n",
      "freq              10161         567  \n"
     ]
    }
   ],
   "source": [
    "print(train_df.info())\n",
    "print(train_df.shape)   \n",
    "\n",
    "\n",
    "print(train_df['host_id'].nunique())\n",
    "print(train_df['host_id'].value_counts())\n",
    "\n",
    "print(train_df['neighbourhood'].nunique())\n",
    "print(train_df['neighbourhood'].value_counts())\n",
    "print(train_df.describe(include='object'))  # summary stats for categorical columns\n"
   ]
  },
  {
   "cell_type": "code",
   "execution_count": 47,
   "metadata": {},
   "outputs": [
    {
     "data": {
      "text/html": [
       "<div>\n",
       "<style scoped>\n",
       "    .dataframe tbody tr th:only-of-type {\n",
       "        vertical-align: middle;\n",
       "    }\n",
       "\n",
       "    .dataframe tbody tr th {\n",
       "        vertical-align: top;\n",
       "    }\n",
       "\n",
       "    .dataframe thead th {\n",
       "        text-align: right;\n",
       "    }\n",
       "</style>\n",
       "<table border=\"1\" class=\"dataframe\">\n",
       "  <thead>\n",
       "    <tr style=\"text-align: right;\">\n",
       "      <th></th>\n",
       "      <th>id</th>\n",
       "      <th>name</th>\n",
       "      <th>host_id</th>\n",
       "      <th>host_name</th>\n",
       "      <th>neighbourhood_group</th>\n",
       "      <th>neighbourhood</th>\n",
       "      <th>latitude</th>\n",
       "      <th>longitude</th>\n",
       "      <th>room_type</th>\n",
       "      <th>price</th>\n",
       "      <th>minimum_nights</th>\n",
       "      <th>number_of_reviews</th>\n",
       "      <th>last_review</th>\n",
       "      <th>reviews_per_month</th>\n",
       "      <th>calculated_host_listings_count</th>\n",
       "      <th>availability_365</th>\n",
       "      <th>local_density</th>\n",
       "      <th>days_since_last_review</th>\n",
       "      <th>number_of_reviews_log</th>\n",
       "    </tr>\n",
       "  </thead>\n",
       "  <tbody>\n",
       "    <tr>\n",
       "      <th>13505</th>\n",
       "      <td>10104806</td>\n",
       "      <td>Spacious and cozy room!</td>\n",
       "      <td>11095923</td>\n",
       "      <td>Tobias</td>\n",
       "      <td>Brooklyn</td>\n",
       "      <td>Bushwick</td>\n",
       "      <td>40.69802</td>\n",
       "      <td>-73.91472</td>\n",
       "      <td>Private room</td>\n",
       "      <td>40</td>\n",
       "      <td>1</td>\n",
       "      <td>0</td>\n",
       "      <td>NaT</td>\n",
       "      <td>NaN</td>\n",
       "      <td>3</td>\n",
       "      <td>0</td>\n",
       "      <td>114</td>\n",
       "      <td>NaN</td>\n",
       "      <td>0.000000</td>\n",
       "    </tr>\n",
       "    <tr>\n",
       "      <th>8615</th>\n",
       "      <td>6627553</td>\n",
       "      <td>MODERN LOFT  3 STOPS TO MANHATTAN!!</td>\n",
       "      <td>16941743</td>\n",
       "      <td>Ernesto</td>\n",
       "      <td>Queens</td>\n",
       "      <td>Astoria</td>\n",
       "      <td>40.76482</td>\n",
       "      <td>-73.92514</td>\n",
       "      <td>Private room</td>\n",
       "      <td>40</td>\n",
       "      <td>2</td>\n",
       "      <td>36</td>\n",
       "      <td>2017-09-16</td>\n",
       "      <td>0.73</td>\n",
       "      <td>1</td>\n",
       "      <td>0</td>\n",
       "      <td>100</td>\n",
       "      <td>2963.0</td>\n",
       "      <td>3.610918</td>\n",
       "    </tr>\n",
       "    <tr>\n",
       "      <th>37060</th>\n",
       "      <td>29460203</td>\n",
       "      <td>Charming Room with 2 Beds Near Metro</td>\n",
       "      <td>105386434</td>\n",
       "      <td>Felix Lion</td>\n",
       "      <td>Brooklyn</td>\n",
       "      <td>Bedford-Stuyvesant</td>\n",
       "      <td>40.69304</td>\n",
       "      <td>-73.94349</td>\n",
       "      <td>Private room</td>\n",
       "      <td>72</td>\n",
       "      <td>2</td>\n",
       "      <td>15</td>\n",
       "      <td>2019-06-23</td>\n",
       "      <td>1.77</td>\n",
       "      <td>3</td>\n",
       "      <td>365</td>\n",
       "      <td>170</td>\n",
       "      <td>2318.0</td>\n",
       "      <td>2.772589</td>\n",
       "    </tr>\n",
       "    <tr>\n",
       "      <th>30742</th>\n",
       "      <td>23789466</td>\n",
       "      <td>Cozy Mid Century Modern Studio 15 min to Manha...</td>\n",
       "      <td>178507107</td>\n",
       "      <td>Alyssa</td>\n",
       "      <td>Brooklyn</td>\n",
       "      <td>Bushwick</td>\n",
       "      <td>40.70484</td>\n",
       "      <td>-73.92117</td>\n",
       "      <td>Entire home/apt</td>\n",
       "      <td>100</td>\n",
       "      <td>2</td>\n",
       "      <td>7</td>\n",
       "      <td>2018-04-29</td>\n",
       "      <td>0.45</td>\n",
       "      <td>1</td>\n",
       "      <td>0</td>\n",
       "      <td>176</td>\n",
       "      <td>2738.0</td>\n",
       "      <td>2.079442</td>\n",
       "    </tr>\n",
       "    <tr>\n",
       "      <th>20356</th>\n",
       "      <td>16258754</td>\n",
       "      <td>Cozy Modern Bedroom In A Newly Updated Apt</td>\n",
       "      <td>8091133</td>\n",
       "      <td>Daniel</td>\n",
       "      <td>Brooklyn</td>\n",
       "      <td>Bushwick</td>\n",
       "      <td>40.70040</td>\n",
       "      <td>-73.91934</td>\n",
       "      <td>Private room</td>\n",
       "      <td>40</td>\n",
       "      <td>2</td>\n",
       "      <td>0</td>\n",
       "      <td>NaT</td>\n",
       "      <td>NaN</td>\n",
       "      <td>1</td>\n",
       "      <td>0</td>\n",
       "      <td>181</td>\n",
       "      <td>NaN</td>\n",
       "      <td>0.000000</td>\n",
       "    </tr>\n",
       "  </tbody>\n",
       "</table>\n",
       "</div>"
      ],
      "text/plain": [
       "             id                                               name    host_id  \\\n",
       "13505  10104806                            Spacious and cozy room!   11095923   \n",
       "8615    6627553                MODERN LOFT  3 STOPS TO MANHATTAN!!   16941743   \n",
       "37060  29460203               Charming Room with 2 Beds Near Metro  105386434   \n",
       "30742  23789466  Cozy Mid Century Modern Studio 15 min to Manha...  178507107   \n",
       "20356  16258754         Cozy Modern Bedroom In A Newly Updated Apt    8091133   \n",
       "\n",
       "        host_name neighbourhood_group       neighbourhood  latitude  \\\n",
       "13505      Tobias            Brooklyn            Bushwick  40.69802   \n",
       "8615      Ernesto              Queens             Astoria  40.76482   \n",
       "37060  Felix Lion            Brooklyn  Bedford-Stuyvesant  40.69304   \n",
       "30742      Alyssa            Brooklyn            Bushwick  40.70484   \n",
       "20356      Daniel            Brooklyn            Bushwick  40.70040   \n",
       "\n",
       "       longitude        room_type  price  minimum_nights  number_of_reviews  \\\n",
       "13505  -73.91472     Private room     40               1                  0   \n",
       "8615   -73.92514     Private room     40               2                 36   \n",
       "37060  -73.94349     Private room     72               2                 15   \n",
       "30742  -73.92117  Entire home/apt    100               2                  7   \n",
       "20356  -73.91934     Private room     40               2                  0   \n",
       "\n",
       "      last_review  reviews_per_month  calculated_host_listings_count  \\\n",
       "13505         NaT                NaN                               3   \n",
       "8615   2017-09-16               0.73                               1   \n",
       "37060  2019-06-23               1.77                               3   \n",
       "30742  2018-04-29               0.45                               1   \n",
       "20356         NaT                NaN                               1   \n",
       "\n",
       "       availability_365  local_density  days_since_last_review  \\\n",
       "13505                 0            114                     NaN   \n",
       "8615                  0            100                  2963.0   \n",
       "37060               365            170                  2318.0   \n",
       "30742                 0            176                  2738.0   \n",
       "20356                 0            181                     NaN   \n",
       "\n",
       "       number_of_reviews_log  \n",
       "13505               0.000000  \n",
       "8615                3.610918  \n",
       "37060               2.772589  \n",
       "30742               2.079442  \n",
       "20356               0.000000  "
      ]
     },
     "execution_count": 47,
     "metadata": {},
     "output_type": "execute_result"
    }
   ],
   "source": [
    "train_df.head()"
   ]
  },
  {
   "cell_type": "code",
   "execution_count": 48,
   "metadata": {},
   "outputs": [
    {
     "name": "stdout",
     "output_type": "stream",
     "text": [
      "                 id       host_id      latitude     longitude         price  \\\n",
      "count  1.955800e+04  1.955800e+04  19558.000000  19558.000000  19558.000000   \n",
      "mean   1.883431e+07  6.652727e+07     40.729137    -73.951938    150.967942   \n",
      "min    2.539000e+03  2.438000e+03     40.507080    -74.242850      0.000000   \n",
      "25%    9.303320e+06  7.656499e+06     40.690080    -73.982750     69.000000   \n",
      "50%    1.936397e+07  3.028359e+07     40.722985    -73.955405    105.000000   \n",
      "75%    2.901352e+07  1.053641e+08     40.763388    -73.936120    175.000000   \n",
      "max    3.648543e+07  2.743115e+08     40.912340    -73.712990  10000.000000   \n",
      "std    1.100645e+07  7.806691e+07      0.054629      0.046189    241.965858   \n",
      "\n",
      "       minimum_nights  number_of_reviews                    last_review  \\\n",
      "count    19558.000000       19558.000000                          15614   \n",
      "mean         7.190050          23.214183  2018-10-01 15:57:12.150634240   \n",
      "min          1.000000           0.000000            2011-03-28 00:00:00   \n",
      "25%          1.000000           1.000000            2018-07-05 00:00:00   \n",
      "50%          3.000000           5.000000            2019-05-19 00:00:00   \n",
      "75%          5.000000          24.000000            2019-06-23 00:00:00   \n",
      "max       1250.000000         629.000000            2019-07-08 00:00:00   \n",
      "std         23.477288          43.943843                            NaN   \n",
      "\n",
      "       reviews_per_month  calculated_host_listings_count  availability_365  \\\n",
      "count       15614.000000                    19558.000000      19558.000000   \n",
      "mean            1.355881                        6.874527        112.248901   \n",
      "min             0.010000                        1.000000          0.000000   \n",
      "25%             0.190000                        1.000000          0.000000   \n",
      "50%             0.700000                        1.000000         44.000000   \n",
      "75%             2.000000                        2.000000        224.000000   \n",
      "max            20.940000                      327.000000        365.000000   \n",
      "std             1.640878                       31.883557        131.302396   \n",
      "\n",
      "       local_density  days_since_last_review  number_of_reviews_log  \n",
      "count   19558.000000            15614.000000           19558.000000  \n",
      "mean      138.808058             2582.335276               2.006957  \n",
      "min         1.000000             2303.000000               0.000000  \n",
      "25%        64.000000             2318.000000               0.693147  \n",
      "50%       128.000000             2353.000000               1.791759  \n",
      "75%       193.000000             2671.000000               3.218876  \n",
      "max       487.000000             5327.000000               6.445720  \n",
      "std        97.979072              416.293370               1.556772  \n"
     ]
    }
   ],
   "source": [
    "print(train_df.describe())"
   ]
  },
  {
   "cell_type": "code",
   "execution_count": 49,
   "metadata": {
    "tags": [
     "otter_answer_cell"
    ]
   },
   "outputs": [
    {
     "data": {
      "text/plain": [
       "id                                 0.00\n",
       "name                               0.04\n",
       "host_id                            0.00\n",
       "host_name                          0.04\n",
       "neighbourhood_group                0.00\n",
       "neighbourhood                      0.00\n",
       "latitude                           0.00\n",
       "longitude                          0.00\n",
       "room_type                          0.00\n",
       "price                              0.00\n",
       "minimum_nights                     0.00\n",
       "number_of_reviews                  0.00\n",
       "last_review                       20.17\n",
       "reviews_per_month                 20.17\n",
       "calculated_host_listings_count     0.00\n",
       "availability_365                   0.00\n",
       "local_density                      0.00\n",
       "days_since_last_review            20.17\n",
       "number_of_reviews_log              0.00\n",
       "dtype: float64"
      ]
     },
     "execution_count": 49,
     "metadata": {},
     "output_type": "execute_result"
    }
   ],
   "source": [
    "missing_percent = (train_df.isna().sum() / train_df.shape[0]) * 100\n",
    "missing_percent = missing_percent.round(2)\n",
    "missing_percent"
   ]
  },
  {
   "cell_type": "code",
   "execution_count": 50,
   "metadata": {},
   "outputs": [
    {
     "name": "stdout",
     "output_type": "stream",
     "text": [
      "0\n",
      "0\n"
     ]
    }
   ],
   "source": [
    "print((airbnb_df['reviews_per_month'] == 0).sum())\n",
    "print((train_df['reviews_per_month'] == 0).sum())"
   ]
  },
  {
   "cell_type": "code",
   "execution_count": 51,
   "metadata": {},
   "outputs": [
    {
     "data": {
      "text/plain": [
       "id                                   0\n",
       "name                                 8\n",
       "host_id                              0\n",
       "host_name                            7\n",
       "neighbourhood_group                  0\n",
       "neighbourhood                        0\n",
       "latitude                             0\n",
       "longitude                            0\n",
       "room_type                            0\n",
       "price                                0\n",
       "minimum_nights                       0\n",
       "number_of_reviews                    0\n",
       "last_review                       3944\n",
       "reviews_per_month                 3944\n",
       "calculated_host_listings_count       0\n",
       "availability_365                     0\n",
       "local_density                        0\n",
       "days_since_last_review            3944\n",
       "number_of_reviews_log                0\n",
       "dtype: int64"
      ]
     },
     "execution_count": 51,
     "metadata": {},
     "output_type": "execute_result"
    }
   ],
   "source": [
    "number_missing = (train_df.isna().sum())\n",
    "number_missing"
   ]
  },
  {
   "cell_type": "code",
   "execution_count": 52,
   "metadata": {},
   "outputs": [
    {
     "data": {
      "image/png": "[encoded data removed]",
      "text/plain": [
       "<Figure size 800x500 with 1 Axes>"
      ]
     },
     "metadata": {},
     "output_type": "display_data"
    },
    {
     "name": "stdout",
     "output_type": "stream",
     "text": [
      "(np.float64(1.3558806199564495), np.float64(0.7))\n"
     ]
    }
   ],
   "source": [
    "plt.figure(figsize=(8,5))\n",
    "plt.hist(train_df['reviews_per_month'].dropna(), bins=150, color='blue', edgecolor='black')\n",
    "plt.title(\"Distribution of Reviews Per Month\")\n",
    "plt.xlabel(\"Reviews Per Month\")\n",
    "plt.ylabel(\"Frequency\")\n",
    "plt.show()\n",
    "\n",
    "print(((train_df['reviews_per_month'].mean()), (train_df['reviews_per_month'].median())))"
   ]
  },
  {
   "cell_type": "code",
   "execution_count": 53,
   "metadata": {},
   "outputs": [
    {
     "data": {
      "image/png": "[encoded data removed]",
      "text/plain": [
       "<Figure size 800x600 with 2 Axes>"
      ]
     },
     "metadata": {},
     "output_type": "display_data"
    }
   ],
   "source": [
    "plt.figure(figsize=(8,6))\n",
    "scatter = plt.scatter(\n",
    "    train_df['longitude'], \n",
    "    train_df['latitude'], \n",
    "    c=train_df['reviews_per_month'],   # color based on review activity\n",
    "    cmap='plasma', \n",
    "    alpha=0.6, \n",
    "    s=15\n",
    ")\n",
    "\n",
    "plt.colorbar(scatter, label='Reviews per Month')\n",
    "plt.title(\"Review Activity by Location\")\n",
    "plt.xlabel(\"Longitude\")\n",
    "plt.ylabel(\"Latitude\")\n",
    "plt.show()"
   ]
  },
  {
   "cell_type": "code",
   "execution_count": 54,
   "metadata": {
    "tags": [
     "otter_answer_cell"
    ]
   },
   "outputs": [
    {
     "name": "stdout",
     "output_type": "stream",
     "text": [
      "count                            15614\n",
      "mean     2018-10-01 15:57:12.150634240\n",
      "min                2011-03-28 00:00:00\n",
      "25%                2018-07-05 00:00:00\n",
      "50%                2019-05-19 00:00:00\n",
      "75%                2019-06-23 00:00:00\n",
      "max                2019-07-08 00:00:00\n",
      "Name: last_review, dtype: object\n",
      "\n",
      "Percentage of listings with no reviews recorded: 20.17%\n"
     ]
    }
   ],
   "source": [
    "train_df['last_review'] = pd.to_datetime(train_df['last_review'])\n",
    "\n",
    "\n",
    "print(train_df['last_review'].describe())\n",
    "no_review_pct = train_df['last_review'].isna().mean() * 100\n",
    "print(f\"\\nPercentage of listings with no reviews recorded: {no_review_pct:.2f}%\")"
   ]
  },
  {
   "cell_type": "code",
   "execution_count": 55,
   "metadata": {
    "tags": [
     "otter_answer_cell"
    ]
   },
   "outputs": [
    {
     "name": "stdout",
     "output_type": "stream",
     "text": [
      "Correlation between price and reviews_per_month: -0.031\n"
     ]
    }
   ],
   "source": [
    "correlation = train_df['price'].corr(train_df['reviews_per_month'])\n",
    "print(f\"Correlation between price and reviews_per_month: {correlation:.3f}\")"
   ]
  },
  {
   "cell_type": "code",
   "execution_count": 56,
   "metadata": {},
   "outputs": [
    {
     "data": {
      "image/png": "[encoded data removed]",
      "text/plain": [
       "<Figure size 700x500 with 1 Axes>"
      ]
     },
     "metadata": {},
     "output_type": "display_data"
    }
   ],
   "source": [
    "plt.figure(figsize=(7,5))\n",
    "plt.scatter(train_df['reviews_per_month'], train_df['price'], alpha=0.4, s=10, color='darkblue')\n",
    "plt.title(\"Price vs Reviews Per Month\")\n",
    "plt.xlabel(\"Reviews Per Month\")\n",
    "plt.ylabel(\"Price (USD)\")\n",
    "plt.show()"
   ]
  },
  {
   "cell_type": "markdown",
   "metadata": {
    "deletable": false,
    "editable": false
   },
   "source": [
    "<!-- END QUESTION -->\n",
    "\n",
    "<br><br>"
   ]
  },
  {
   "cell_type": "markdown",
   "metadata": {
    "deletable": false,
    "editable": false
   },
   "source": [
    "<!-- BEGIN QUESTION -->\n",
    "\n",
    "## 4. Feature engineering\n",
    "<hr>\n",
    "rubric={points:1}\n",
    "\n",
    "<div class=\"alert alert-info\">\n",
    "    \n",
    "**Your tasks:**\n",
    "\n",
    "1. **Perform feature engineering**: Create new features that are relevant to the problem and use this updated feature set in the following exercises. You may need to iterate between **feature engineering** and **preprocessing** to refine your features and improve model performance.\n",
    "   \n",
    "</div>"
   ]
  },
  {
   "cell_type": "markdown",
   "metadata": {
    "deletable": false,
    "editable": false
   },
   "source": [
    "<div class=\"alert alert-warning\">\n",
    "    \n",
    "Solution_4\n",
    "    \n",
    "</div>\n",
    "\n",
    "_Points:_ 1"
   ]
  },
  {
   "cell_type": "code",
   "execution_count": 57,
   "metadata": {},
   "outputs": [
    {
     "name": "stdout",
     "output_type": "stream",
     "text": [
      "Column: id\n",
      "[10104806  6627553 29460203 ... 13915004 21897845 12711351]\n",
      "Column: name\n",
      "['Spacious and cozy room!' 'MODERN LOFT  3 STOPS TO MANHATTAN!!'\n",
      " 'Charming Room with 2 Beds Near Metro' ...\n",
      " 'Sunlit, spacious NY apartment' 'One room.'\n",
      " 'Cozy Private Room w/ 1 Queen Bed']\n",
      "Column: host_id\n",
      "[ 11095923  16941743 105386434 ...  66501870   7177483 159769278]\n",
      "Column: host_name\n",
      "['Tobias' 'Ernesto' 'Felix Lion' ... 'Rossana' 'K Alexandra' 'Musieka']\n",
      "Column: neighbourhood_group\n",
      "['Brooklyn' 'Queens' 'Manhattan' 'Bronx' 'Staten Island']\n",
      "Column: neighbourhood\n",
      "['Bushwick' 'Astoria' 'Bedford-Stuyvesant' 'Williamsburg'\n",
      " 'Lower East Side' \"Hell's Kitchen\" 'Midtown' 'Harlem' 'Greenpoint'\n",
      " 'East Harlem' 'Long Island City' 'NoHo' 'South Slope' 'Chelsea' 'Belmont'\n",
      " 'Upper West Side' 'West Village' 'Murray Hill' 'Greenwich Village'\n",
      " 'Financial District' 'Brownsville' 'Rosedale' 'Woodside' 'East Village'\n",
      " 'Morningside Heights' 'Upper East Side' 'Carroll Gardens' 'Sunset Park'\n",
      " 'Ridgewood' 'Kew Gardens' 'Kingsbridge' 'Flatbush' 'East Flatbush'\n",
      " 'Washington Heights' 'Crown Heights' 'Clinton Hill' 'Ditmars Steinway'\n",
      " 'Fort Greene' 'Boerum Hill' 'Gramercy' 'Jamaica' 'Maspeth'\n",
      " 'Pelham Gardens' 'Theater District' 'Fieldston'\n",
      " 'Prospect-Lefferts Gardens' 'Stuyvesant Town' 'Arverne' 'Rego Park'\n",
      " 'Jackson Heights' 'Inwood' 'St. George' 'Flushing' 'Chinatown'\n",
      " 'Jamaica Hills' 'Two Bridges' 'Sunnyside' 'Canarsie' 'Kensington'\n",
      " 'Brighton Beach' 'Queens Village' 'Hunts Point' 'Kips Bay' 'Bay Ridge'\n",
      " 'Gravesend' 'Borough Park' 'Bensonhurst' 'Bath Beach' 'Little Italy'\n",
      " 'Bay Terrace' 'Park Slope' 'Fort Hamilton' 'East Elmhurst' 'Nolita'\n",
      " 'Cobble Hill' 'Elmhurst' 'South Ozone Park' 'Brooklyn Heights' 'SoHo'\n",
      " 'Windsor Terrace' 'Dyker Heights' 'Fresh Meadows' 'Stapleton'\n",
      " 'Columbia St' 'Prospect Heights' 'East New York' 'Sheepshead Bay'\n",
      " 'Edgemere' 'Jamaica Estates' 'St. Albans' 'Cypress Hills'\n",
      " 'Flatiron District' 'Gowanus' 'Flatlands' 'Woodhaven' 'Cambria Heights'\n",
      " 'West Brighton' 'Ozone Park' 'Downtown Brooklyn' 'Schuylerville'\n",
      " 'Springfield Gardens' 'Tribeca' 'Longwood' 'Civic Center' 'Port Richmond'\n",
      " 'Whitestone' 'Fordham' 'Riverdale' 'Concord' 'Rockaway Beach'\n",
      " 'Port Morris' 'Forest Hills' 'Red Hook' 'Dongan Hills' 'Coney Island'\n",
      " 'Allerton' 'Norwood' 'Midwood' 'Middle Village' 'Tremont' 'Pelham Bay'\n",
      " 'Richmond Hill' 'Woodlawn' 'Bellerose' 'Highbridge' 'Vinegar Hill'\n",
      " 'DUMBO' 'Briarwood' 'Wakefield' 'Grant City' 'Tompkinsville'\n",
      " 'Roosevelt Island' 'Clason Point' 'College Point' 'North Riverdale'\n",
      " 'Claremont Village' 'Far Rockaway' 'Mariners Harbor' 'Shore Acres'\n",
      " 'Grymes Hill' 'Little Neck' 'Glendale' 'Clifton' 'Soundview'\n",
      " 'Emerson Hill' 'Bayside' 'Parkchester' 'Williamsbridge' 'Corona'\n",
      " 'Morris Heights' 'Battery Park City' 'Kew Gardens Hills' 'Melrose'\n",
      " 'Concourse Village' 'Mount Hope' 'Mount Eden' \"Bull's Head\" 'Baychester'\n",
      " 'Concourse' 'Howland Hook' 'Mott Haven' 'Mill Basin' 'Unionport'\n",
      " 'Navy Yard' 'New Springville' 'Hollis' 'Graniteville' 'Randall Manor'\n",
      " 'City Island' 'Howard Beach' 'Great Kills' 'Castleton Corners'\n",
      " 'University Heights' 'Arrochar' 'Bergen Beach' 'Morrisania' 'Laurelton'\n",
      " 'Rosebank' 'Olinville' 'South Beach' 'Van Nest' 'East Morrisania'\n",
      " 'Spuyten Duyvil' 'Douglaston' 'West Farms' 'Huguenot' 'Bronxdale'\n",
      " 'Arden Heights' 'Throgs Neck' 'Morris Park' 'Co-op City'\n",
      " 'Lighthouse Hill' 'Bayswater' 'Belle Harbor' 'Breezy Point'\n",
      " 'Manhattan Beach' 'Castle Hill' 'Marble Hill' 'New Dorp Beach'\n",
      " 'Westchester Square' 'Edenwald' 'Tottenville' 'Eastchester' 'Sea Gate'\n",
      " 'New Brighton' 'Neponsit' 'Silver Lake' 'Oakwood' 'Midland Beach'\n",
      " 'Bay Terrace, Staten Island' 'Eltingville' 'Woodrow']\n",
      "Column: latitude\n",
      "[40.69802 40.76482 40.69304 ... 40.75419 40.8038  40.86706]\n",
      "Column: longitude\n",
      "[-73.91472 -73.92514 -73.94349 ... -73.9691  -73.84674 -73.82775]\n",
      "Column: room_type\n",
      "['Private room' 'Entire home/apt' 'Shared room']\n",
      "Column: price\n",
      "[   40    72   100   225    42   199    70   156   200   120   150    95\n",
      "   215    44   177   190   175   358    58   165   168   239    92   220\n",
      "   248   214   425   125    65   250    80   106    60   450   105    85\n",
      "   112    43   285    50   275    32    45    90    33   117    75   255\n",
      "   249   277    55   308    79   299   135   280   185   110   118   140\n",
      "    99   169    69   785    30    35   109   130   600   300   334   375\n",
      "    34    89    76    97   176   179    81   115    59    93    71   180\n",
      "    77   160    88    56   330    41   170   138   155    67   206    46\n",
      "   122    49   149   163    61   315    48   139    74   228   258   119\n",
      "   195   108   290   230    20  3613   218   350   279   913    62    53\n",
      "   145   400    29   365   950   480   184    25   148   499   310   198\n",
      "   389   259    37   269   240    68   379   316   107    78   672   129\n",
      "    98   500    64   126   899   111   189    73    39    47   748    54\n",
      "   399   133   104    52   237   210    10   197    86   675   325   650\n",
      "   294   270   241   219    82   260   487    57   174  1000   131    63\n",
      "   159   394   209   329   235   157  1195   211   349   232   750   116\n",
      "   207    94   485   101    83   320   900    91   335   420   245    22\n",
      "   127   265  1500 10000    87   246   274    38   305   205   158   154\n",
      "    66   799    31   289   123   367   132   141   409   208   143   390\n",
      "   216   465   121    12  1046   725   700   945   359   229  1700    26\n",
      "   550   136   295   402    84   490   103   385   688    96   340   267\n",
      "   392   186   699   128   345  1200   188    36   495   173   737   283\n",
      "   146   244   339   446   251    51   222   850   276   142   151   247\n",
      "   589   183   196   975   134   380   187  2000   395   147    28   714\n",
      "   595   343  1369   895   470   264   281   616   369   319   312   575\n",
      "   113   288  1299   360   956   429   590   376   800   794    18   238\n",
      "   475  2500   182   102   191   161   573   293   227   212   262   224\n",
      "   398    27   278   388   202   114   144   333   840  1395   217   256\n",
      "    24   484   341   361   124   440   181   374   137  3000   509   213\n",
      "   447   164   153   525   396   430   257  6000   242  1763   298   890\n",
      "   419   309    23   314   649   167   152   426  2400   999  3900   479\n",
      "   460  3750     0   322   410   302   194   178   439   459  2626   162\n",
      "  7500   560   268  1300   496   505   404   192   760  1497   515   619\n",
      "   790   166  8000   272   503   221   355   203   478  2750   477   172\n",
      "   352   445   297    21   223   990   226   263   378   438   822  1100\n",
      "  1020   370   307   583   422   201   545   233   520   639   414   282\n",
      "   407  1250   424   254   497   449   949   510   303   204   243   825\n",
      "  1600   599   472   328  1680  2103  9999  2990  1880   442   433   271\n",
      "   680    15  1099   236   489   577   820   383   766  1599   252   234\n",
      "  3210   306    19   317  1075   435   336  2545   455   471   347  2590\n",
      "   749   640   377   935   483   444    11   530  4200  2010  1731   301\n",
      "   468   549   695   416   171  2600   415    16   690  1999   555  6500\n",
      "  3200   408  4100   287   231   412   423  2100   789   342   795  1095\n",
      "   434   995   356   692  4000   311   193   718   387   321   373   304\n",
      "  1494]\n",
      "Column: minimum_nights\n",
      "[   1    2    6    8    5   30    3   29   60    4    9    7   31   10\n",
      "   15   18   90   11   14  153   12   98  180   21   28   13   62   35\n",
      "   17   20  300   40   24   65  120   53   19  100   56  110   26   23\n",
      "   50  365   85   59   25  500   45   16   91   80   99  240   70  150\n",
      "  360   33   27   88  210  200  999  181  364  160   47   22  225   32\n",
      "   75  105   42  115  186  122  183   58  184 1250  114  222  270  275\n",
      "  265]\n",
      "Column: number_of_reviews\n",
      "[  0  36  15   7  37  22   1   8   2  40   4  18 141  23  12   3  93  38\n",
      "  34  24  10  68  47   6  41  45 108   5  91  39   9  92  13  67  19  77\n",
      "  11  75  46 107  21  17  33  16  20  66  14  62  26 114  80  69  70  94\n",
      "  42  25  28  84 365  74 183  72  50 116 136  57  27  58 102  71 115  95\n",
      "  56  32  51  53  82 139  88 166  52 106 356  35  78  73 260 117 164  30\n",
      "  31  48 167  89  29 144  81 173 124 292 130  87  65 163 277 149 161 119\n",
      "  43 100 202  63  76 269  61 120 242  54  60 112  44 245  79 125  49 199\n",
      " 105 155 223 185 113 285 280 190 258 127 233 123 104  83 221 228  98 134\n",
      " 227  64 131 254 178 176 137  96 340 150 118 129 259  86 174 181 152  85\n",
      " 126 186 257 132 336 111 154 203 121 234  59 182 193 122 146 171 135 198\n",
      " 209  97 138 231 109 236  99  90 145  55 265 148 172 160 206 133 191 212\n",
      " 177 326 360 385 158 151 219 162 188 103 157 241 270 220 153 288 169 208\n",
      " 309 201 222 200 297 240 101 325 204 143 213 480 110 279 128 165 229 180\n",
      " 195 239 210 175 214 341 302 333 147 430 334 276 246 232 247 237 294 179\n",
      " 159 347 314 170 194 142 255 417 187 230 388 296 271 629 207 272 318 354\n",
      " 168 447 256 349 224 323 211 244 238 320 225 189 226 319 403 273 424 205\n",
      " 216 307 281 215 304 248 252 184 243 140 607 299 295 411 197 266 251 339\n",
      " 459 261 408 392 289 263 305 218 284 192 414 156 287 510 321 451 262]\n",
      "Column: last_review\n",
      "<DatetimeArray>\n",
      "[                'NaT', '2017-09-16 00:00:00', '2019-06-23 00:00:00',\n",
      " '2018-04-29 00:00:00', '2019-05-28 00:00:00', '2019-06-10 00:00:00',\n",
      " '2018-12-27 00:00:00', '2019-06-29 00:00:00', '2018-01-08 00:00:00',\n",
      " '2019-07-02 00:00:00',\n",
      " ...\n",
      " '2018-03-04 00:00:00', '2012-06-07 00:00:00', '2015-10-16 00:00:00',\n",
      " '2015-10-08 00:00:00', '2016-04-20 00:00:00', '2016-10-06 00:00:00',\n",
      " '2016-02-26 00:00:00', '2015-06-24 00:00:00', '2018-02-22 00:00:00',\n",
      " '2013-09-06 00:00:00']\n",
      "Length: 1505, dtype: datetime64[ns]\n",
      "Column: reviews_per_month\n",
      "[      nan 7.300e-01 1.770e+00 4.500e-01 1.280e+00 1.360e+00 1.500e-01\n",
      " 2.820e+00 9.000e-02 4.880e+00 3.330e+00 2.500e-01 2.770e+00 6.000e-02\n",
      " 2.300e-01 1.000e+00 2.280e+00 3.800e-01 2.350e+00 7.000e-02 4.000e-02\n",
      " 3.000e-02 2.900e-01 1.290e+00 1.230e+00 2.800e-01 3.100e-01 3.130e+00\n",
      " 6.100e-01 3.370e+00 8.500e-01 3.300e-01 2.130e+00 4.740e+00 6.700e-01\n",
      " 2.260e+00 4.300e-01 1.400e-01 1.310e+00 1.960e+00 1.880e+00 2.200e-01\n",
      " 4.700e-01 1.600e-01 4.800e-01 1.580e+00 5.440e+00 1.300e-01 1.900e-01\n",
      " 2.390e+00 5.100e-01 6.300e-01 7.700e-01 2.000e-02 2.100e-01 4.440e+00\n",
      " 5.500e-01 3.500e-01 3.000e+00 1.680e+00 6.400e-01 2.000e-01 2.840e+00\n",
      " 4.310e+00 1.860e+00 6.600e-01 5.000e-02 2.000e+00 1.800e-01 2.400e-01\n",
      " 3.400e-01 1.050e+00 5.400e-01 1.080e+00 9.900e-01 9.400e-01 1.820e+00\n",
      " 2.780e+00 3.210e+00 5.000e+00 3.300e+00 4.600e-01 2.700e-01 6.200e-01\n",
      " 2.520e+00 1.800e+00 3.200e-01 8.400e-01 3.380e+00 1.370e+00 3.480e+00\n",
      " 3.260e+00 1.160e+00 5.000e-01 4.360e+00 5.970e+00 1.660e+00 1.200e-01\n",
      " 2.030e+00 5.810e+00 1.010e+00 2.050e+00 8.900e-01 3.990e+00 5.080e+00\n",
      " 2.190e+00 1.840e+00 1.150e+00 2.730e+00 2.790e+00 4.210e+00 1.000e-01\n",
      " 3.500e+00 2.200e+00 1.030e+00 2.010e+00 1.130e+00 2.490e+00 3.060e+00\n",
      " 1.110e+00 1.250e+00 1.300e+00 1.440e+00 4.200e-01 4.070e+00 9.600e-01\n",
      " 1.700e-01 7.400e-01 7.000e-01 1.100e-01 6.500e-01 3.780e+00 1.060e+00\n",
      " 1.670e+00 1.070e+00 4.100e+00 6.800e-01 4.780e+00 2.860e+00 5.450e+00\n",
      " 1.320e+00 4.700e+00 7.600e-01 2.360e+00 4.400e-01 5.800e-01 1.400e+00\n",
      " 5.400e+00 1.520e+00 5.200e-01 1.100e+00 1.490e+00 8.300e-01 2.150e+00\n",
      " 3.460e+00 2.610e+00 5.300e-01 2.040e+00 5.600e-01 4.430e+00 1.810e+00\n",
      " 2.930e+00 3.590e+00 5.900e-01 6.790e+00 1.200e+00 1.020e+00 6.900e-01\n",
      " 2.990e+00 3.700e-01 6.310e+00 1.610e+00 3.790e+00 4.050e+00 5.490e+00\n",
      " 2.220e+00 1.940e+00 3.190e+00 2.340e+00 1.350e+00 3.440e+00 3.600e-01\n",
      " 2.570e+00 4.250e+00 2.600e-01 2.640e+00 4.400e+00 4.040e+00 8.100e-01\n",
      " 1.450e+00 1.410e+00 4.900e-01 2.630e+00 2.480e+00 4.730e+00 5.540e+00\n",
      " 9.100e-01 2.500e+00 3.040e+00 3.900e-01 1.570e+00 1.330e+00 5.650e+00\n",
      " 3.650e+00 8.700e-01 8.800e-01 6.000e+00 8.200e-01 2.880e+00 6.720e+00\n",
      " 3.610e+00 3.800e+00 7.800e-01 2.970e+00 1.340e+00 1.140e+00 2.320e+00\n",
      " 3.900e+00 5.120e+00 1.710e+00 1.760e+00 1.040e+00 2.700e+00 8.000e-01\n",
      " 1.270e+00 7.200e-01 1.780e+00 1.210e+00 2.060e+00 7.900e-01 2.830e+00\n",
      " 4.750e+00 5.420e+00 3.140e+00 2.670e+00 7.590e+00 2.800e+00 4.000e+00\n",
      " 2.540e+00 7.100e-01 8.000e-02 2.680e+00 7.500e+00 2.430e+00 1.180e+00\n",
      " 2.310e+00 2.400e+00 1.220e+00 5.900e+00 1.630e+00 2.460e+00 3.350e+00\n",
      " 1.460e+00 2.020e+00 4.480e+00 3.860e+00 1.550e+00 2.660e+00 4.000e-01\n",
      " 6.130e+00 5.580e+00 5.320e+00 1.390e+00 1.850e+00 3.020e+00 4.460e+00\n",
      " 1.700e+00 4.290e+00 5.250e+00 3.680e+00 3.150e+00 1.090e+00 3.840e+00\n",
      " 1.640e+00 1.540e+00 2.590e+00 2.120e+00 2.530e+00 1.480e+00 1.560e+00\n",
      " 4.350e+00 2.090e+00 2.070e+00 2.900e+00 3.660e+00 1.120e+00 4.450e+00\n",
      " 1.430e+00 4.100e-01 9.200e-01 5.790e+00 1.730e+00 2.140e+00 3.560e+00\n",
      " 9.500e-01 1.190e+00 4.520e+00 1.910e+00 3.050e+00 6.100e+00 5.870e+00\n",
      " 1.380e+00 1.510e+00 5.160e+00 5.640e+00 6.000e-01 5.030e+00 4.930e+00\n",
      " 1.790e+00 2.230e+00 2.110e+00 9.470e+00 3.410e+00 1.000e+01 4.090e+00\n",
      " 1.950e+00 3.960e+00 3.750e+00 3.940e+00 2.580e+00 2.560e+00 1.170e+00\n",
      " 2.470e+00 1.420e+00 2.980e+00 3.910e+00 3.320e+00 2.240e+00 2.920e+00\n",
      " 1.138e+01 1.650e+00 4.590e+00 1.620e+00 1.740e+00 2.290e+00 4.150e+00\n",
      " 5.750e+00 1.240e+00 4.690e+00 2.710e+00 3.490e+00 5.700e-01 4.830e+00\n",
      " 5.510e+00 1.600e+00 4.620e+00 3.030e+00 3.360e+00 9.300e-01 1.500e+00\n",
      " 1.920e+00 2.550e+00 3.390e+00 3.010e+00 1.530e+00 6.700e+00 3.270e+00\n",
      " 9.000e-01 2.950e+00 5.830e+00 2.960e+00 3.000e-01 2.420e+00 6.360e+00\n",
      " 2.170e+00 2.510e+00 3.830e+00 6.640e+00 7.920e+00 4.110e+00 3.890e+00\n",
      " 5.610e+00 3.720e+00 8.600e-01 1.690e+00 1.830e+00 2.690e+00 2.100e+00\n",
      " 1.890e+00 3.570e+00 3.520e+00 5.530e+00 4.570e+00 4.900e+00 7.020e+00\n",
      " 9.700e-01 7.690e+00 3.880e+00 3.160e+00 3.930e+00 2.940e+00 2.450e+00\n",
      " 2.810e+00 8.480e+00 3.200e+00 9.800e-01 1.077e+01 2.740e+00 9.000e+00\n",
      " 5.140e+00 2.250e+00 3.310e+00 4.120e+00 3.920e+00 5.180e+00 6.350e+00\n",
      " 2.210e+00 3.230e+00 5.190e+00 3.120e+00 2.160e+00 7.380e+00 7.500e-01\n",
      " 3.530e+00 1.930e+00 2.370e+00 2.330e+00 3.670e+00 4.490e+00 4.270e+00\n",
      " 4.080e+00 6.320e+00 2.600e+00 9.580e+00 2.270e+00 1.470e+00 3.850e+00\n",
      " 6.750e+00 3.280e+00 5.570e+00 3.820e+00 5.270e+00 3.400e+00 1.000e-02\n",
      " 4.230e+00 4.130e+00 2.760e+00 1.260e+00 3.740e+00 4.600e+00 1.980e+00\n",
      " 1.990e+00 5.100e+00 2.870e+00 1.720e+00 2.910e+00 5.020e+00 3.630e+00\n",
      " 3.510e+00 5.670e+00 6.540e+00 3.080e+00 4.200e+00 4.820e+00 4.260e+00\n",
      " 4.500e+00 4.320e+00 1.121e+01 5.050e+00 5.500e+00 3.600e+00 3.430e+00\n",
      " 3.100e+00 8.180e+00 4.950e+00 5.780e+00 2.620e+00 6.590e+00 5.470e+00\n",
      " 5.310e+00 6.500e+00 3.070e+00 3.340e+00 3.700e+00 3.870e+00 4.860e+00\n",
      " 4.790e+00 5.630e+00 3.110e+00 5.370e+00 6.670e+00 4.800e+00 2.180e+00\n",
      " 2.380e+00 9.500e+00 7.240e+00 7.890e+00 3.470e+00 3.090e+00 9.230e+00\n",
      " 3.170e+00 2.720e+00 7.910e+00 4.530e+00 7.990e+00 1.970e+00 7.260e+00\n",
      " 3.220e+00 4.470e+00 5.800e+00 5.990e+00 5.060e+00 5.110e+00 4.610e+00\n",
      " 4.630e+00 6.400e+00 5.130e+00 1.750e+00 4.640e+00 4.660e+00 3.690e+00\n",
      " 6.920e+00 5.460e+00 5.340e+00 3.770e+00 4.760e+00 4.580e+00 2.850e+00\n",
      " 2.650e+00 2.080e+00 1.900e+00 5.520e+00 4.870e+00 7.600e+00 4.280e+00\n",
      " 6.070e+00 1.299e+01 5.910e+00 6.340e+00 6.820e+00 6.610e+00 1.086e+01\n",
      " 3.970e+00 4.510e+00 4.340e+00 4.330e+00 3.420e+00 8.290e+00 1.590e+00\n",
      " 6.230e+00 3.250e+00 6.730e+00 1.172e+01 3.550e+00 8.860e+00 5.590e+00\n",
      " 3.620e+00 1.400e+01 2.750e+00 4.810e+00 6.190e+00 4.060e+00 7.870e+00\n",
      " 6.490e+00 3.540e+00 2.440e+00 4.940e+00 5.700e+00 7.710e+00 3.180e+00\n",
      " 5.950e+00 6.180e+00 3.240e+00 9.120e+00 4.170e+00 3.730e+00 5.350e+00\n",
      " 7.860e+00 7.130e+00 2.410e+00 4.380e+00 5.840e+00 5.330e+00 2.300e+00\n",
      " 4.410e+00 4.020e+00 5.170e+00 2.890e+00 8.730e+00 1.870e+00 4.890e+00\n",
      " 1.782e+01 4.180e+00 6.080e+00 5.620e+00 4.650e+00 5.260e+00 1.028e+01\n",
      " 8.000e+00 4.030e+00 1.125e+01 4.920e+00 6.550e+00 4.370e+00 8.380e+00\n",
      " 3.290e+00 4.720e+00 7.000e+00 3.580e+00 6.020e+00 6.120e+00 5.730e+00\n",
      " 6.830e+00 4.140e+00 5.090e+00 4.550e+00 6.170e+00 5.720e+00 1.348e+01\n",
      " 4.300e+00 4.910e+00 4.840e+00 6.860e+00 4.010e+00 6.300e+00 4.990e+00\n",
      " 3.710e+00 6.990e+00 9.430e+00 5.560e+00 8.170e+00 1.436e+01 9.170e+00\n",
      " 3.950e+00 6.840e+00 7.040e+00 8.930e+00 7.280e+00 3.760e+00 1.060e+01\n",
      " 4.160e+00 1.458e+01 3.450e+00 8.330e+00 4.390e+00 9.390e+00 5.290e+00\n",
      " 3.640e+00 4.670e+00 8.570e+00 6.560e+00 4.710e+00 5.890e+00 5.960e+00\n",
      " 6.460e+00 7.140e+00 5.280e+00 7.960e+00 7.560e+00 4.680e+00 4.770e+00\n",
      " 8.240e+00 7.270e+00 4.540e+00 1.054e+01 4.420e+00 1.103e+01 6.410e+00\n",
      " 4.560e+00 8.640e+00 5.070e+00 3.980e+00 9.740e+00 6.480e+00 5.600e+00\n",
      " 5.010e+00 1.015e+01 3.810e+00 7.190e+00 7.060e+00 8.320e+00 4.240e+00\n",
      " 5.220e+00 6.780e+00 5.850e+00 1.342e+01 5.920e+00 5.690e+00 8.520e+00\n",
      " 6.030e+00 1.029e+01 7.470e+00 5.660e+00 1.023e+01 5.380e+00 4.970e+00\n",
      " 5.430e+00 6.090e+00 6.370e+00 6.800e+00 6.710e+00 5.360e+00 5.300e+00\n",
      " 5.930e+00 9.210e+00 5.040e+00 8.210e+00 7.770e+00 6.250e+00 6.270e+00\n",
      " 1.031e+01 6.010e+00 7.300e+00 6.870e+00 5.410e+00 6.050e+00 7.170e+00\n",
      " 7.750e+00 1.191e+01 5.550e+00 8.470e+00 1.211e+01 8.920e+00 4.850e+00\n",
      " 5.230e+00 7.970e+00 6.450e+00 5.680e+00 1.140e+01 6.900e+00 6.430e+00\n",
      " 2.094e+01 6.390e+00 7.830e+00 1.333e+01 1.039e+01 8.060e+00 9.530e+00\n",
      " 4.220e+00 9.080e+00 9.360e+00 7.160e+00 8.500e+00 7.120e+00 1.072e+01\n",
      " 9.300e+00 4.190e+00 6.060e+00 6.200e+00 4.960e+00 7.760e+00 7.850e+00\n",
      " 1.091e+01 6.380e+00 7.550e+00 5.860e+00 1.330e+01 6.940e+00 8.560e+00\n",
      " 1.315e+01 4.980e+00 5.200e+00 9.730e+00 9.830e+00 7.580e+00 8.350e+00\n",
      " 6.910e+00 8.970e+00 6.510e+00 5.740e+00 5.150e+00 6.110e+00 8.160e+00\n",
      " 7.790e+00 6.470e+00 7.200e+00 6.570e+00 8.580e+00 1.184e+01 5.880e+00\n",
      " 6.650e+00 8.110e+00 1.622e+01 5.820e+00 6.760e+00 6.420e+00 8.510e+00\n",
      " 5.710e+00 5.980e+00 6.210e+00 7.610e+00 7.640e+00 8.020e+00 9.680e+00\n",
      " 9.560e+00 9.030e+00]\n",
      "Column: calculated_host_listings_count\n",
      "[  3   1  30  96   2 327 232  32 121  91  14   7  33   5  65  20   4  47\n",
      "  23  28  15   9  49  12 103  11  10  39   8   6  13  25  17  50  18  87\n",
      "  34  52  19  29  26  27  16  43  37  21  31]\n",
      "Column: availability_365\n",
      "[  0 365  44  17 307 189 274 181 331 357 336 165 214 282 322 325 317  58\n",
      " 338  12 333 142 351  34  80  10 233  20  70   1  27  76 230  98 350 321\n",
      " 339 319   3  83 324  99 141 312  32 364  46 301  89 362  11 311 330 109\n",
      " 342   2 195 199  57 320  48 170  77 167 177  73 169 340 184 150 226 327\n",
      " 358 353 108 186  74  28 238 310 145 252 356  24  90 296  64 348 363 197\n",
      " 104   6  42 223 352  62 129 270 174 343 163 216 121 254  29 198  95  23\n",
      " 133  18 323  91  25  22 116  19 176  16 188 346 179 222 314  33 180  15\n",
      " 134  71  69 239 117 283 143 309  59  36  41  85 313 255 295 128  50 219\n",
      "  53  86 158 137 269 268 210  66 132 127 335 178 359 192 247  26 337 100\n",
      "  61 190 344  52 291   8 263 112 341  51  67 207 148 257 286 305 300 173\n",
      " 326 242 157   5  45  68 264 201 234 354 155  84 290 162   4 156 115  38\n",
      " 120 136 225 334 241 205 275 140 297 361 315 347 231 185   9 164 118 221\n",
      " 292  75 125  94 249 110 273 102 299 271 213 101  81 294 287 280 328 281\n",
      " 183  87  97 253 152  35   7  13 206 130 235 149 171 298 284 272 278  30\n",
      "  96 224 193 146  21 107 228  49 250  40 175  37  63 360 246 154 159 243\n",
      " 122 288 194 318  78  39 172 251 204  82  14 131 229 218 244 203  43 245\n",
      " 265  56 211  47 215 308 266 262 285 260  55 293 289 119 237 123 160 329\n",
      "  88 212 103 248 126  54 147  79 279 355 256 144 276 196 258 135 220 105\n",
      "  65 182 349 168  31 208 161 187 217 166 111 302 139 267 306 138 316 151\n",
      "  92 236 200  60 304 191 106 345 227  93 332 277 124 240 153 261 303 113\n",
      " 209 259 232  72 114 202]\n",
      "Column: local_density\n",
      "[114 100 170 176 181 234 292 187 173  85 171 144  76  40 184  56 135 120\n",
      " 113 210  10 124 169 217 202  98 141  81 196  24 214 243  61   8 228  94\n",
      " 252  34 310 216 344  67 130 158  96 104  57 240  22 359 188 125 134   9\n",
      " 298 257 156   6 203 139  20 117 128 146 349  25  37 271 375 131 160  87\n",
      " 186 150 391  93 166  65 132 116 235  21  18  68 233  77   2 138 367   4\n",
      " 247 129  52 394 260 143  99 105 106  16 199  89 174  28  62 118  69 281\n",
      " 155 110 193  50 254 346  11  66 151 297 148 149 163 168 242  29  90 165\n",
      " 161 101  36  53  32 107  72  70 311  63   7 182 154 127 362  17 266 386\n",
      "   5 133  74 122 465 218 400 226 121 177 192 348  58   3 393  13  33 342\n",
      "  54  59 299 115   1 275 313 172  47 179 207 314 316 418 339  64 108 246\n",
      "  35 291 137 385 189  38  49 153 197 262  51  83  23 194 302 180  95  55\n",
      " 470  27  88  39 347 102 273  30  12  44  19 255 201 323 112  15 229 267\n",
      "  80 215 325 380 282  43 136 225 249 258 111 294 244  79  14 353  42 123\n",
      " 449 157 195 191 185 223  84 152 238  86  26 183  97 198 230  46 103 164\n",
      " 119 219 126  71 200 208 178 237 140 259 290  82 293 147 332 409 274 236\n",
      " 109 303 398 224 326  45 248 251 239 241 159 360 221 261 336 345 288  48\n",
      " 175 384 415 401 162 334 256 205 145 337 304 419  41 351 338 432 253 404\n",
      " 284 395 378 206 232 324 264  92  91 276 287  73 222 167 478 365 383 190\n",
      " 231 265 280 340 305  60 456 327  75 204 142  31 270 300 354 209 352 366\n",
      " 245 414 295 368 263 462 211 272 379 396  78 317 269 417 427 328 364 356\n",
      " 408 374 285 286 227 268 397 321 220 331 307 410 318 283 212 312 250 402\n",
      " 277 322 309 329 341 213 315 333 279 387 412 437 369 469 278 306 381 480\n",
      " 335 370 301 389 319 296 289 392 423 308 428 406 438 390 320 440 442 363\n",
      " 411 461 471 371 413 445 403 388 479 330 426 464 454 467 399 425 466 405\n",
      " 481 430 434 343 372 474 421 420 373 458 358 376 382 431 487 459 476 484\n",
      " 355 407 357 429 377 460 416 422 453 446 468 436 475 477 441 452 457 361\n",
      " 463 350 424 435 447 473 444 450 439 448 455]\n",
      "Column: days_since_last_review\n",
      "[  nan 2963. 2318. ... 3778. 2804. 4434.]\n",
      "Column: number_of_reviews_log\n",
      "[0.         3.61091791 2.77258872 2.07944154 3.63758616 3.13549422\n",
      " 0.69314718 2.19722458 1.09861229 3.71357207 1.60943791 2.94443898\n",
      " 4.95582706 3.17805383 2.56494936 1.38629436 4.54329478 3.66356165\n",
      " 3.55534806 3.21887582 2.39789527 4.2341065  3.87120101 1.94591015\n",
      " 3.73766962 3.8286414  4.69134788 1.79175947 4.52178858 3.68887945\n",
      " 2.30258509 4.53259949 2.63905733 4.21950771 2.99573227 4.35670883\n",
      " 2.48490665 4.33073334 3.8501476  4.68213123 3.09104245 2.89037176\n",
      " 3.52636052 2.83321334 3.04452244 4.20469262 2.7080502  4.14313473\n",
      " 3.29583687 4.74493213 4.39444915 4.24849524 4.26267988 4.55387689\n",
      " 3.76120012 3.25809654 3.36729583 4.44265126 5.90263333 4.31748811\n",
      " 5.21493576 4.29045944 3.93182563 4.76217393 4.91998093 4.06044301\n",
      " 3.33220451 4.07753744 4.63472899 4.27666612 4.75359019 4.56434819\n",
      " 4.04305127 3.49650756 3.95124372 3.98898405 4.41884061 4.94164242\n",
      " 4.48863637 5.11799381 3.97029191 4.67282883 5.87773578 3.58351894\n",
      " 4.36944785 4.30406509 5.56452041 4.77068462 5.10594547 3.4339872\n",
      " 3.4657359  3.8918203  5.12396398 4.49980967 3.40119738 4.97673374\n",
      " 4.40671925 5.1590553  4.82831374 5.68017261 4.87519732 4.47733681\n",
      " 4.18965474 5.09986643 5.62762111 5.01063529 5.08759634 4.78749174\n",
      " 3.78418963 4.61512052 5.31320598 4.15888308 4.34380542 5.59842196\n",
      " 4.12713439 4.79579055 5.49306144 4.00733319 4.11087386 4.72738782\n",
      " 3.80666249 5.50533154 4.38202663 4.83628191 3.91202301 5.29831737\n",
      " 4.66343909 5.04985601 5.41164605 5.22574667 4.73619845 5.65599181\n",
      " 5.63835467 5.25227343 5.55682806 4.85203026 5.45532112 4.82028157\n",
      " 4.65396035 4.4308168  5.40267738 5.433722   4.59511985 4.90527478\n",
      " 5.42934563 4.17438727 4.88280192 5.54126355 5.18738581 5.17614973\n",
      " 4.92725369 4.57471098 5.83188248 5.01727984 4.77912349 4.86753445\n",
      " 5.56068163 4.46590812 5.16478597 5.20400669 5.03043792 4.4543473\n",
      " 4.84418709 5.23110862 5.55295958 4.89034913 5.82008293 4.71849887\n",
      " 5.04342512 5.31811999 4.80402104 5.45958551 4.09434456 5.20948615\n",
      " 5.26785816 4.81218436 4.99043259 5.14749448 4.91265489 5.29330482\n",
      " 5.34710753 4.58496748 4.93447393 5.44673737 4.70048037 5.46806014\n",
      " 4.60517019 4.51085951 4.98360662 4.02535169 5.58349631 5.00394631\n",
      " 5.15329159 5.08140436 5.33271879 4.8978398  5.25749537 5.36129217\n",
      " 5.18178355 5.78996017 5.88887796 5.95583737 5.0689042  5.02388052\n",
      " 5.39362755 5.0937502  5.24174702 4.6443909  5.06259503 5.48893773\n",
      " 5.60211882 5.3981627  5.0369526  5.66642669 5.13579844 5.34233425\n",
      " 5.7365723  5.3082677  5.40717177 5.30330491 5.69709349 5.48479693\n",
      " 4.62497281 5.78689738 5.32300998 4.9698133  5.36597602 6.17586727\n",
      " 4.7095302  5.6347896  4.8598124  5.11198779 5.43807931 5.19849703\n",
      " 5.27811466 5.48063892 5.35185813 5.170484   5.37063803 5.83481074\n",
      " 5.71373281 5.81114099 4.99721227 6.06610809 5.81413053 5.62401751\n",
      " 5.50938834 5.45103845 5.51342875 5.47227067 5.68697536 5.19295685\n",
      " 5.07517382 5.85220248 5.75257264 5.14166356 5.27299956 4.96284463\n",
      " 5.54517744 6.03548143 5.23644196 5.44241771 5.96357934 5.69373214\n",
      " 5.60580207 6.44571982 5.33753808 5.6094718  5.7651911  5.87211779\n",
      " 5.12989871 6.10479323 5.54907608 5.85793315 5.4161004  5.78074352\n",
      " 5.35658627 5.50125821 5.47646355 5.77144112 5.420535   5.24702407\n",
      " 5.42495002 5.768321   6.00141488 5.61312811 6.05208917 5.32787617\n",
      " 5.37989735 5.73009978 5.64190707 5.37527841 5.72031178 5.5174529\n",
      " 5.53338949 5.22035583 5.49716823 4.94875989 6.41017488 5.70378247\n",
      " 5.69035945 6.02102335 5.28826703 5.58724866 5.52942909 5.82894562\n",
      " 6.13122649 5.5683445  6.01371516 5.97380961 5.66988092 5.5759491\n",
      " 5.7235851  5.38907173 5.65248918 5.26269019 6.02827852 5.05624581\n",
      " 5.66296048 6.23636959 5.77455155 6.11368218 5.57215403]\n"
     ]
    }
   ],
   "source": [
    "for col in train_df.columns:\n",
    "    print(f\"Column: {col}\")\n",
    "    print(train_df[col].unique())"
   ]
  },
  {
   "cell_type": "markdown",
   "metadata": {},
   "source": [
    "Logic for feature engineering: \n",
    "\n",
    "Text (name) of the listing could provide useful information on the how descriptions / names impact the engagement via marketing phrases; for example the popularity of attracting customers for listing (thus inspiring reviews). Use Count Vectorizerto convert into vectors.\n",
    "\n",
    "As neighborhood group only includes 5 distinct groups, one-hot encode. \n",
    "As room_type only includes 3 distinct groups, one-hot encode. \n",
    "Neighborhood should also be one-hot encoded.\n",
    "\n",
    "As geographic information has a correlation with the number of reviews per month, it would be helpful to use a distance-based metric to allow greater contextualization. By themselves, raw latitude and longitude values encode precise location but do not express regional similarity or local density. By applying nearest neighbors on the latitude and longitude, we can determine the local density of neighbors surrounding a listing that could indicate denser traffic and high-demand, thus leading to a larger number of reviews.\n",
    "new feature = ['local_density'] = densities \n",
    "\n",
    "Due to the heavy skew of values toward the right, and the number of 0 listing data points, it would be helpful to apply a log transformation on the number_of_reviews using np.log1 (Credit: Piazza post question @363). Appropriate as handles the zero values safely without losing contextualization. We do not want to log transform the reviews_per_month because it is the target and the model should learn its direct values; as well application of error metrics of different scale introduces risk and lack of interpretability. \n",
    "\n",
    "It would be helpful to standardize the number of days for availability_365 in order to contextualize the scale from 0 to 365.\n",
    "\n",
    "We can engineer a new feature that directly translates to recency and whether this was able to inspire more bookings and reviews on an existing listing by using a \"days_since_most_recent_review\" calculated from the current day. \n",
    "\n",
    "We use host_id and id as passthrough features in case of identification of sample during analysis stage.\n",
    "\n",
    "For the imputation strategy, we use median as it is less sensitive to outliers, as the "
   ]
  },
  {
   "cell_type": "code",
   "execution_count": 58,
   "metadata": {},
   "outputs": [
    {
     "data": {
      "text/html": [
       "<div>\n",
       "<style scoped>\n",
       "    .dataframe tbody tr th:only-of-type {\n",
       "        vertical-align: middle;\n",
       "    }\n",
       "\n",
       "    .dataframe tbody tr th {\n",
       "        vertical-align: top;\n",
       "    }\n",
       "\n",
       "    .dataframe thead th {\n",
       "        text-align: right;\n",
       "    }\n",
       "</style>\n",
       "<table border=\"1\" class=\"dataframe\">\n",
       "  <thead>\n",
       "    <tr style=\"text-align: right;\">\n",
       "      <th></th>\n",
       "      <th>latitude</th>\n",
       "      <th>longitude</th>\n",
       "      <th>local_density</th>\n",
       "    </tr>\n",
       "  </thead>\n",
       "  <tbody>\n",
       "    <tr>\n",
       "      <th>13505</th>\n",
       "      <td>40.69802</td>\n",
       "      <td>-73.91472</td>\n",
       "      <td>114</td>\n",
       "    </tr>\n",
       "    <tr>\n",
       "      <th>8615</th>\n",
       "      <td>40.76482</td>\n",
       "      <td>-73.92514</td>\n",
       "      <td>100</td>\n",
       "    </tr>\n",
       "    <tr>\n",
       "      <th>37060</th>\n",
       "      <td>40.69304</td>\n",
       "      <td>-73.94349</td>\n",
       "      <td>170</td>\n",
       "    </tr>\n",
       "    <tr>\n",
       "      <th>30742</th>\n",
       "      <td>40.70484</td>\n",
       "      <td>-73.92117</td>\n",
       "      <td>176</td>\n",
       "    </tr>\n",
       "    <tr>\n",
       "      <th>20356</th>\n",
       "      <td>40.70040</td>\n",
       "      <td>-73.91934</td>\n",
       "      <td>181</td>\n",
       "    </tr>\n",
       "  </tbody>\n",
       "</table>\n",
       "</div>"
      ],
      "text/plain": [
       "       latitude  longitude  local_density\n",
       "13505  40.69802  -73.91472            114\n",
       "8615   40.76482  -73.92514            100\n",
       "37060  40.69304  -73.94349            170\n",
       "30742  40.70484  -73.92117            176\n",
       "20356  40.70040  -73.91934            181"
      ]
     },
     "execution_count": 58,
     "metadata": {},
     "output_type": "execute_result"
    }
   ],
   "source": [
    "from sklearn.neighbors import NearestNeighbors\n",
    "import numpy as np\n",
    "\n",
    "coords = train_df[['latitude', 'longitude']].values\n",
    "\n",
    "\n",
    "nbrs = NearestNeighbors(radius=0.005)  # we use a radius of 0.005 degreees, which is approximately 500m\n",
    "nbrs.fit(coords)\n",
    "densities = np.array([len(nbrs.radius_neighbors([point], radius=0.005, return_distance=False)[0]) \n",
    "                      for point in coords])\n",
    "\n",
    "train_df['local_density'] = densities\n",
    "train_df['days_since_last_review'] = (pd.Timestamp.today() - train_df['last_review']).dt.days\n",
    "train_df[['latitude', 'longitude', 'local_density']].head()"
   ]
  },
  {
   "cell_type": "code",
   "execution_count": 59,
   "metadata": {},
   "outputs": [
    {
     "data": {
      "text/plain": [
       "count    19558.000000\n",
       "mean       138.808058\n",
       "std         97.979072\n",
       "min          1.000000\n",
       "25%         64.000000\n",
       "50%        128.000000\n",
       "75%        193.000000\n",
       "max        487.000000\n",
       "Name: local_density, dtype: float64"
      ]
     },
     "execution_count": 59,
     "metadata": {},
     "output_type": "execute_result"
    }
   ],
   "source": [
    "\n",
    "train_df['local_density'].describe()"
   ]
  },
  {
   "cell_type": "code",
   "execution_count": 60,
   "metadata": {},
   "outputs": [],
   "source": [
    "train_df['number_of_reviews_log'] = np.log1p(train_df['number_of_reviews'])"
   ]
  },
  {
   "cell_type": "code",
   "execution_count": 61,
   "metadata": {},
   "outputs": [
    {
     "data": {
      "text/plain": [
       "212"
      ]
     },
     "execution_count": 61,
     "metadata": {},
     "output_type": "execute_result"
    }
   ],
   "source": [
    "len(train_df['neighbourhood'].unique())"
   ]
  },
  {
   "cell_type": "code",
   "execution_count": 62,
   "metadata": {},
   "outputs": [
    {
     "data": {
      "text/html": [
       "<div>\n",
       "<style scoped>\n",
       "    .dataframe tbody tr th:only-of-type {\n",
       "        vertical-align: middle;\n",
       "    }\n",
       "\n",
       "    .dataframe tbody tr th {\n",
       "        vertical-align: top;\n",
       "    }\n",
       "\n",
       "    .dataframe thead th {\n",
       "        text-align: right;\n",
       "    }\n",
       "</style>\n",
       "<table border=\"1\" class=\"dataframe\">\n",
       "  <thead>\n",
       "    <tr style=\"text-align: right;\">\n",
       "      <th></th>\n",
       "      <th>id</th>\n",
       "      <th>name</th>\n",
       "      <th>host_id</th>\n",
       "      <th>host_name</th>\n",
       "      <th>neighbourhood_group</th>\n",
       "      <th>neighbourhood</th>\n",
       "      <th>latitude</th>\n",
       "      <th>longitude</th>\n",
       "      <th>room_type</th>\n",
       "      <th>price</th>\n",
       "      <th>minimum_nights</th>\n",
       "      <th>number_of_reviews</th>\n",
       "      <th>last_review</th>\n",
       "      <th>reviews_per_month</th>\n",
       "      <th>calculated_host_listings_count</th>\n",
       "      <th>availability_365</th>\n",
       "      <th>local_density</th>\n",
       "      <th>days_since_last_review</th>\n",
       "      <th>number_of_reviews_log</th>\n",
       "    </tr>\n",
       "  </thead>\n",
       "  <tbody>\n",
       "    <tr>\n",
       "      <th>13505</th>\n",
       "      <td>10104806</td>\n",
       "      <td>Spacious and cozy room!</td>\n",
       "      <td>11095923</td>\n",
       "      <td>Tobias</td>\n",
       "      <td>Brooklyn</td>\n",
       "      <td>Bushwick</td>\n",
       "      <td>40.69802</td>\n",
       "      <td>-73.91472</td>\n",
       "      <td>Private room</td>\n",
       "      <td>40</td>\n",
       "      <td>1</td>\n",
       "      <td>0</td>\n",
       "      <td>NaT</td>\n",
       "      <td>NaN</td>\n",
       "      <td>3</td>\n",
       "      <td>0</td>\n",
       "      <td>114</td>\n",
       "      <td>NaN</td>\n",
       "      <td>0.000000</td>\n",
       "    </tr>\n",
       "    <tr>\n",
       "      <th>8615</th>\n",
       "      <td>6627553</td>\n",
       "      <td>MODERN LOFT  3 STOPS TO MANHATTAN!!</td>\n",
       "      <td>16941743</td>\n",
       "      <td>Ernesto</td>\n",
       "      <td>Queens</td>\n",
       "      <td>Astoria</td>\n",
       "      <td>40.76482</td>\n",
       "      <td>-73.92514</td>\n",
       "      <td>Private room</td>\n",
       "      <td>40</td>\n",
       "      <td>2</td>\n",
       "      <td>36</td>\n",
       "      <td>2017-09-16</td>\n",
       "      <td>0.73</td>\n",
       "      <td>1</td>\n",
       "      <td>0</td>\n",
       "      <td>100</td>\n",
       "      <td>2963.0</td>\n",
       "      <td>3.610918</td>\n",
       "    </tr>\n",
       "    <tr>\n",
       "      <th>37060</th>\n",
       "      <td>29460203</td>\n",
       "      <td>Charming Room with 2 Beds Near Metro</td>\n",
       "      <td>105386434</td>\n",
       "      <td>Felix Lion</td>\n",
       "      <td>Brooklyn</td>\n",
       "      <td>Bedford-Stuyvesant</td>\n",
       "      <td>40.69304</td>\n",
       "      <td>-73.94349</td>\n",
       "      <td>Private room</td>\n",
       "      <td>72</td>\n",
       "      <td>2</td>\n",
       "      <td>15</td>\n",
       "      <td>2019-06-23</td>\n",
       "      <td>1.77</td>\n",
       "      <td>3</td>\n",
       "      <td>365</td>\n",
       "      <td>170</td>\n",
       "      <td>2318.0</td>\n",
       "      <td>2.772589</td>\n",
       "    </tr>\n",
       "    <tr>\n",
       "      <th>30742</th>\n",
       "      <td>23789466</td>\n",
       "      <td>Cozy Mid Century Modern Studio 15 min to Manha...</td>\n",
       "      <td>178507107</td>\n",
       "      <td>Alyssa</td>\n",
       "      <td>Brooklyn</td>\n",
       "      <td>Bushwick</td>\n",
       "      <td>40.70484</td>\n",
       "      <td>-73.92117</td>\n",
       "      <td>Entire home/apt</td>\n",
       "      <td>100</td>\n",
       "      <td>2</td>\n",
       "      <td>7</td>\n",
       "      <td>2018-04-29</td>\n",
       "      <td>0.45</td>\n",
       "      <td>1</td>\n",
       "      <td>0</td>\n",
       "      <td>176</td>\n",
       "      <td>2738.0</td>\n",
       "      <td>2.079442</td>\n",
       "    </tr>\n",
       "    <tr>\n",
       "      <th>20356</th>\n",
       "      <td>16258754</td>\n",
       "      <td>Cozy Modern Bedroom In A Newly Updated Apt</td>\n",
       "      <td>8091133</td>\n",
       "      <td>Daniel</td>\n",
       "      <td>Brooklyn</td>\n",
       "      <td>Bushwick</td>\n",
       "      <td>40.70040</td>\n",
       "      <td>-73.91934</td>\n",
       "      <td>Private room</td>\n",
       "      <td>40</td>\n",
       "      <td>2</td>\n",
       "      <td>0</td>\n",
       "      <td>NaT</td>\n",
       "      <td>NaN</td>\n",
       "      <td>1</td>\n",
       "      <td>0</td>\n",
       "      <td>181</td>\n",
       "      <td>NaN</td>\n",
       "      <td>0.000000</td>\n",
       "    </tr>\n",
       "    <tr>\n",
       "      <th>...</th>\n",
       "      <td>...</td>\n",
       "      <td>...</td>\n",
       "      <td>...</td>\n",
       "      <td>...</td>\n",
       "      <td>...</td>\n",
       "      <td>...</td>\n",
       "      <td>...</td>\n",
       "      <td>...</td>\n",
       "      <td>...</td>\n",
       "      <td>...</td>\n",
       "      <td>...</td>\n",
       "      <td>...</td>\n",
       "      <td>...</td>\n",
       "      <td>...</td>\n",
       "      <td>...</td>\n",
       "      <td>...</td>\n",
       "      <td>...</td>\n",
       "      <td>...</td>\n",
       "      <td>...</td>\n",
       "    </tr>\n",
       "    <tr>\n",
       "      <th>7763</th>\n",
       "      <td>5885201</td>\n",
       "      <td>SUNNY ROOM A IN CHARMING AREA :)</td>\n",
       "      <td>4291007</td>\n",
       "      <td>Graham And Ben</td>\n",
       "      <td>Brooklyn</td>\n",
       "      <td>Bedford-Stuyvesant</td>\n",
       "      <td>40.69363</td>\n",
       "      <td>-73.95980</td>\n",
       "      <td>Private room</td>\n",
       "      <td>95</td>\n",
       "      <td>30</td>\n",
       "      <td>40</td>\n",
       "      <td>2019-06-01</td>\n",
       "      <td>0.80</td>\n",
       "      <td>11</td>\n",
       "      <td>331</td>\n",
       "      <td>118</td>\n",
       "      <td>2340.0</td>\n",
       "      <td>3.713572</td>\n",
       "    </tr>\n",
       "    <tr>\n",
       "      <th>15377</th>\n",
       "      <td>12325045</td>\n",
       "      <td>IDEAL One bedroom apt by Central Park!</td>\n",
       "      <td>66501870</td>\n",
       "      <td>K Alexandra</td>\n",
       "      <td>Manhattan</td>\n",
       "      <td>Midtown</td>\n",
       "      <td>40.76016</td>\n",
       "      <td>-73.96910</td>\n",
       "      <td>Entire home/apt</td>\n",
       "      <td>139</td>\n",
       "      <td>2</td>\n",
       "      <td>132</td>\n",
       "      <td>2019-06-30</td>\n",
       "      <td>3.66</td>\n",
       "      <td>1</td>\n",
       "      <td>154</td>\n",
       "      <td>96</td>\n",
       "      <td>2311.0</td>\n",
       "      <td>4.890349</td>\n",
       "    </tr>\n",
       "    <tr>\n",
       "      <th>17730</th>\n",
       "      <td>13915004</td>\n",
       "      <td>Sunlit, spacious NY apartment</td>\n",
       "      <td>7177483</td>\n",
       "      <td>Dani</td>\n",
       "      <td>Manhattan</td>\n",
       "      <td>Harlem</td>\n",
       "      <td>40.80380</td>\n",
       "      <td>-73.95569</td>\n",
       "      <td>Entire home/apt</td>\n",
       "      <td>250</td>\n",
       "      <td>3</td>\n",
       "      <td>10</td>\n",
       "      <td>2019-01-01</td>\n",
       "      <td>0.28</td>\n",
       "      <td>1</td>\n",
       "      <td>0</td>\n",
       "      <td>177</td>\n",
       "      <td>2491.0</td>\n",
       "      <td>2.397895</td>\n",
       "    </tr>\n",
       "    <tr>\n",
       "      <th>28030</th>\n",
       "      <td>21897845</td>\n",
       "      <td>One room.</td>\n",
       "      <td>159769278</td>\n",
       "      <td>Musieka</td>\n",
       "      <td>Bronx</td>\n",
       "      <td>Pelham Gardens</td>\n",
       "      <td>40.86706</td>\n",
       "      <td>-73.84674</td>\n",
       "      <td>Private room</td>\n",
       "      <td>40</td>\n",
       "      <td>2</td>\n",
       "      <td>17</td>\n",
       "      <td>2019-06-04</td>\n",
       "      <td>1.23</td>\n",
       "      <td>1</td>\n",
       "      <td>17</td>\n",
       "      <td>4</td>\n",
       "      <td>2337.0</td>\n",
       "      <td>2.890372</td>\n",
       "    </tr>\n",
       "    <tr>\n",
       "      <th>15725</th>\n",
       "      <td>12711351</td>\n",
       "      <td>Cozy Private Room w/ 1 Queen Bed</td>\n",
       "      <td>65809485</td>\n",
       "      <td>Shirley</td>\n",
       "      <td>Queens</td>\n",
       "      <td>Flushing</td>\n",
       "      <td>40.74807</td>\n",
       "      <td>-73.82775</td>\n",
       "      <td>Private room</td>\n",
       "      <td>40</td>\n",
       "      <td>7</td>\n",
       "      <td>102</td>\n",
       "      <td>2019-04-29</td>\n",
       "      <td>2.73</td>\n",
       "      <td>12</td>\n",
       "      <td>105</td>\n",
       "      <td>10</td>\n",
       "      <td>2373.0</td>\n",
       "      <td>4.634729</td>\n",
       "    </tr>\n",
       "  </tbody>\n",
       "</table>\n",
       "<p>19558 rows × 19 columns</p>\n",
       "</div>"
      ],
      "text/plain": [
       "             id                                               name    host_id  \\\n",
       "13505  10104806                            Spacious and cozy room!   11095923   \n",
       "8615    6627553                MODERN LOFT  3 STOPS TO MANHATTAN!!   16941743   \n",
       "37060  29460203               Charming Room with 2 Beds Near Metro  105386434   \n",
       "30742  23789466  Cozy Mid Century Modern Studio 15 min to Manha...  178507107   \n",
       "20356  16258754         Cozy Modern Bedroom In A Newly Updated Apt    8091133   \n",
       "...         ...                                                ...        ...   \n",
       "7763    5885201                   SUNNY ROOM A IN CHARMING AREA :)    4291007   \n",
       "15377  12325045             IDEAL One bedroom apt by Central Park!   66501870   \n",
       "17730  13915004                      Sunlit, spacious NY apartment    7177483   \n",
       "28030  21897845                                          One room.  159769278   \n",
       "15725  12711351                   Cozy Private Room w/ 1 Queen Bed   65809485   \n",
       "\n",
       "            host_name neighbourhood_group       neighbourhood  latitude  \\\n",
       "13505          Tobias            Brooklyn            Bushwick  40.69802   \n",
       "8615          Ernesto              Queens             Astoria  40.76482   \n",
       "37060      Felix Lion            Brooklyn  Bedford-Stuyvesant  40.69304   \n",
       "30742          Alyssa            Brooklyn            Bushwick  40.70484   \n",
       "20356          Daniel            Brooklyn            Bushwick  40.70040   \n",
       "...               ...                 ...                 ...       ...   \n",
       "7763   Graham And Ben            Brooklyn  Bedford-Stuyvesant  40.69363   \n",
       "15377     K Alexandra           Manhattan             Midtown  40.76016   \n",
       "17730            Dani           Manhattan              Harlem  40.80380   \n",
       "28030         Musieka               Bronx      Pelham Gardens  40.86706   \n",
       "15725         Shirley              Queens            Flushing  40.74807   \n",
       "\n",
       "       longitude        room_type  price  minimum_nights  number_of_reviews  \\\n",
       "13505  -73.91472     Private room     40               1                  0   \n",
       "8615   -73.92514     Private room     40               2                 36   \n",
       "37060  -73.94349     Private room     72               2                 15   \n",
       "30742  -73.92117  Entire home/apt    100               2                  7   \n",
       "20356  -73.91934     Private room     40               2                  0   \n",
       "...          ...              ...    ...             ...                ...   \n",
       "7763   -73.95980     Private room     95              30                 40   \n",
       "15377  -73.96910  Entire home/apt    139               2                132   \n",
       "17730  -73.95569  Entire home/apt    250               3                 10   \n",
       "28030  -73.84674     Private room     40               2                 17   \n",
       "15725  -73.82775     Private room     40               7                102   \n",
       "\n",
       "      last_review  reviews_per_month  calculated_host_listings_count  \\\n",
       "13505         NaT                NaN                               3   \n",
       "8615   2017-09-16               0.73                               1   \n",
       "37060  2019-06-23               1.77                               3   \n",
       "30742  2018-04-29               0.45                               1   \n",
       "20356         NaT                NaN                               1   \n",
       "...           ...                ...                             ...   \n",
       "7763   2019-06-01               0.80                              11   \n",
       "15377  2019-06-30               3.66                               1   \n",
       "17730  2019-01-01               0.28                               1   \n",
       "28030  2019-06-04               1.23                               1   \n",
       "15725  2019-04-29               2.73                              12   \n",
       "\n",
       "       availability_365  local_density  days_since_last_review  \\\n",
       "13505                 0            114                     NaN   \n",
       "8615                  0            100                  2963.0   \n",
       "37060               365            170                  2318.0   \n",
       "30742                 0            176                  2738.0   \n",
       "20356                 0            181                     NaN   \n",
       "...                 ...            ...                     ...   \n",
       "7763                331            118                  2340.0   \n",
       "15377               154             96                  2311.0   \n",
       "17730                 0            177                  2491.0   \n",
       "28030                17              4                  2337.0   \n",
       "15725               105             10                  2373.0   \n",
       "\n",
       "       number_of_reviews_log  \n",
       "13505               0.000000  \n",
       "8615                3.610918  \n",
       "37060               2.772589  \n",
       "30742               2.079442  \n",
       "20356               0.000000  \n",
       "...                      ...  \n",
       "7763                3.713572  \n",
       "15377               4.890349  \n",
       "17730               2.397895  \n",
       "28030               2.890372  \n",
       "15725               4.634729  \n",
       "\n",
       "[19558 rows x 19 columns]"
      ]
     },
     "execution_count": 62,
     "metadata": {},
     "output_type": "execute_result"
    }
   ],
   "source": [
    "train_df"
   ]
  },
  {
   "cell_type": "code",
   "execution_count": 63,
   "metadata": {},
   "outputs": [],
   "source": [
    "X_train = train_df"
   ]
  },
  {
   "cell_type": "markdown",
   "metadata": {
    "deletable": false,
    "editable": false
   },
   "source": [
    "<!-- END QUESTION -->\n",
    "\n",
    "<br><br>"
   ]
  },
  {
   "cell_type": "markdown",
   "metadata": {
    "deletable": false,
    "editable": false
   },
   "source": [
    "<!-- BEGIN QUESTION -->\n",
    "\n",
    "## 5. Preprocessing and transformations\n",
    "<hr>\n",
    "rubric={points:10}\n",
    "\n",
    "<div class=\"alert alert-info\">\n",
    "    \n",
    "**Your tasks:**\n",
    "\n",
    "1. **Identify feature types**: Determine the different types of features in your dataset (e.g., numerical, categorical, ordinal, text) and specify the transformations you would apply to each type.\n",
    "\n",
    "2. **Define a column transformer (if needed)**: Implement a `ColumnTransformer` to apply the appropriate preprocessing steps to each feature type.\n",
    " \n",
    "</div>"
   ]
  },
  {
   "cell_type": "markdown",
   "metadata": {
    "deletable": false,
    "editable": false
   },
   "source": [
    "<div class=\"alert alert-warning\">\n",
    "    \n",
    "Solution_5\n",
    "    \n",
    "</div>\n",
    "\n",
    "_Points:_ 10"
   ]
  },
  {
   "cell_type": "code",
   "execution_count": 64,
   "metadata": {
    "tags": [
     "otter_answer_cell"
    ]
   },
   "outputs": [],
   "source": [
    "text_features = ['name']\n",
    "\n",
    "categorical_features = ['neighbourhood_group', 'room_type']\n",
    "\n",
    "numerical_features = [\n",
    "    'latitude', 'longitude', 'minimum_nights', \n",
    "    'number_of_reviews_log',\n",
    "    'calculated_host_listings_count', 'availability_365', 'local_density'\n",
    "]\n",
    "\n",
    "passthrough_features = [\"id\", \"host_id\"]"
   ]
  },
  {
   "cell_type": "code",
   "execution_count": 65,
   "metadata": {
    "tags": [
     "otter_answer_cell"
    ]
   },
   "outputs": [],
   "source": [
    "from sklearn.compose import ColumnTransformer\n",
    "from sklearn.impute import SimpleImputer\n",
    "from sklearn.preprocessing import OneHotEncoder, FunctionTransformer, StandardScaler\n",
    "from sklearn.pipeline import make_pipeline\n",
    "from sklearn.feature_extraction.text import CountVectorizer\n",
    "import numpy as np\n",
    "\n",
    "countvec = CountVectorizer(stop_words=\"english\", ngram_range=(1,2), max_features=100)\n",
    "\n",
    "text_features = ['name']\n",
    "\n",
    "categorical_features = ['neighbourhood_group', 'room_type', 'neighbourhood']\n",
    "\n",
    "# numerical columns\n",
    "numerical_features = [\n",
    "    'latitude', 'longitude', 'minimum_nights',\n",
    "    'number_of_reviews_log',\n",
    "    'calculated_host_listings_count',\n",
    "    'local_density', 'availability_365', 'price'\n",
    "] \n",
    "\n",
    "\n",
    "# feature to impute with 0\n",
    "zero_impute_feature = ['days_since_last_review']\n",
    "\n",
    "\n",
    "preprocessor = ColumnTransformer(\n",
    "    transformers=[\n",
    "        ('numerical', make_pipeline(\n",
    "            SimpleImputer(strategy='median'),\n",
    "            StandardScaler()\n",
    "        ), numerical_features),\n",
    "\n",
    "        # Impute 0 for days_since_last_review\n",
    "        ('days_since_last_review', make_pipeline(\n",
    "            SimpleImputer(strategy='constant', fill_value=0),\n",
    "            StandardScaler()\n",
    "        ), zero_impute_feature),\n",
    "\n",
    "        ('categorical', OneHotEncoder(handle_unknown='ignore'), categorical_features),\n",
    "\n",
    "        ('text', make_pipeline(\n",
    "            SimpleImputer(strategy='constant', fill_value=''),\n",
    "            FunctionTransformer(lambda x: np.ravel(x)),\n",
    "            CountVectorizer(max_features = 200, stop_words=\"english\", ngram_range=(1, 3))\n",
    "        ), text_features),\n",
    "    ],\n",
    "    remainder='drop'  \n",
    ")"
   ]
  },
  {
   "cell_type": "markdown",
   "metadata": {},
   "source": [
    "We drop 'last_review', 'host_id' and 'id' due to the redundancy of the last review on the overall review counts in terms of recency (we already have days_since_most_recent_review engineered) and the latter two features having no semantic value for the number of reviews. Note: these could also be listed as passthrough features"
   ]
  },
  {
   "cell_type": "code",
   "execution_count": 66,
   "metadata": {},
   "outputs": [
    {
     "data": {
      "text/html": [
       "<div>\n",
       "<style scoped>\n",
       "    .dataframe tbody tr th:only-of-type {\n",
       "        vertical-align: middle;\n",
       "    }\n",
       "\n",
       "    .dataframe tbody tr th {\n",
       "        vertical-align: top;\n",
       "    }\n",
       "\n",
       "    .dataframe thead th {\n",
       "        text-align: right;\n",
       "    }\n",
       "</style>\n",
       "<table border=\"1\" class=\"dataframe\">\n",
       "  <thead>\n",
       "    <tr style=\"text-align: right;\">\n",
       "      <th></th>\n",
       "      <th>id</th>\n",
       "      <th>name</th>\n",
       "      <th>host_id</th>\n",
       "      <th>host_name</th>\n",
       "      <th>neighbourhood_group</th>\n",
       "      <th>neighbourhood</th>\n",
       "      <th>latitude</th>\n",
       "      <th>longitude</th>\n",
       "      <th>room_type</th>\n",
       "      <th>price</th>\n",
       "      <th>minimum_nights</th>\n",
       "      <th>number_of_reviews</th>\n",
       "      <th>last_review</th>\n",
       "      <th>reviews_per_month</th>\n",
       "      <th>calculated_host_listings_count</th>\n",
       "      <th>availability_365</th>\n",
       "      <th>local_density</th>\n",
       "      <th>days_since_last_review</th>\n",
       "      <th>number_of_reviews_log</th>\n",
       "    </tr>\n",
       "  </thead>\n",
       "  <tbody>\n",
       "    <tr>\n",
       "      <th>13505</th>\n",
       "      <td>10104806</td>\n",
       "      <td>Spacious and cozy room!</td>\n",
       "      <td>11095923</td>\n",
       "      <td>Tobias</td>\n",
       "      <td>Brooklyn</td>\n",
       "      <td>Bushwick</td>\n",
       "      <td>40.69802</td>\n",
       "      <td>-73.91472</td>\n",
       "      <td>Private room</td>\n",
       "      <td>40</td>\n",
       "      <td>1</td>\n",
       "      <td>0</td>\n",
       "      <td>NaT</td>\n",
       "      <td>NaN</td>\n",
       "      <td>3</td>\n",
       "      <td>0</td>\n",
       "      <td>114</td>\n",
       "      <td>NaN</td>\n",
       "      <td>0.000000</td>\n",
       "    </tr>\n",
       "    <tr>\n",
       "      <th>8615</th>\n",
       "      <td>6627553</td>\n",
       "      <td>MODERN LOFT  3 STOPS TO MANHATTAN!!</td>\n",
       "      <td>16941743</td>\n",
       "      <td>Ernesto</td>\n",
       "      <td>Queens</td>\n",
       "      <td>Astoria</td>\n",
       "      <td>40.76482</td>\n",
       "      <td>-73.92514</td>\n",
       "      <td>Private room</td>\n",
       "      <td>40</td>\n",
       "      <td>2</td>\n",
       "      <td>36</td>\n",
       "      <td>2017-09-16</td>\n",
       "      <td>0.73</td>\n",
       "      <td>1</td>\n",
       "      <td>0</td>\n",
       "      <td>100</td>\n",
       "      <td>2963.0</td>\n",
       "      <td>3.610918</td>\n",
       "    </tr>\n",
       "    <tr>\n",
       "      <th>37060</th>\n",
       "      <td>29460203</td>\n",
       "      <td>Charming Room with 2 Beds Near Metro</td>\n",
       "      <td>105386434</td>\n",
       "      <td>Felix Lion</td>\n",
       "      <td>Brooklyn</td>\n",
       "      <td>Bedford-Stuyvesant</td>\n",
       "      <td>40.69304</td>\n",
       "      <td>-73.94349</td>\n",
       "      <td>Private room</td>\n",
       "      <td>72</td>\n",
       "      <td>2</td>\n",
       "      <td>15</td>\n",
       "      <td>2019-06-23</td>\n",
       "      <td>1.77</td>\n",
       "      <td>3</td>\n",
       "      <td>365</td>\n",
       "      <td>170</td>\n",
       "      <td>2318.0</td>\n",
       "      <td>2.772589</td>\n",
       "    </tr>\n",
       "    <tr>\n",
       "      <th>30742</th>\n",
       "      <td>23789466</td>\n",
       "      <td>Cozy Mid Century Modern Studio 15 min to Manha...</td>\n",
       "      <td>178507107</td>\n",
       "      <td>Alyssa</td>\n",
       "      <td>Brooklyn</td>\n",
       "      <td>Bushwick</td>\n",
       "      <td>40.70484</td>\n",
       "      <td>-73.92117</td>\n",
       "      <td>Entire home/apt</td>\n",
       "      <td>100</td>\n",
       "      <td>2</td>\n",
       "      <td>7</td>\n",
       "      <td>2018-04-29</td>\n",
       "      <td>0.45</td>\n",
       "      <td>1</td>\n",
       "      <td>0</td>\n",
       "      <td>176</td>\n",
       "      <td>2738.0</td>\n",
       "      <td>2.079442</td>\n",
       "    </tr>\n",
       "    <tr>\n",
       "      <th>20356</th>\n",
       "      <td>16258754</td>\n",
       "      <td>Cozy Modern Bedroom In A Newly Updated Apt</td>\n",
       "      <td>8091133</td>\n",
       "      <td>Daniel</td>\n",
       "      <td>Brooklyn</td>\n",
       "      <td>Bushwick</td>\n",
       "      <td>40.70040</td>\n",
       "      <td>-73.91934</td>\n",
       "      <td>Private room</td>\n",
       "      <td>40</td>\n",
       "      <td>2</td>\n",
       "      <td>0</td>\n",
       "      <td>NaT</td>\n",
       "      <td>NaN</td>\n",
       "      <td>1</td>\n",
       "      <td>0</td>\n",
       "      <td>181</td>\n",
       "      <td>NaN</td>\n",
       "      <td>0.000000</td>\n",
       "    </tr>\n",
       "  </tbody>\n",
       "</table>\n",
       "</div>"
      ],
      "text/plain": [
       "             id                                               name    host_id  \\\n",
       "13505  10104806                            Spacious and cozy room!   11095923   \n",
       "8615    6627553                MODERN LOFT  3 STOPS TO MANHATTAN!!   16941743   \n",
       "37060  29460203               Charming Room with 2 Beds Near Metro  105386434   \n",
       "30742  23789466  Cozy Mid Century Modern Studio 15 min to Manha...  178507107   \n",
       "20356  16258754         Cozy Modern Bedroom In A Newly Updated Apt    8091133   \n",
       "\n",
       "        host_name neighbourhood_group       neighbourhood  latitude  \\\n",
       "13505      Tobias            Brooklyn            Bushwick  40.69802   \n",
       "8615      Ernesto              Queens             Astoria  40.76482   \n",
       "37060  Felix Lion            Brooklyn  Bedford-Stuyvesant  40.69304   \n",
       "30742      Alyssa            Brooklyn            Bushwick  40.70484   \n",
       "20356      Daniel            Brooklyn            Bushwick  40.70040   \n",
       "\n",
       "       longitude        room_type  price  minimum_nights  number_of_reviews  \\\n",
       "13505  -73.91472     Private room     40               1                  0   \n",
       "8615   -73.92514     Private room     40               2                 36   \n",
       "37060  -73.94349     Private room     72               2                 15   \n",
       "30742  -73.92117  Entire home/apt    100               2                  7   \n",
       "20356  -73.91934     Private room     40               2                  0   \n",
       "\n",
       "      last_review  reviews_per_month  calculated_host_listings_count  \\\n",
       "13505         NaT                NaN                               3   \n",
       "8615   2017-09-16               0.73                               1   \n",
       "37060  2019-06-23               1.77                               3   \n",
       "30742  2018-04-29               0.45                               1   \n",
       "20356         NaT                NaN                               1   \n",
       "\n",
       "       availability_365  local_density  days_since_last_review  \\\n",
       "13505                 0            114                     NaN   \n",
       "8615                  0            100                  2963.0   \n",
       "37060               365            170                  2318.0   \n",
       "30742                 0            176                  2738.0   \n",
       "20356                 0            181                     NaN   \n",
       "\n",
       "       number_of_reviews_log  \n",
       "13505               0.000000  \n",
       "8615                3.610918  \n",
       "37060               2.772589  \n",
       "30742               2.079442  \n",
       "20356               0.000000  "
      ]
     },
     "execution_count": 66,
     "metadata": {},
     "output_type": "execute_result"
    }
   ],
   "source": [
    "train_df.head()"
   ]
  },
  {
   "cell_type": "code",
   "execution_count": 67,
   "metadata": {},
   "outputs": [],
   "source": [
    "X_train = train_df.drop(columns=[\"reviews_per_month\", \"host_id\", \"id\"])\n",
    "y_train = train_df[\"reviews_per_month\"]\n",
    "\n",
    "X_test = test_df.drop(columns=[\"reviews_per_month\", \"host_id\", \"id\"])\n",
    "y_test = test_df[\"reviews_per_month\"]"
   ]
  },
  {
   "cell_type": "code",
   "execution_count": 68,
   "metadata": {},
   "outputs": [
    {
     "data": {
      "text/plain": [
       "13505     NaN\n",
       "8615     0.73\n",
       "37060    1.77\n",
       "30742    0.45\n",
       "20356     NaN\n",
       "         ... \n",
       "7763     0.80\n",
       "15377    3.66\n",
       "17730    0.28\n",
       "28030    1.23\n",
       "15725    2.73\n",
       "Name: reviews_per_month, Length: 19558, dtype: float64"
      ]
     },
     "execution_count": 68,
     "metadata": {},
     "output_type": "execute_result"
    }
   ],
   "source": [
    "y_train"
   ]
  },
  {
   "cell_type": "code",
   "execution_count": 69,
   "metadata": {},
   "outputs": [
    {
     "name": "stdout",
     "output_type": "stream",
     "text": [
      "['latitude', 'longitude', 'price', 'minimum_nights', 'number_of_reviews', 'calculated_host_listings_count', 'availability_365', 'local_density', 'days_since_last_review', 'number_of_reviews_log']\n"
     ]
    }
   ],
   "source": [
    "numeric_looking_columns = X_train.select_dtypes(include=np.number).columns.tolist()\n",
    "print(numeric_looking_columns)"
   ]
  },
  {
   "cell_type": "code",
   "execution_count": 70,
   "metadata": {},
   "outputs": [],
   "source": [
    "y_train = y_train.fillna(0)\n",
    "y_test = y_test.fillna(0)"
   ]
  },
  {
   "cell_type": "code",
   "execution_count": 71,
   "metadata": {},
   "outputs": [
    {
     "data": {
      "text/plain": [
       "(19558, 429)"
      ]
     },
     "execution_count": 71,
     "metadata": {},
     "output_type": "execute_result"
    }
   ],
   "source": [
    "X_train_transformed = preprocessor.fit_transform(X_train)\n",
    "X_train_transformed.shape"
   ]
  },
  {
   "cell_type": "markdown",
   "metadata": {
    "deletable": false,
    "editable": false
   },
   "source": [
    "<!-- END QUESTION -->\n",
    "\n",
    "<br><br>"
   ]
  },
  {
   "cell_type": "markdown",
   "metadata": {
    "deletable": false,
    "editable": false
   },
   "source": [
    "<!-- BEGIN QUESTION -->\n",
    "\n",
    "## 6. Baseline model\n",
    "<hr>\n",
    "rubric={points:2}\n",
    "\n",
    "<div class=\"alert alert-info\">\n",
    "    \n",
    "**Your tasks:**\n",
    "\n",
    "1. **Establish a baseline**: Use one of `scikit-learn`’s baseline models (e.g., `DummyClassifier` or `DummyRegressor`, depending on your task) and report the results. This will serve as a reference point for evaluating the performance of your more advanced models.\n",
    "\n",
    "</div>"
   ]
  },
  {
   "cell_type": "markdown",
   "metadata": {},
   "source": [
    "<div class=\"alert alert-warning\">\n",
    "    \n",
    "Solution_6\n",
    "    \n",
    "</div>\n",
    "\n",
    "_Points:_ 2"
   ]
  },
  {
   "cell_type": "code",
   "execution_count": 72,
   "metadata": {
    "tags": [
     "otter_answer_cell"
    ]
   },
   "outputs": [
    {
     "name": "stdout",
     "output_type": "stream",
     "text": [
      "Baseline RMSE summary:\n"
     ]
    },
    {
     "data": {
      "text/html": [
       "<div>\n",
       "<style scoped>\n",
       "    .dataframe tbody tr th:only-of-type {\n",
       "        vertical-align: middle;\n",
       "    }\n",
       "\n",
       "    .dataframe tbody tr th {\n",
       "        vertical-align: top;\n",
       "    }\n",
       "\n",
       "    .dataframe thead th {\n",
       "        text-align: right;\n",
       "    }\n",
       "</style>\n",
       "<table border=\"1\" class=\"dataframe\">\n",
       "  <thead>\n",
       "    <tr style=\"text-align: right;\">\n",
       "      <th></th>\n",
       "      <th>train_RMSE</th>\n",
       "      <th>test_RMSE</th>\n",
       "    </tr>\n",
       "  </thead>\n",
       "  <tbody>\n",
       "    <tr>\n",
       "      <th>count</th>\n",
       "      <td>10.000000</td>\n",
       "      <td>10.000000</td>\n",
       "    </tr>\n",
       "    <tr>\n",
       "      <th>mean</th>\n",
       "      <td>1.563750</td>\n",
       "      <td>1.563178</td>\n",
       "    </tr>\n",
       "    <tr>\n",
       "      <th>std</th>\n",
       "      <td>0.005394</td>\n",
       "      <td>0.048059</td>\n",
       "    </tr>\n",
       "    <tr>\n",
       "      <th>min</th>\n",
       "      <td>1.553450</td>\n",
       "      <td>1.509711</td>\n",
       "    </tr>\n",
       "    <tr>\n",
       "      <th>25%</th>\n",
       "      <td>1.559860</td>\n",
       "      <td>1.526834</td>\n",
       "    </tr>\n",
       "    <tr>\n",
       "      <th>50%</th>\n",
       "      <td>1.565468</td>\n",
       "      <td>1.548318</td>\n",
       "    </tr>\n",
       "    <tr>\n",
       "      <th>75%</th>\n",
       "      <td>1.567814</td>\n",
       "      <td>1.598394</td>\n",
       "    </tr>\n",
       "    <tr>\n",
       "      <th>max</th>\n",
       "      <td>1.569673</td>\n",
       "      <td>1.653757</td>\n",
       "    </tr>\n",
       "  </tbody>\n",
       "</table>\n",
       "</div>"
      ],
      "text/plain": [
       "       train_RMSE  test_RMSE\n",
       "count   10.000000  10.000000\n",
       "mean     1.563750   1.563178\n",
       "std      0.005394   0.048059\n",
       "min      1.553450   1.509711\n",
       "25%      1.559860   1.526834\n",
       "50%      1.565468   1.548318\n",
       "75%      1.567814   1.598394\n",
       "max      1.569673   1.653757"
      ]
     },
     "metadata": {},
     "output_type": "display_data"
    },
    {
     "name": "stdout",
     "output_type": "stream",
     "text": [
      "Mean Train RMSE: 1.564\n",
      "Mean Test RMSE:  1.563\n"
     ]
    },
    {
     "data": {
      "text/html": [
       "<div>\n",
       "<style scoped>\n",
       "    .dataframe tbody tr th:only-of-type {\n",
       "        vertical-align: middle;\n",
       "    }\n",
       "\n",
       "    .dataframe tbody tr th {\n",
       "        vertical-align: top;\n",
       "    }\n",
       "\n",
       "    .dataframe thead th {\n",
       "        text-align: right;\n",
       "    }\n",
       "</style>\n",
       "<table border=\"1\" class=\"dataframe\">\n",
       "  <thead>\n",
       "    <tr style=\"text-align: right;\">\n",
       "      <th></th>\n",
       "      <th>train_r2</th>\n",
       "      <th>test_r2</th>\n",
       "    </tr>\n",
       "  </thead>\n",
       "  <tbody>\n",
       "    <tr>\n",
       "      <th>count</th>\n",
       "      <td>10.0</td>\n",
       "      <td>10.000000</td>\n",
       "    </tr>\n",
       "    <tr>\n",
       "      <th>mean</th>\n",
       "      <td>0.0</td>\n",
       "      <td>-0.000584</td>\n",
       "    </tr>\n",
       "    <tr>\n",
       "      <th>std</th>\n",
       "      <td>0.0</td>\n",
       "      <td>0.000818</td>\n",
       "    </tr>\n",
       "    <tr>\n",
       "      <th>min</th>\n",
       "      <td>0.0</td>\n",
       "      <td>-0.002776</td>\n",
       "    </tr>\n",
       "    <tr>\n",
       "      <th>25%</th>\n",
       "      <td>0.0</td>\n",
       "      <td>-0.000429</td>\n",
       "    </tr>\n",
       "    <tr>\n",
       "      <th>50%</th>\n",
       "      <td>0.0</td>\n",
       "      <td>-0.000342</td>\n",
       "    </tr>\n",
       "    <tr>\n",
       "      <th>75%</th>\n",
       "      <td>0.0</td>\n",
       "      <td>-0.000154</td>\n",
       "    </tr>\n",
       "    <tr>\n",
       "      <th>max</th>\n",
       "      <td>0.0</td>\n",
       "      <td>-0.000060</td>\n",
       "    </tr>\n",
       "  </tbody>\n",
       "</table>\n",
       "</div>"
      ],
      "text/plain": [
       "       train_r2    test_r2\n",
       "count      10.0  10.000000\n",
       "mean        0.0  -0.000584\n",
       "std         0.0   0.000818\n",
       "min         0.0  -0.002776\n",
       "25%         0.0  -0.000429\n",
       "50%         0.0  -0.000342\n",
       "75%         0.0  -0.000154\n",
       "max         0.0  -0.000060"
      ]
     },
     "metadata": {},
     "output_type": "display_data"
    },
    {
     "name": "stdout",
     "output_type": "stream",
     "text": [
      "Mean Train r2: 0.000\n",
      "Mean Test r2:  -0.001\n"
     ]
    }
   ],
   "source": [
    "from sklearn.dummy import DummyRegressor\n",
    "from sklearn.model_selection import cross_validate\n",
    "from sklearn.pipeline import make_pipeline\n",
    "import pandas as pd\n",
    "from sklearn.metrics import make_scorer, mean_squared_error\n",
    "from sklearn.model_selection import cross_val_score, cross_validate\n",
    "\n",
    "\n",
    "dummy = DummyRegressor(strategy='mean') # just take the mean of the training labels as prediction \n",
    "baseline_pipe = make_pipeline(preprocessor, dummy)\n",
    "\n",
    "\n",
    "dummy_results = pd.DataFrame(\n",
    "    cross_validate(\n",
    "        baseline_pipe,\n",
    "        X_train, y_train,\n",
    "        cv=10,\n",
    "        scoring=scoring,\n",
    "        return_train_score=True\n",
    "    )\n",
    ")\n",
    "\n",
    "# Convert negative RMSE to positive for easier interpretability in target variablee \n",
    "dummy_results[\"train_RMSE\"] = -dummy_results[\"train_RMSE\"]\n",
    "dummy_results[\"test_RMSE\"] = -dummy_results[\"test_RMSE\"]\n",
    "print(\"Baseline RMSE summary:\")\n",
    "display(dummy_results[[\"train_RMSE\", \"test_RMSE\"]].describe())\n",
    "print(f\"Mean Train RMSE: {dummy_results['train_RMSE'].mean():.3f}\")\n",
    "print(f\"Mean Test RMSE:  {dummy_results['test_RMSE'].mean():.3f}\")\n",
    "\n",
    "display(dummy_results[[\"train_r2\", \"test_r2\"]].describe())\n",
    "print(f\"Mean Train r2: {dummy_results['train_r2'].mean():.3f}\")\n",
    "print(f\"Mean Test r2:  {dummy_results['test_r2'].mean():.3f}\")"
   ]
  },
  {
   "cell_type": "code",
   "execution_count": 73,
   "metadata": {},
   "outputs": [
    {
     "name": "stderr",
     "output_type": "stream",
     "text": [
      "/Users/JanayeCheong/miniforge3/envs/cpsc330/lib/python3.13/site-packages/pandas/core/nanops.py:1016: RuntimeWarning: invalid value encountered in subtract\n",
      "  sqr = _ensure_numeric((avg - values) ** 2)\n",
      "/Users/JanayeCheong/miniforge3/envs/cpsc330/lib/python3.13/site-packages/numpy/lib/_function_base_impl.py:4653: RuntimeWarning: invalid value encountered in subtract\n",
      "  diff_b_a = subtract(b, a)\n",
      "/Users/JanayeCheong/miniforge3/envs/cpsc330/lib/python3.13/site-packages/pandas/core/nanops.py:1016: RuntimeWarning: invalid value encountered in subtract\n",
      "  sqr = _ensure_numeric((avg - values) ** 2)\n",
      "/Users/JanayeCheong/miniforge3/envs/cpsc330/lib/python3.13/site-packages/numpy/lib/_function_base_impl.py:4653: RuntimeWarning: invalid value encountered in subtract\n",
      "  diff_b_a = subtract(b, a)\n"
     ]
    },
    {
     "data": {
      "text/html": [
       "<div>\n",
       "<style scoped>\n",
       "    .dataframe tbody tr th:only-of-type {\n",
       "        vertical-align: middle;\n",
       "    }\n",
       "\n",
       "    .dataframe tbody tr th {\n",
       "        vertical-align: top;\n",
       "    }\n",
       "\n",
       "    .dataframe thead th {\n",
       "        text-align: right;\n",
       "    }\n",
       "</style>\n",
       "<table border=\"1\" class=\"dataframe\">\n",
       "  <thead>\n",
       "    <tr style=\"text-align: right;\">\n",
       "      <th></th>\n",
       "      <th>fit_time</th>\n",
       "      <th>score_time</th>\n",
       "      <th>test_r2</th>\n",
       "      <th>train_r2</th>\n",
       "      <th>test_mape_scorer</th>\n",
       "      <th>train_mape_scorer</th>\n",
       "      <th>test_sklearn MAPE</th>\n",
       "      <th>train_sklearn MAPE</th>\n",
       "      <th>test_RMSE</th>\n",
       "      <th>train_RMSE</th>\n",
       "      <th>test_MSE</th>\n",
       "      <th>train_MSE</th>\n",
       "    </tr>\n",
       "  </thead>\n",
       "  <tbody>\n",
       "    <tr>\n",
       "      <th>count</th>\n",
       "      <td>10.000000</td>\n",
       "      <td>10.000000</td>\n",
       "      <td>10.000000</td>\n",
       "      <td>10.0</td>\n",
       "      <td>10.0</td>\n",
       "      <td>10.0</td>\n",
       "      <td>1.000000e+01</td>\n",
       "      <td>1.000000e+01</td>\n",
       "      <td>10.000000</td>\n",
       "      <td>10.000000</td>\n",
       "      <td>10.000000</td>\n",
       "      <td>10.000000</td>\n",
       "    </tr>\n",
       "    <tr>\n",
       "      <th>mean</th>\n",
       "      <td>0.143568</td>\n",
       "      <td>0.011588</td>\n",
       "      <td>-0.000584</td>\n",
       "      <td>0.0</td>\n",
       "      <td>-inf</td>\n",
       "      <td>-inf</td>\n",
       "      <td>-9.830920e+14</td>\n",
       "      <td>-9.830652e+14</td>\n",
       "      <td>1.563178</td>\n",
       "      <td>1.563750</td>\n",
       "      <td>-2.445604</td>\n",
       "      <td>-2.445339</td>\n",
       "    </tr>\n",
       "    <tr>\n",
       "      <th>std</th>\n",
       "      <td>0.011730</td>\n",
       "      <td>0.000431</td>\n",
       "      <td>0.000818</td>\n",
       "      <td>0.0</td>\n",
       "      <td>NaN</td>\n",
       "      <td>NaN</td>\n",
       "      <td>5.390891e+13</td>\n",
       "      <td>6.511619e+12</td>\n",
       "      <td>0.048059</td>\n",
       "      <td>0.005394</td>\n",
       "      <td>0.151646</td>\n",
       "      <td>0.016852</td>\n",
       "    </tr>\n",
       "    <tr>\n",
       "      <th>min</th>\n",
       "      <td>0.135052</td>\n",
       "      <td>0.010921</td>\n",
       "      <td>-0.002776</td>\n",
       "      <td>0.0</td>\n",
       "      <td>-inf</td>\n",
       "      <td>-inf</td>\n",
       "      <td>-1.099834e+15</td>\n",
       "      <td>-9.920018e+14</td>\n",
       "      <td>1.509711</td>\n",
       "      <td>1.553450</td>\n",
       "      <td>-2.734911</td>\n",
       "      <td>-2.463874</td>\n",
       "    </tr>\n",
       "    <tr>\n",
       "      <th>25%</th>\n",
       "      <td>0.136155</td>\n",
       "      <td>0.011398</td>\n",
       "      <td>-0.000429</td>\n",
       "      <td>0.0</td>\n",
       "      <td>NaN</td>\n",
       "      <td>NaN</td>\n",
       "      <td>-9.838624e+14</td>\n",
       "      <td>-9.868017e+14</td>\n",
       "      <td>1.526834</td>\n",
       "      <td>1.559860</td>\n",
       "      <td>-2.555057</td>\n",
       "      <td>-2.458042</td>\n",
       "    </tr>\n",
       "    <tr>\n",
       "      <th>50%</th>\n",
       "      <td>0.138152</td>\n",
       "      <td>0.011614</td>\n",
       "      <td>-0.000342</td>\n",
       "      <td>0.0</td>\n",
       "      <td>NaN</td>\n",
       "      <td>NaN</td>\n",
       "      <td>-9.743659e+14</td>\n",
       "      <td>-9.850029e+14</td>\n",
       "      <td>1.548318</td>\n",
       "      <td>1.565468</td>\n",
       "      <td>-2.397376</td>\n",
       "      <td>-2.450691</td>\n",
       "    </tr>\n",
       "    <tr>\n",
       "      <th>75%</th>\n",
       "      <td>0.145379</td>\n",
       "      <td>0.011648</td>\n",
       "      <td>-0.000154</td>\n",
       "      <td>0.0</td>\n",
       "      <td>NaN</td>\n",
       "      <td>NaN</td>\n",
       "      <td>-9.648430e+14</td>\n",
       "      <td>-9.801939e+14</td>\n",
       "      <td>1.598394</td>\n",
       "      <td>1.567814</td>\n",
       "      <td>-2.331269</td>\n",
       "      <td>-2.433165</td>\n",
       "    </tr>\n",
       "    <tr>\n",
       "      <th>max</th>\n",
       "      <td>0.172396</td>\n",
       "      <td>0.012560</td>\n",
       "      <td>-0.000060</td>\n",
       "      <td>0.0</td>\n",
       "      <td>-inf</td>\n",
       "      <td>-inf</td>\n",
       "      <td>-9.186624e+14</td>\n",
       "      <td>-9.683401e+14</td>\n",
       "      <td>1.653757</td>\n",
       "      <td>1.569673</td>\n",
       "      <td>-2.279226</td>\n",
       "      <td>-2.413208</td>\n",
       "    </tr>\n",
       "  </tbody>\n",
       "</table>\n",
       "</div>"
      ],
      "text/plain": [
       "        fit_time  score_time    test_r2  train_r2  test_mape_scorer  \\\n",
       "count  10.000000   10.000000  10.000000      10.0              10.0   \n",
       "mean    0.143568    0.011588  -0.000584       0.0              -inf   \n",
       "std     0.011730    0.000431   0.000818       0.0               NaN   \n",
       "min     0.135052    0.010921  -0.002776       0.0              -inf   \n",
       "25%     0.136155    0.011398  -0.000429       0.0               NaN   \n",
       "50%     0.138152    0.011614  -0.000342       0.0               NaN   \n",
       "75%     0.145379    0.011648  -0.000154       0.0               NaN   \n",
       "max     0.172396    0.012560  -0.000060       0.0              -inf   \n",
       "\n",
       "       train_mape_scorer  test_sklearn MAPE  train_sklearn MAPE  test_RMSE  \\\n",
       "count               10.0       1.000000e+01        1.000000e+01  10.000000   \n",
       "mean                -inf      -9.830920e+14       -9.830652e+14   1.563178   \n",
       "std                  NaN       5.390891e+13        6.511619e+12   0.048059   \n",
       "min                 -inf      -1.099834e+15       -9.920018e+14   1.509711   \n",
       "25%                  NaN      -9.838624e+14       -9.868017e+14   1.526834   \n",
       "50%                  NaN      -9.743659e+14       -9.850029e+14   1.548318   \n",
       "75%                  NaN      -9.648430e+14       -9.801939e+14   1.598394   \n",
       "max                 -inf      -9.186624e+14       -9.683401e+14   1.653757   \n",
       "\n",
       "       train_RMSE   test_MSE  train_MSE  \n",
       "count   10.000000  10.000000  10.000000  \n",
       "mean     1.563750  -2.445604  -2.445339  \n",
       "std      0.005394   0.151646   0.016852  \n",
       "min      1.553450  -2.734911  -2.463874  \n",
       "25%      1.559860  -2.555057  -2.458042  \n",
       "50%      1.565468  -2.397376  -2.450691  \n",
       "75%      1.567814  -2.331269  -2.433165  \n",
       "max      1.569673  -2.279226  -2.413208  "
      ]
     },
     "execution_count": 73,
     "metadata": {},
     "output_type": "execute_result"
    }
   ],
   "source": [
    "dummy_results.describe()"
   ]
  },
  {
   "cell_type": "markdown",
   "metadata": {
    "deletable": false,
    "editable": false
   },
   "source": [
    "<!-- END QUESTION -->\n",
    "\n",
    "<br><br>"
   ]
  },
  {
   "cell_type": "markdown",
   "metadata": {},
   "source": [
    "### Results\n",
    "\n",
    "From the results of the dummy regressor, the metric of error used (RMSE) was chosen to quantify the performance of the model, as the units of error are in the unit of the average number of reviews per month target variable.\n",
    "\n",
    "As expected, the R^2 value is equivalent to 0, meaning that the DummyRegressor model did not learn meaningful patterns of prediction (logical, since it relies solely on the mean value to predict answers)\n",
    "\n",
    "The negative mean test MAPE scores (-inf) indicate the model predictions significantly differ from the actual values in the test set on a percentage basis. A MAPE of -inf is invalid and likely due to divide by zero errors.\n",
    "\n",
    "Overall, the baseline model represents significant bias. "
   ]
  },
  {
   "cell_type": "markdown",
   "metadata": {
    "deletable": false,
    "editable": false
   },
   "source": [
    "<!-- END QUESTION -->\n",
    "\n",
    "<br><br>"
   ]
  },
  {
   "cell_type": "markdown",
   "metadata": {
    "deletable": false,
    "editable": false
   },
   "source": [
    "<!-- BEGIN QUESTION -->\n",
    "\n",
    "## 7. Linear models \n",
    "<hr>\n",
    "rubric={points:10}\n",
    "\n",
    "<div class=\"alert alert-info\">\n",
    "    \n",
    "**Your tasks:**\n",
    "\n",
    "1. **Train a linear model**: Use a linear model as your first real attempt at solving the problem.\n",
    "\n",
    "2. **Tune hyperparameters**: Perform hyperparameter tuning to explore different values of the model's complexity parameter. \n",
    "\n",
    "3. **Evaluate with cross-validation**: Report the cross-validation scores along with their standard deviation.\n",
    "\n",
    "4. **Summarize findings**: Summarize your results, highlighting key observations from your experiments.\n",
    "\n",
    "</div>"
   ]
  },
  {
   "cell_type": "markdown",
   "metadata": {
    "deletable": false,
    "editable": false
   },
   "source": [
    "<div class=\"alert alert-warning\">\n",
    "    \n",
    "Solution_7\n",
    "    \n",
    "</div>\n",
    "\n",
    "_Points:_ 10"
   ]
  },
  {
   "cell_type": "code",
   "execution_count": 74,
   "metadata": {
    "tags": [
     "otter_answer_cell"
    ]
   },
   "outputs": [
    {
     "name": "stdout",
     "output_type": "stream",
     "text": [
      "Ridge Regression RMSE summary:\n"
     ]
    },
    {
     "data": {
      "text/html": [
       "<div>\n",
       "<style scoped>\n",
       "    .dataframe tbody tr th:only-of-type {\n",
       "        vertical-align: middle;\n",
       "    }\n",
       "\n",
       "    .dataframe tbody tr th {\n",
       "        vertical-align: top;\n",
       "    }\n",
       "\n",
       "    .dataframe thead th {\n",
       "        text-align: right;\n",
       "    }\n",
       "</style>\n",
       "<table border=\"1\" class=\"dataframe\">\n",
       "  <thead>\n",
       "    <tr style=\"text-align: right;\">\n",
       "      <th></th>\n",
       "      <th>train_RMSE</th>\n",
       "      <th>test_RMSE</th>\n",
       "    </tr>\n",
       "  </thead>\n",
       "  <tbody>\n",
       "    <tr>\n",
       "      <th>count</th>\n",
       "      <td>10.000000</td>\n",
       "      <td>10.000000</td>\n",
       "    </tr>\n",
       "    <tr>\n",
       "      <th>mean</th>\n",
       "      <td>1.107502</td>\n",
       "      <td>1.138343</td>\n",
       "    </tr>\n",
       "    <tr>\n",
       "      <th>std</th>\n",
       "      <td>0.004122</td>\n",
       "      <td>0.036722</td>\n",
       "    </tr>\n",
       "    <tr>\n",
       "      <th>min</th>\n",
       "      <td>1.098600</td>\n",
       "      <td>1.088977</td>\n",
       "    </tr>\n",
       "    <tr>\n",
       "      <th>25%</th>\n",
       "      <td>1.106957</td>\n",
       "      <td>1.122032</td>\n",
       "    </tr>\n",
       "    <tr>\n",
       "      <th>50%</th>\n",
       "      <td>1.107974</td>\n",
       "      <td>1.130655</td>\n",
       "    </tr>\n",
       "    <tr>\n",
       "      <th>75%</th>\n",
       "      <td>1.109844</td>\n",
       "      <td>1.143213</td>\n",
       "    </tr>\n",
       "    <tr>\n",
       "      <th>max</th>\n",
       "      <td>1.112990</td>\n",
       "      <td>1.217312</td>\n",
       "    </tr>\n",
       "  </tbody>\n",
       "</table>\n",
       "</div>"
      ],
      "text/plain": [
       "       train_RMSE  test_RMSE\n",
       "count   10.000000  10.000000\n",
       "mean     1.107502   1.138343\n",
       "std      0.004122   0.036722\n",
       "min      1.098600   1.088977\n",
       "25%      1.106957   1.122032\n",
       "50%      1.107974   1.130655\n",
       "75%      1.109844   1.143213\n",
       "max      1.112990   1.217312"
      ]
     },
     "metadata": {},
     "output_type": "display_data"
    },
    {
     "name": "stdout",
     "output_type": "stream",
     "text": [
      "Mean Train RMSE: 1.108\n",
      "Mean Test RMSE:  1.138\n",
      "Ridge Regression r2 summary:\n"
     ]
    },
    {
     "data": {
      "text/html": [
       "<div>\n",
       "<style scoped>\n",
       "    .dataframe tbody tr th:only-of-type {\n",
       "        vertical-align: middle;\n",
       "    }\n",
       "\n",
       "    .dataframe tbody tr th {\n",
       "        vertical-align: top;\n",
       "    }\n",
       "\n",
       "    .dataframe thead th {\n",
       "        text-align: right;\n",
       "    }\n",
       "</style>\n",
       "<table border=\"1\" class=\"dataframe\">\n",
       "  <thead>\n",
       "    <tr style=\"text-align: right;\">\n",
       "      <th></th>\n",
       "      <th>train_r2</th>\n",
       "      <th>test_r2</th>\n",
       "    </tr>\n",
       "  </thead>\n",
       "  <tbody>\n",
       "    <tr>\n",
       "      <th>count</th>\n",
       "      <td>10.000000</td>\n",
       "      <td>10.000000</td>\n",
       "    </tr>\n",
       "    <tr>\n",
       "      <th>mean</th>\n",
       "      <td>0.498398</td>\n",
       "      <td>0.468949</td>\n",
       "    </tr>\n",
       "    <tr>\n",
       "      <th>std</th>\n",
       "      <td>0.002694</td>\n",
       "      <td>0.023694</td>\n",
       "    </tr>\n",
       "    <tr>\n",
       "      <th>min</th>\n",
       "      <td>0.494890</td>\n",
       "      <td>0.425722</td>\n",
       "    </tr>\n",
       "    <tr>\n",
       "      <th>25%</th>\n",
       "      <td>0.495987</td>\n",
       "      <td>0.456467</td>\n",
       "    </tr>\n",
       "    <tr>\n",
       "      <th>50%</th>\n",
       "      <td>0.499011</td>\n",
       "      <td>0.463501</td>\n",
       "    </tr>\n",
       "    <tr>\n",
       "      <th>75%</th>\n",
       "      <td>0.499698</td>\n",
       "      <td>0.488839</td>\n",
       "    </tr>\n",
       "    <tr>\n",
       "      <th>max</th>\n",
       "      <td>0.503392</td>\n",
       "      <td>0.504477</td>\n",
       "    </tr>\n",
       "  </tbody>\n",
       "</table>\n",
       "</div>"
      ],
      "text/plain": [
       "        train_r2    test_r2\n",
       "count  10.000000  10.000000\n",
       "mean    0.498398   0.468949\n",
       "std     0.002694   0.023694\n",
       "min     0.494890   0.425722\n",
       "25%     0.495987   0.456467\n",
       "50%     0.499011   0.463501\n",
       "75%     0.499698   0.488839\n",
       "max     0.503392   0.504477"
      ]
     },
     "metadata": {},
     "output_type": "display_data"
    },
    {
     "name": "stdout",
     "output_type": "stream",
     "text": [
      "Mean Train r2: 0.498\n",
      "Mean Test r2:  0.469\n"
     ]
    }
   ],
   "source": [
    "from sklearn.pipeline import make_pipeline\n",
    "from sklearn.linear_model import Ridge\n",
    "from sklearn.model_selection import cross_validate, GridSearchCV\n",
    "import pandas as pd\n",
    "import numpy as np\n",
    "\n",
    "scoring = {\n",
    "    \"r2\": \"r2\",\n",
    "    \"mape_scorer\": mape_scorer, # custom scorer from lecture \n",
    "    \"sklearn MAPE\": \"neg_mean_absolute_percentage_error\",\n",
    "    \"RMSE\": \"neg_root_mean_squared_error\",\n",
    "    \"MSE\": \"neg_mean_squared_error\",\n",
    "}\n",
    "\n",
    "ridge_pipe = make_pipeline(preprocessor, Ridge())\n",
    "\n",
    "\n",
    "ridge_results = pd.DataFrame(\n",
    "    cross_validate(\n",
    "        ridge_pipe,\n",
    "        X_train, y_train,\n",
    "        cv=10,\n",
    "        scoring=scoring,\n",
    "        return_train_score=True\n",
    "    )\n",
    ")\n",
    "\n",
    "ridge_results[\"train_RMSE\"] = -ridge_results[\"train_RMSE\"]\n",
    "ridge_results[\"test_RMSE\"] = -ridge_results[\"test_RMSE\"]\n",
    "\n",
    "\n",
    "print(\"Ridge Regression RMSE summary:\")\n",
    "display(ridge_results[[\"train_RMSE\", \"test_RMSE\"]].describe())\n",
    "print(f\"Mean Train RMSE: {ridge_results['train_RMSE'].mean():.3f}\")\n",
    "print(f\"Mean Test RMSE:  {ridge_results['test_RMSE'].mean():.3f}\")\n",
    "\n",
    "\n",
    "print(\"Ridge Regression r2 summary:\")\n",
    "display(ridge_results[[\"train_r2\", \"test_r2\"]].describe())\n",
    "print(f\"Mean Train r2: {ridge_results['train_r2'].mean():.3f}\")\n",
    "print(f\"Mean Test r2:  {ridge_results['test_r2'].mean():.3f}\")"
   ]
  },
  {
   "cell_type": "code",
   "execution_count": 75,
   "metadata": {},
   "outputs": [
    {
     "data": {
      "text/plain": [
       "Text(0, 0.5, 'R^2 score')"
      ]
     },
     "execution_count": 75,
     "metadata": {},
     "output_type": "execute_result"
    },
    {
     "data": {
      "image/png": "[encoded data removed]",
      "text/plain": [
       "<Figure size 640x480 with 1 Axes>"
      ]
     },
     "metadata": {},
     "output_type": "display_data"
    }
   ],
   "source": [
    "\n",
    "# Hyperparameter tuning \n",
    "param_grid = {\"ridge__alpha\": 10.0 ** np.arange(-5, 5, 1)}\n",
    "\n",
    "pipe_ridge = make_pipeline(preprocessor, Ridge())\n",
    "\n",
    "search = GridSearchCV(pipe_ridge, param_grid, return_train_score=True, n_jobs=-1)\n",
    "search.fit(X_train, y_train)\n",
    "# in R^2 metrics \n",
    "train_scores = search.cv_results_[\"mean_train_score\"]\n",
    "cv_scores = search.cv_results_[\"mean_test_score\"]\n",
    "\n",
    "plt.semilogx(param_grid[\"ridge__alpha\"], train_scores.tolist(), label=\"train\")\n",
    "plt.semilogx(param_grid[\"ridge__alpha\"], cv_scores.tolist(), label=\"cv\")\n",
    "plt.legend()\n",
    "plt.xlabel(\"alpha\")\n",
    "plt.ylabel(\"R^2 score\")"
   ]
  },
  {
   "cell_type": "code",
   "execution_count": 76,
   "metadata": {},
   "outputs": [
    {
     "name": "stdout",
     "output_type": "stream",
     "text": [
      "Best alpha: 100.0\n",
      "Best CV RMSE: 1.132\n"
     ]
    },
    {
     "data": {
      "text/html": [
       "<div>\n",
       "<style scoped>\n",
       "    .dataframe tbody tr th:only-of-type {\n",
       "        vertical-align: middle;\n",
       "    }\n",
       "\n",
       "    .dataframe tbody tr th {\n",
       "        vertical-align: top;\n",
       "    }\n",
       "\n",
       "    .dataframe thead th {\n",
       "        text-align: right;\n",
       "    }\n",
       "</style>\n",
       "<table border=\"1\" class=\"dataframe\">\n",
       "  <thead>\n",
       "    <tr style=\"text-align: right;\">\n",
       "      <th></th>\n",
       "      <th>param_ridge__alpha</th>\n",
       "      <th>mean_test_RMSE</th>\n",
       "      <th>mean_train_score</th>\n",
       "    </tr>\n",
       "  </thead>\n",
       "  <tbody>\n",
       "    <tr>\n",
       "      <th>7</th>\n",
       "      <td>100.00000</td>\n",
       "      <td>1.132295</td>\n",
       "      <td>-1.119429</td>\n",
       "    </tr>\n",
       "    <tr>\n",
       "      <th>6</th>\n",
       "      <td>10.00000</td>\n",
       "      <td>1.134188</td>\n",
       "      <td>-1.110239</td>\n",
       "    </tr>\n",
       "    <tr>\n",
       "      <th>5</th>\n",
       "      <td>1.00000</td>\n",
       "      <td>1.138343</td>\n",
       "      <td>-1.107502</td>\n",
       "    </tr>\n",
       "    <tr>\n",
       "      <th>4</th>\n",
       "      <td>0.10000</td>\n",
       "      <td>1.140449</td>\n",
       "      <td>-1.107095</td>\n",
       "    </tr>\n",
       "    <tr>\n",
       "      <th>3</th>\n",
       "      <td>0.01000</td>\n",
       "      <td>1.140837</td>\n",
       "      <td>-1.107083</td>\n",
       "    </tr>\n",
       "    <tr>\n",
       "      <th>2</th>\n",
       "      <td>0.00100</td>\n",
       "      <td>1.140877</td>\n",
       "      <td>-1.107082</td>\n",
       "    </tr>\n",
       "    <tr>\n",
       "      <th>0</th>\n",
       "      <td>0.00001</td>\n",
       "      <td>1.140878</td>\n",
       "      <td>-1.107082</td>\n",
       "    </tr>\n",
       "    <tr>\n",
       "      <th>1</th>\n",
       "      <td>0.00010</td>\n",
       "      <td>1.140883</td>\n",
       "      <td>-1.107082</td>\n",
       "    </tr>\n",
       "    <tr>\n",
       "      <th>8</th>\n",
       "      <td>1000.00000</td>\n",
       "      <td>1.147243</td>\n",
       "      <td>-1.143613</td>\n",
       "    </tr>\n",
       "    <tr>\n",
       "      <th>9</th>\n",
       "      <td>10000.00000</td>\n",
       "      <td>1.231985</td>\n",
       "      <td>-1.231658</td>\n",
       "    </tr>\n",
       "  </tbody>\n",
       "</table>\n",
       "</div>"
      ],
      "text/plain": [
       "   param_ridge__alpha  mean_test_RMSE  mean_train_score\n",
       "7           100.00000        1.132295         -1.119429\n",
       "6            10.00000        1.134188         -1.110239\n",
       "5             1.00000        1.138343         -1.107502\n",
       "4             0.10000        1.140449         -1.107095\n",
       "3             0.01000        1.140837         -1.107083\n",
       "2             0.00100        1.140877         -1.107082\n",
       "0             0.00001        1.140878         -1.107082\n",
       "1             0.00010        1.140883         -1.107082\n",
       "8          1000.00000        1.147243         -1.143613\n",
       "9         10000.00000        1.231985         -1.231658"
      ]
     },
     "metadata": {},
     "output_type": "display_data"
    },
    {
     "name": "stdout",
     "output_type": "stream",
     "text": [
      "\n",
      "Ridge Regression (Tuned) RMSE summary:\n"
     ]
    },
    {
     "data": {
      "text/html": [
       "<div>\n",
       "<style scoped>\n",
       "    .dataframe tbody tr th:only-of-type {\n",
       "        vertical-align: middle;\n",
       "    }\n",
       "\n",
       "    .dataframe tbody tr th {\n",
       "        vertical-align: top;\n",
       "    }\n",
       "\n",
       "    .dataframe thead th {\n",
       "        text-align: right;\n",
       "    }\n",
       "</style>\n",
       "<table border=\"1\" class=\"dataframe\">\n",
       "  <thead>\n",
       "    <tr style=\"text-align: right;\">\n",
       "      <th></th>\n",
       "      <th>train_RMSE</th>\n",
       "      <th>test_RMSE</th>\n",
       "    </tr>\n",
       "  </thead>\n",
       "  <tbody>\n",
       "    <tr>\n",
       "      <th>count</th>\n",
       "      <td>10.000000</td>\n",
       "      <td>10.000000</td>\n",
       "    </tr>\n",
       "    <tr>\n",
       "      <th>mean</th>\n",
       "      <td>1.119429</td>\n",
       "      <td>1.132295</td>\n",
       "    </tr>\n",
       "    <tr>\n",
       "      <th>std</th>\n",
       "      <td>0.004014</td>\n",
       "      <td>0.036308</td>\n",
       "    </tr>\n",
       "    <tr>\n",
       "      <th>min</th>\n",
       "      <td>1.111176</td>\n",
       "      <td>1.076407</td>\n",
       "    </tr>\n",
       "    <tr>\n",
       "      <th>25%</th>\n",
       "      <td>1.118831</td>\n",
       "      <td>1.115076</td>\n",
       "    </tr>\n",
       "    <tr>\n",
       "      <th>50%</th>\n",
       "      <td>1.120289</td>\n",
       "      <td>1.127458</td>\n",
       "    </tr>\n",
       "    <tr>\n",
       "      <th>75%</th>\n",
       "      <td>1.121268</td>\n",
       "      <td>1.138589</td>\n",
       "    </tr>\n",
       "    <tr>\n",
       "      <th>max</th>\n",
       "      <td>1.125125</td>\n",
       "      <td>1.198414</td>\n",
       "    </tr>\n",
       "  </tbody>\n",
       "</table>\n",
       "</div>"
      ],
      "text/plain": [
       "       train_RMSE  test_RMSE\n",
       "count   10.000000  10.000000\n",
       "mean     1.119429   1.132295\n",
       "std      0.004014   0.036308\n",
       "min      1.111176   1.076407\n",
       "25%      1.118831   1.115076\n",
       "50%      1.120289   1.127458\n",
       "75%      1.121268   1.138589\n",
       "max      1.125125   1.198414"
      ]
     },
     "metadata": {},
     "output_type": "display_data"
    },
    {
     "name": "stdout",
     "output_type": "stream",
     "text": [
      "Mean Train RMSE: 1.119\n",
      "Mean Test RMSE:  1.132\n",
      "\n",
      "Ridge Regression (Tuned) R² summary:\n"
     ]
    },
    {
     "data": {
      "text/html": [
       "<div>\n",
       "<style scoped>\n",
       "    .dataframe tbody tr th:only-of-type {\n",
       "        vertical-align: middle;\n",
       "    }\n",
       "\n",
       "    .dataframe tbody tr th {\n",
       "        vertical-align: top;\n",
       "    }\n",
       "\n",
       "    .dataframe thead th {\n",
       "        text-align: right;\n",
       "    }\n",
       "</style>\n",
       "<table border=\"1\" class=\"dataframe\">\n",
       "  <thead>\n",
       "    <tr style=\"text-align: right;\">\n",
       "      <th></th>\n",
       "      <th>train_r2</th>\n",
       "      <th>test_r2</th>\n",
       "    </tr>\n",
       "  </thead>\n",
       "  <tbody>\n",
       "    <tr>\n",
       "      <th>count</th>\n",
       "      <td>10.000000</td>\n",
       "      <td>10.000000</td>\n",
       "    </tr>\n",
       "    <tr>\n",
       "      <th>mean</th>\n",
       "      <td>0.487536</td>\n",
       "      <td>0.474705</td>\n",
       "    </tr>\n",
       "    <tr>\n",
       "      <th>std</th>\n",
       "      <td>0.002480</td>\n",
       "      <td>0.019862</td>\n",
       "    </tr>\n",
       "    <tr>\n",
       "      <th>min</th>\n",
       "      <td>0.483780</td>\n",
       "      <td>0.443414</td>\n",
       "    </tr>\n",
       "    <tr>\n",
       "      <th>25%</th>\n",
       "      <td>0.485468</td>\n",
       "      <td>0.463191</td>\n",
       "    </tr>\n",
       "    <tr>\n",
       "      <th>50%</th>\n",
       "      <td>0.488207</td>\n",
       "      <td>0.469730</td>\n",
       "    </tr>\n",
       "    <tr>\n",
       "      <th>75%</th>\n",
       "      <td>0.488799</td>\n",
       "      <td>0.491103</td>\n",
       "    </tr>\n",
       "    <tr>\n",
       "      <th>max</th>\n",
       "      <td>0.491958</td>\n",
       "      <td>0.506466</td>\n",
       "    </tr>\n",
       "  </tbody>\n",
       "</table>\n",
       "</div>"
      ],
      "text/plain": [
       "        train_r2    test_r2\n",
       "count  10.000000  10.000000\n",
       "mean    0.487536   0.474705\n",
       "std     0.002480   0.019862\n",
       "min     0.483780   0.443414\n",
       "25%     0.485468   0.463191\n",
       "50%     0.488207   0.469730\n",
       "75%     0.488799   0.491103\n",
       "max     0.491958   0.506466"
      ]
     },
     "metadata": {},
     "output_type": "display_data"
    },
    {
     "name": "stdout",
     "output_type": "stream",
     "text": [
      "Mean Train R²: 0.488\n",
      "Mean Test R²:  0.475\n"
     ]
    }
   ],
   "source": [
    "# Hyperparameter tuning by RMSE metric\n",
    "\n",
    "ridge_grid = GridSearchCV(\n",
    "    ridge_pipe,\n",
    "    param_grid=param_grid,\n",
    "    scoring=\"neg_root_mean_squared_error\",  # main metric for model selection\n",
    "    cv=10,\n",
    "    return_train_score=True,\n",
    "    n_jobs=-1,\n",
    ")\n",
    "\n",
    "ridge_grid.fit(X_train, y_train)\n",
    "print(f\"Best alpha: {ridge_grid.best_params_['ridge__alpha']}\")\n",
    "print(f\"Best CV RMSE: {-ridge_grid.best_score_:.3f}\")\n",
    "\n",
    "cv_results = pd.DataFrame(ridge_grid.cv_results_)\n",
    "cv_results = cv_results.sort_values(\"mean_test_score\", ascending=False)\n",
    "cv_results[\"mean_test_RMSE\"] = -cv_results[\"mean_test_score\"]\n",
    "\n",
    "display(cv_results[[\"param_ridge__alpha\", \"mean_test_RMSE\", \"mean_train_score\"]])\n",
    "\n",
    "best_ridge = ridge_grid.best_estimator_\n",
    "\n",
    "ridge_results = pd.DataFrame(\n",
    "    cross_validate(\n",
    "        best_ridge,\n",
    "        X_train, y_train,\n",
    "        cv=10,\n",
    "        scoring=scoring,\n",
    "        return_train_score=True,\n",
    "    )\n",
    ")\n",
    "\n",
    "\n",
    "ridge_results[\"train_RMSE\"] = -ridge_results[\"train_RMSE\"]\n",
    "ridge_results[\"test_RMSE\"] = -ridge_results[\"test_RMSE\"]\n",
    "\n",
    "print(\"\\nRidge Regression (Tuned) RMSE summary:\")\n",
    "display(ridge_results[[\"train_RMSE\", \"test_RMSE\"]].describe())\n",
    "\n",
    "print(f\"Mean Train RMSE: {ridge_results['train_RMSE'].mean():.3f}\")\n",
    "print(f\"Mean Test RMSE:  {ridge_results['test_RMSE'].mean():.3f}\")\n",
    "\n",
    "print(\"\\nRidge Regression (Tuned) R² summary:\")\n",
    "display(ridge_results[[\"train_r2\", \"test_r2\"]].describe())\n",
    "\n",
    "print(f\"Mean Train R²: {ridge_results['train_r2'].mean():.3f}\")\n",
    "print(f\"Mean Test R²:  {ridge_results['test_r2'].mean():.3f}\")"
   ]
  },
  {
   "cell_type": "markdown",
   "metadata": {},
   "source": [
    "Above represents train scores (in R^2 metric)."
   ]
  },
  {
   "cell_type": "markdown",
   "metadata": {},
   "source": [
    "Summary: \n",
    "\n",
    "BEFORE HYPERPARAMETER TUNING \n",
    "- According to the given model, the optimal alpha value of 10^2 gives the best train and cv scores before exponential decrease and a sharp disparity between the two sets.\n",
    "\n",
    "- The model achieves a mean test R2 score of 0.469, indicating it is able to explain about 46.9% of the variance in the test data on average, which is significantly suboptimal. While this is much better than the previous model, there is still substantial room for improvement. The mean test RMSE of 1.138 is lower than the baseline value of 1.56, however, difference of error by .4 of a review is not enough to warrant the performance of a viable model. \n",
    "\n",
    "AFTER HYPERPARAMETER TUNING \n",
    "- The above graph demonstrates that the optimal value of 10^2 achieves the best R^2 value for the cross validation set, before exponential decrease following the 10^3 mark. The results are also reflected by the RMSE metric. "
   ]
  },
  {
   "cell_type": "markdown",
   "metadata": {
    "deletable": false,
    "editable": false
   },
   "source": [
    "<!-- BEGIN QUESTION -->\n",
    "\n",
    "## 8. Different models\n",
    "<hr>\n",
    "rubric={points:12}\n",
    "\n",
    "<div class=\"alert alert-info\">\n",
    "    \n",
    "**Your tasks:**\n",
    "\n",
    "1. **Experiment with additional models**: Train at least **three models** other than a linear model. Ensure that **at least one** of these models is a **tree-based ensemble model** (e.g., Random Forest, Gradient Boosting, or XGBoost).\n",
    "\n",
    "2. **Compare and interpret results**: Summarize your findings in terms of **overfitting/underfitting** behavior and **fit/score times** for each model. Reflect on your results. Were you able to **outperform the linear model**?\n",
    "\n",
    "</div>"
   ]
  },
  {
   "cell_type": "markdown",
   "metadata": {},
   "source": [
    "<div class=\"alert alert-warning\">\n",
    "    \n",
    "Solution_8\n",
    "    \n",
    "</div>\n",
    "\n",
    "_Points:_ 12"
   ]
  },
  {
   "cell_type": "markdown",
   "metadata": {},
   "source": [
    "### Random Forest, Gradient Boosting, CAT Boost"
   ]
  },
  {
   "cell_type": "code",
   "execution_count": 78,
   "metadata": {},
   "outputs": [
    {
     "data": {
      "text/html": [
       "<div>\n",
       "<style scoped>\n",
       "    .dataframe tbody tr th:only-of-type {\n",
       "        vertical-align: middle;\n",
       "    }\n",
       "\n",
       "    .dataframe tbody tr th {\n",
       "        vertical-align: top;\n",
       "    }\n",
       "\n",
       "    .dataframe thead th {\n",
       "        text-align: right;\n",
       "    }\n",
       "</style>\n",
       "<table border=\"1\" class=\"dataframe\">\n",
       "  <thead>\n",
       "    <tr style=\"text-align: right;\">\n",
       "      <th></th>\n",
       "      <th>Model</th>\n",
       "      <th>Train R^2</th>\n",
       "      <th>Test R^2</th>\n",
       "      <th>Train RMSE</th>\n",
       "      <th>Test RMSE</th>\n",
       "    </tr>\n",
       "  </thead>\n",
       "  <tbody>\n",
       "    <tr>\n",
       "      <th>0</th>\n",
       "      <td>Random Forest</td>\n",
       "      <td>0.957</td>\n",
       "      <td>0.694</td>\n",
       "      <td>0.325</td>\n",
       "      <td>0.863</td>\n",
       "    </tr>\n",
       "    <tr>\n",
       "      <th>1</th>\n",
       "      <td>Gradient Boosting</td>\n",
       "      <td>0.717</td>\n",
       "      <td>0.683</td>\n",
       "      <td>0.832</td>\n",
       "      <td>0.878</td>\n",
       "    </tr>\n",
       "    <tr>\n",
       "      <th>2</th>\n",
       "      <td>CatBoost</td>\n",
       "      <td>0.812</td>\n",
       "      <td>0.708</td>\n",
       "      <td>0.677</td>\n",
       "      <td>0.843</td>\n",
       "    </tr>\n",
       "  </tbody>\n",
       "</table>\n",
       "</div>"
      ],
      "text/plain": [
       "               Model  Train R^2  Test R^2  Train RMSE  Test RMSE\n",
       "0      Random Forest      0.957     0.694       0.325      0.863\n",
       "1  Gradient Boosting      0.717     0.683       0.832      0.878\n",
       "2           CatBoost      0.812     0.708       0.677      0.843"
      ]
     },
     "metadata": {},
     "output_type": "display_data"
    }
   ],
   "source": [
    "from catboost import CatBoostRegressor\n",
    "from sklearn.ensemble import GradientBoostingRegressor\n",
    "from sklearn.ensemble import RandomForestRegressor\n",
    "\n",
    "models = {\n",
    "    \"Random Forest\": RandomForestRegressor(random_state=123),\n",
    "    \"Gradient Boosting\": GradientBoostingRegressor(random_state=123),\n",
    "    \"CatBoost\": CatBoostRegressor(\n",
    "        random_state=123,\n",
    "        verbose=False\n",
    "    )\n",
    "}\n",
    "\n",
    "results_summary = []\n",
    "\n",
    "for name, model in models.items():\n",
    "    \n",
    "    pipe = make_pipeline(preprocessor, model)\n",
    "    \n",
    "    results = pd.DataFrame(\n",
    "        cross_validate(\n",
    "            pipe,\n",
    "            X_train, y_train,\n",
    "            cv=10,\n",
    "            scoring=scoring,\n",
    "            return_train_score=True\n",
    "        )\n",
    "    )\n",
    "    \n",
    "    results[\"train_RMSE\"] = -results[\"train_RMSE\"]\n",
    "    results[\"test_RMSE\"] = -results[\"test_RMSE\"]\n",
    "    \n",
    "\n",
    "    summary = {\n",
    "        \"Model\": name,\n",
    "        \"Train R^2\": results[\"train_r2\"].mean(),\n",
    "        \"Test R^2\": results[\"test_r2\"].mean(),\n",
    "        \"Train RMSE\": results[\"train_RMSE\"].mean(),\n",
    "        \"Test RMSE\": results[\"test_RMSE\"].mean()\n",
    "    }\n",
    "    \n",
    "    results_summary.append(summary)\n",
    "\n",
    "results_df = pd.DataFrame(results_summary)\n",
    "display(results_df.round(3))"
   ]
  },
  {
   "cell_type": "markdown",
   "metadata": {},
   "source": [
    "### Summary of Results\n",
    "\n",
    "#### RANDOM FOREST\n",
    "- Random forest was chosen as unlike ridge or linear regression, the target is not assumed to follow a linear pattern of inputs; this allows the flexible representation of different variables and interactions considering the diversity of the features considered (numerical and categorical). By depending on majority patterns, the trees are also more robust to extreme values. \n",
    "\n",
    "- The train  R^2 = 0.957 and test  R^2 = 0.694 indicate that the model explains most of the variance on training data but loses some generalization capacity on unseen data.\n",
    "\n",
    "- The train RMSE (0.325) versus test RMSE (0.863) confirms this: the model fits the training data closely but has some degree of overfitting, which is typical for high-variance models like Random Forests.\n",
    "\n",
    "- Despite this, the model performs best overall in predictive accuracy among the three, suggesting it captures the dominant patterns driving the target.\n",
    "\n",
    "#### GRADIENT BOOSTING\n",
    "- Gradient Boosting also builds an ensemble of trees, however in a sequential manner, where each learner iteratively corrects the errors of the prior. \n",
    "\n",
    "- The train  R^2 = 0.717 and ttest  R^2 = 0.683 show more consistent performance across training and testing data compared to the random forest model, implying the model is less overfit but possibly underfitting as it hasn’t fully captured the complexity in the data.\n",
    "\n",
    "#### CATBOOST \n",
    "- Alike to gradient boosting, CatBoost follows a similar algorithm, however, specialized to handle categorical features natively. By encoding our categorical features of neighbourhood/neighbourhood group/ room-type, the model learns to make discrete target-based encodings while controlling overfitting through ordered boosting.\n",
    "\n",
    "- The train R^2 = 0.812 and test R^2 = 0.708 suggest CatBoost achieves a strong balance between learning patterns and maintaining generalization.\n",
    "\n",
    "- The test RMSE (0.843) is the lowest among all models, indicating the most accurate out-of-sample predictions."
   ]
  },
  {
   "cell_type": "markdown",
   "metadata": {
    "deletable": false,
    "editable": false
   },
   "source": [
    "<!-- BEGIN QUESTION -->\n",
    "\n",
    "## 9. Feature selection \n",
    "<hr>\n",
    "rubric={points:2}\n",
    "\n",
    "<div class=\"alert alert-info\">\n",
    "    \n",
    "**Your tasks:**\n",
    "\n",
    "1. **Perform feature selection**: Attempt to select relevant features using methods such as `RFECV` or forward selection.\n",
    "\n",
    "2. **Evaluate the impact** Compare the model performance before and after feature selection. Do the results improve with feature selection?\n",
    "\n",
    "3. **Summarize findings** Summarize your observations and decide whether to **keep feature selection** in your pipeline.  If it improves results, retain it for the next exercises; otherwise, you may choose to omit it.\n",
    "</div>"
   ]
  },
  {
   "cell_type": "markdown",
   "metadata": {
    "deletable": false,
    "editable": false
   },
   "source": [
    "<div class=\"alert alert-warning\">\n",
    "    \n",
    "Solution_9\n",
    "    \n",
    "</div>\n",
    "\n",
    "_Points:_ 2"
   ]
  },
  {
   "cell_type": "markdown",
   "metadata": {
    "tags": [
     "otter_answer_cell"
    ]
   },
   "source": [
    "For the sake of time, we use a CATBOOST model for this question rather than the random forest, which was computationally inefficient despite changing multiple hyperparameters "
   ]
  },
  {
   "cell_type": "code",
   "execution_count": null,
   "metadata": {},
   "outputs": [
    {
     "ename": "ValueError",
     "evalue": "could not convert string to float: 'Spacious and cozy room!'",
     "output_type": "error",
     "traceback": [
      "\u001b[31m---------------------------------------------------------------------------\u001b[39m",
      "\u001b[31mValueError\u001b[39m                                Traceback (most recent call last)",
      "\u001b[32m/var/folders/gd/p6nf_1w11938t89t0bj2r9lc0000gn/T/ipykernel_50178/3595267972.py\u001b[39m in \u001b[36m?\u001b[39m\u001b[34m()\u001b[39m\n\u001b[32m     22\u001b[39m     n_jobs=-\u001b[32m1\u001b[39m\n\u001b[32m     23\u001b[39m )\n\u001b[32m     24\u001b[39m \n\u001b[32m     25\u001b[39m \u001b[38;5;66;03m# Fit RFECV (using the full dataset — CatBoost handles mixed data)\u001b[39;00m\n\u001b[32m---> \u001b[39m\u001b[32m26\u001b[39m rfecv.fit(X_train, y_train)\n\u001b[32m     27\u001b[39m \n\u001b[32m     28\u001b[39m print(f\"Optimal number of features: {rfecv.n_features_}\")\n\u001b[32m     29\u001b[39m \n",
      "\u001b[32m~/miniforge3/envs/cpsc330/lib/python3.13/site-packages/sklearn/utils/validation.py\u001b[39m in \u001b[36m?\u001b[39m\u001b[34m(*args, **kwargs)\u001b[39m\n\u001b[32m     59\u001b[39m         @wraps(f)\n\u001b[32m     60\u001b[39m         \u001b[38;5;28;01mdef\u001b[39;00m inner_f(*args, **kwargs):\n\u001b[32m     61\u001b[39m             extra_args = len(args) - len(all_args)\n\u001b[32m     62\u001b[39m             \u001b[38;5;28;01mif\u001b[39;00m extra_args <= \u001b[32m0\u001b[39m:\n\u001b[32m---> \u001b[39m\u001b[32m63\u001b[39m                 \u001b[38;5;28;01mreturn\u001b[39;00m f(*args, **kwargs)\n\u001b[32m     64\u001b[39m \n\u001b[32m     65\u001b[39m             \u001b[38;5;66;03m# extra_args > 0\u001b[39;00m\n\u001b[32m     66\u001b[39m             args_msg = [\n",
      "\u001b[32m~/miniforge3/envs/cpsc330/lib/python3.13/site-packages/sklearn/base.py\u001b[39m in \u001b[36m?\u001b[39m\u001b[34m(estimator, *args, **kwargs)\u001b[39m\n\u001b[32m   1361\u001b[39m                 skip_parameter_validation=(\n\u001b[32m   1362\u001b[39m                     prefer_skip_nested_validation \u001b[38;5;28;01mor\u001b[39;00m global_skip_validation\n\u001b[32m   1363\u001b[39m                 )\n\u001b[32m   1364\u001b[39m             ):\n\u001b[32m-> \u001b[39m\u001b[32m1365\u001b[39m                 \u001b[38;5;28;01mreturn\u001b[39;00m fit_method(estimator, *args, **kwargs)\n",
      "\u001b[32m~/miniforge3/envs/cpsc330/lib/python3.13/site-packages/sklearn/feature_selection/_rfe.py\u001b[39m in \u001b[36m?\u001b[39m\u001b[34m(self, X, y, groups, **params)\u001b[39m\n\u001b[32m    835\u001b[39m         self : object\n\u001b[32m    836\u001b[39m             Fitted estimator.\n\u001b[32m    837\u001b[39m         \"\"\"\n\u001b[32m    838\u001b[39m         _raise_for_params(params, self, \u001b[33m\"fit\"\u001b[39m)\n\u001b[32m--> \u001b[39m\u001b[32m839\u001b[39m         X, y = validate_data(\n\u001b[32m    840\u001b[39m             self,\n\u001b[32m    841\u001b[39m             X,\n\u001b[32m    842\u001b[39m             y,\n",
      "\u001b[32m~/miniforge3/envs/cpsc330/lib/python3.13/site-packages/sklearn/utils/validation.py\u001b[39m in \u001b[36m?\u001b[39m\u001b[34m(_estimator, X, y, reset, validate_separately, skip_check_array, **check_params)\u001b[39m\n\u001b[32m   2967\u001b[39m             \u001b[38;5;28;01mif\u001b[39;00m \u001b[33m\"estimator\"\u001b[39m \u001b[38;5;28;01mnot\u001b[39;00m \u001b[38;5;28;01min\u001b[39;00m check_y_params:\n\u001b[32m   2968\u001b[39m                 check_y_params = {**default_check_params, **check_y_params}\n\u001b[32m   2969\u001b[39m             y = check_array(y, input_name=\u001b[33m\"y\"\u001b[39m, **check_y_params)\n\u001b[32m   2970\u001b[39m         \u001b[38;5;28;01melse\u001b[39;00m:\n\u001b[32m-> \u001b[39m\u001b[32m2971\u001b[39m             X, y = check_X_y(X, y, **check_params)\n\u001b[32m   2972\u001b[39m         out = X, y\n\u001b[32m   2973\u001b[39m \n\u001b[32m   2974\u001b[39m     \u001b[38;5;28;01mif\u001b[39;00m \u001b[38;5;28;01mnot\u001b[39;00m no_val_X \u001b[38;5;28;01mand\u001b[39;00m check_params.get(\u001b[33m\"ensure_2d\"\u001b[39m, \u001b[38;5;28;01mTrue\u001b[39;00m):\n",
      "\u001b[32m~/miniforge3/envs/cpsc330/lib/python3.13/site-packages/sklearn/utils/validation.py\u001b[39m in \u001b[36m?\u001b[39m\u001b[34m(X, y, accept_sparse, accept_large_sparse, dtype, order, copy, force_writeable, force_all_finite, ensure_all_finite, ensure_2d, allow_nd, multi_output, ensure_min_samples, ensure_min_features, y_numeric, estimator)\u001b[39m\n\u001b[32m   1364\u001b[39m         )\n\u001b[32m   1365\u001b[39m \n\u001b[32m   1366\u001b[39m     ensure_all_finite = _deprecate_force_all_finite(force_all_finite, ensure_all_finite)\n\u001b[32m   1367\u001b[39m \n\u001b[32m-> \u001b[39m\u001b[32m1368\u001b[39m     X = check_array(\n\u001b[32m   1369\u001b[39m         X,\n\u001b[32m   1370\u001b[39m         accept_sparse=accept_sparse,\n\u001b[32m   1371\u001b[39m         accept_large_sparse=accept_large_sparse,\n",
      "\u001b[32m~/miniforge3/envs/cpsc330/lib/python3.13/site-packages/sklearn/utils/validation.py\u001b[39m in \u001b[36m?\u001b[39m\u001b[34m(array, accept_sparse, accept_large_sparse, dtype, order, copy, force_writeable, force_all_finite, ensure_all_finite, ensure_non_negative, ensure_2d, allow_nd, ensure_min_samples, ensure_min_features, estimator, input_name)\u001b[39m\n\u001b[32m   1050\u001b[39m                         )\n\u001b[32m   1051\u001b[39m                     array = xp.astype(array, dtype, copy=\u001b[38;5;28;01mFalse\u001b[39;00m)\n\u001b[32m   1052\u001b[39m                 \u001b[38;5;28;01melse\u001b[39;00m:\n\u001b[32m   1053\u001b[39m                     array = _asarray_with_order(array, order=order, dtype=dtype, xp=xp)\n\u001b[32m-> \u001b[39m\u001b[32m1054\u001b[39m             \u001b[38;5;28;01mexcept\u001b[39;00m ComplexWarning \u001b[38;5;28;01mas\u001b[39;00m complex_warning:\n\u001b[32m   1055\u001b[39m                 raise ValueError(\n\u001b[32m   1056\u001b[39m                     \u001b[33m\"Complex data not supported\\n{}\\n\"\u001b[39m.format(array)\n\u001b[32m   1057\u001b[39m                 ) \u001b[38;5;28;01mfrom\u001b[39;00m complex_warning\n",
      "\u001b[32m~/miniforge3/envs/cpsc330/lib/python3.13/site-packages/sklearn/utils/_array_api.py\u001b[39m in \u001b[36m?\u001b[39m\u001b[34m(array, dtype, order, copy, xp, device)\u001b[39m\n\u001b[32m    753\u001b[39m         \u001b[38;5;66;03m# Use NumPy API to support order\u001b[39;00m\n\u001b[32m    754\u001b[39m         \u001b[38;5;28;01mif\u001b[39;00m copy \u001b[38;5;28;01mis\u001b[39;00m \u001b[38;5;28;01mTrue\u001b[39;00m:\n\u001b[32m    755\u001b[39m             array = numpy.array(array, order=order, dtype=dtype)\n\u001b[32m    756\u001b[39m         \u001b[38;5;28;01melse\u001b[39;00m:\n\u001b[32m--> \u001b[39m\u001b[32m757\u001b[39m             array = numpy.asarray(array, order=order, dtype=dtype)\n\u001b[32m    758\u001b[39m \n\u001b[32m    759\u001b[39m         \u001b[38;5;66;03m# At this point array is a NumPy ndarray. We convert it to an array\u001b[39;00m\n\u001b[32m    760\u001b[39m         \u001b[38;5;66;03m# container that is consistent with the input's namespace.\u001b[39;00m\n",
      "\u001b[32m~/miniforge3/envs/cpsc330/lib/python3.13/site-packages/pandas/core/generic.py\u001b[39m in \u001b[36m?\u001b[39m\u001b[34m(self, dtype, copy)\u001b[39m\n\u001b[32m   2164\u001b[39m             )\n\u001b[32m   2165\u001b[39m         values = self._values\n\u001b[32m   2166\u001b[39m         \u001b[38;5;28;01mif\u001b[39;00m copy \u001b[38;5;28;01mis\u001b[39;00m \u001b[38;5;28;01mNone\u001b[39;00m:\n\u001b[32m   2167\u001b[39m             \u001b[38;5;66;03m# Note: branch avoids `copy=None` for NumPy 1.x support\u001b[39;00m\n\u001b[32m-> \u001b[39m\u001b[32m2168\u001b[39m             arr = np.asarray(values, dtype=dtype)\n\u001b[32m   2169\u001b[39m         \u001b[38;5;28;01melse\u001b[39;00m:\n\u001b[32m   2170\u001b[39m             arr = np.array(values, dtype=dtype, copy=copy)\n\u001b[32m   2171\u001b[39m \n",
      "\u001b[31mValueError\u001b[39m: could not convert string to float: 'Spacious and cozy room!'"
     ]
    }
   ],
   "source": [
    "from catboost import CatBoostRegressor\n",
    "from sklearn.feature_selection import RFECV\n",
    "import pandas as pd\n",
    "import matplotlib.pyplot as plt\n",
    "from sklearn.model_selection import KFold\n",
    "\n",
    "\n",
    "cat_reg = CatBoostRegressor(\n",
    "    iterations=100,\n",
    "    random_state=123,\n",
    "    verbose=False\n",
    ")\n",
    "\n",
    "cv = KFold(n_splits=10, shuffle=True, random_state=42)\n",
    "\n",
    "rfecv = RFECV(\n",
    "    estimator=cat_reg,\n",
    "    step=1,\n",
    "    cv=cv,\n",
    "    scoring=\"neg_root_mean_squared_error\",\n",
    "    n_jobs=-1\n",
    ")\n",
    "\n",
    "# Fit RFECV (using the full dataset — CatBoost handles mixed data)\n",
    "rfecv.fit(X_train, y_train)\n",
    "\n",
    "print(f\"Optimal number of features: {rfecv.n_features_}\")\n",
    "\n",
    "plt.figure(figsize=(8,5))\n",
    "plt.title(\"RFECV - CatBoost Feature Selection\")\n",
    "plt.xlabel(\"Number of Selected Features\")\n",
    "plt.ylabel(\"CV Score (−RMSE)\")\n",
    "plt.plot(range(1, len(rfecv.cv_results_['mean_test_score']) + 1),\n",
    "         rfecv.cv_results_)\n"
   ]
  },
  {
   "cell_type": "markdown",
   "metadata": {
    "deletable": false,
    "editable": false
   },
   "source": [
    "<!-- END QUESTION -->\n",
    "\n",
    "<br><br>"
   ]
  },
  {
   "cell_type": "markdown",
   "metadata": {
    "deletable": false,
    "editable": false
   },
   "source": [
    "<!-- BEGIN QUESTION -->\n",
    "\n",
    "## 10. Hyperparameter optimization\n",
    "<hr>\n",
    "rubric={points:10}\n",
    "\n",
    "<div class=\"alert alert-info\">\n",
    "    \n",
    "**Your tasks:**\n",
    "\n",
    "1. **Optimize hyperparameters**: Attempt to optimize hyperparameters for the models you have tried so far. In at least **one case**, tune **multiple hyperparameters** for a single model.\n",
    "\n",
    "2. **Use suitable optimization methods**: You may use any of the following approaches for hyperparameter optimization:\n",
    "   - [`GridSearchCV`](http://scikit-learn.org/stable/modules/generated/sklearn.model_selection.GridSearchCV.html)  \n",
    "   - [`RandomizedSearchCV`](http://scikit-learn.org/stable/modules/generated/sklearn.model_selection.RandomizedSearchCV.html)  \n",
    "   - [Bayesian optimization with scikit-optimize](https://github.com/scikit-optimize/scikit-optimize)\n",
    "\n",
    "3. **Summarize your results**: Report and compare the optimized results across models. Discuss whether hyperparameter optimization led to performance improvements.\n",
    "\n",
    "</div>"
   ]
  },
  {
   "cell_type": "markdown",
   "metadata": {
    "deletable": false,
    "editable": false
   },
   "source": [
    "<!-- END QUESTION -->\n",
    "\n",
    "<br><br>"
   ]
  },
  {
   "cell_type": "markdown",
   "metadata": {
    "deletable": false,
    "editable": false
   },
   "source": [
    "<div class=\"alert alert-warning\">\n",
    "    \n",
    "Solution_10\n",
    "    \n",
    "</div>\n",
    "\n",
    "_Points:_ 10"
   ]
  },
  {
   "cell_type": "code",
   "execution_count": null,
   "metadata": {},
   "outputs": [],
   "source": [
    "\n",
    "from sklearn.linear_model import Ridge\n",
    "from sklearn.pipeline import make_pipeline\n",
    "from sklearn.model_selection import RandomizedSearchCV\n",
    "from scipy.stats import loguniform\n",
    "\n",
    "ridge_pipe = make_pipeline(preprocessor, Ridge(random_state=42))\n",
    "\n",
    "param_dist = {\n",
    "    \"ridge__alpha\": loguniform(1e-5, 1e3),\n",
    "}\n",
    "\n",
    "\n",
    "ridge_random = RandomizedSearchCV(\n",
    "    ridge_pipe,\n",
    "    param_distributions=param_dist,\n",
    "    n_iter=100,  # number of random combinations to try\n",
    "    scoring=\"neg_root_mean_squared_error\", # try by RMSE \n",
    "    cv=10,\n",
    "    n_jobs=-1,\n",
    "    random_state=123,\n",
    "    return_train_score=True\n",
    ")\n",
    "\n",
    "ridge_random.fit(X_train, y_train)\n",
    "\n",
    "print(f\"Best parameters (Ridge): {ridge_random.best_params_}\")\n",
    "print(f\"Best CV RMSE: {-ridge_random.best_score_:.3f}\")\n",
    "ridge_random_results = pd.DataFrame(ridge_random.cv_results_).sort_values(\"mean_test_score\", ascending=False)\n",
    "ridge_random_results[[\"param_ridge__alpha\", \"param_ridge__solver\", \"mean_test_score\", \"mean_train_score\"]].head()"
   ]
  },
  {
   "cell_type": "code",
   "execution_count": null,
   "metadata": {},
   "outputs": [],
   "source": [
    "\n",
    "from sklearn.ensemble import RandomForestRegressor\n",
    "from sklearn.pipeline import make_pipeline\n",
    "from sklearn.model_selection import GridSearchCV\n",
    "import numpy as np\n",
    "import pandas as pd\n",
    "\n",
    "\n",
    "rf_pipe = make_pipeline(preprocessor, RandomForestRegressor(random_state=42))\n",
    "\n",
    "\n",
    "param_grid_rf = {\n",
    "    \"randomforestregressor__n_estimators\": [100, 200, 400],\n",
    "    \"randomforestregressor__max_depth\": [None, 10, 20],\n",
    "}\n",
    "\n",
    "rf_grid = GridSearchCV(\n",
    "    rf_pipe,\n",
    "    param_grid=param_grid_rf,\n",
    "    scoring=\"neg_root_mean_squared_error\",\n",
    "    cv=10,\n",
    "    n_jobs=-1,\n",
    "    return_train_score=True\n",
    ")\n",
    "\n",
    "rf_grid.fit(X_train, y_train)\n",
    "\n",
    "print(f\"Best params (Random Forest): {rf_grid.best_params_}\")\n",
    "print(f\"Best CV RMSE: {-rf_grid.best_score_:.3f}\")\n",
    "\n",
    "rf_cv_results = pd.DataFrame(rf_grid.cv_results_).sort_values(\"mean_test_score\", ascending=False)\n",
    "rf_cv_results[[\"param_randomforestregressor__n_estimators\",\n",
    "               \"param_randomforestregressor__max_depth\",\n",
    "               \"mean_test_score\"]].head()\n"
   ]
  },
  {
   "cell_type": "code",
   "execution_count": null,
   "metadata": {
    "tags": [
     "otter_answer_cell"
    ]
   },
   "outputs": [],
   "source": [
    "from sklearn.ensemble import GradientBoostingRegressor\n",
    "from sklearn.model_selection import GridSearchCV\n",
    "\n",
    "\n",
    "gbr_pipe = make_pipeline(preprocessor, GradientBoostingRegressor(random_state=42))\n",
    "\n",
    "param_grid_gbr = {\n",
    "    \"gradientboostingregressor__n_estimators\": [100, 300, 500],\n",
    "    \"gradientboostingregressor__learning_rate\": [0.01, 0.1, 0.2],\n",
    "}\n",
    "\n",
    "\n",
    "gbr_grid = GridSearchCV(\n",
    "    gbr_pipe,\n",
    "    param_grid=param_grid_gbr,\n",
    "    scoring=\"neg_root_mean_squared_error\",\n",
    "    cv=10,\n",
    "    n_jobs=-1,\n",
    "    return_train_score=True\n",
    ")\n",
    "\n",
    "gbr_grid.fit(X_train, y_train)\n",
    "\n",
    "print(f\"Best params (Gradient Boosting): {gbr_grid.best_params_}\")\n",
    "print(f\"Best CV RMSE: {-gbr_grid.best_score_:.3f}\")\n",
    "\n",
    "gbr_cv_results = pd.DataFrame(gbr_grid.cv_results_).sort_values(\"mean_test_score\", ascending=False)\n",
    "gbr_cv_results[[\"param_gradientboostingregressor__n_estimators\",\n",
    "                \"param_gradientboostingregressor__learning_rate\",\n",
    "                \"mean_test_score\"]].head()\n"
   ]
  },
  {
   "cell_type": "code",
   "execution_count": null,
   "metadata": {
    "tags": [
     "otter_answer_cell"
    ]
   },
   "outputs": [],
   "source": [
    "from catboost import CatBoostRegressor\n",
    "from sklearn.model_selection import GridSearchCV\n",
    "\n",
    "\n",
    "cat_pipe = make_pipeline(preprocessor, CatBoostRegressor(random_state=123, verbose=False))\n",
    "\n",
    "\n",
    "param_grid_cat = {\n",
    "    \"catboostregressor__depth\": [4, 6, 8],\n",
    "    \"catboostregressor__learning_rate\": [0.01, 0.05, 0.1],\n",
    "}\n",
    "\n",
    "\n",
    "cat_grid = GridSearchCV(\n",
    "    cat_pipe,\n",
    "    param_grid=param_grid_cat,\n",
    "    scoring=\"neg_root_mean_squared_error\",\n",
    "    cv=10,\n",
    "    n_jobs=100,\n",
    "    return_train_score=True\n",
    ")\n",
    "\n",
    "cat_grid.fit(X_train, y_train)\n",
    "\n",
    "\n",
    "print(f\"Best params (CatBoost): {cat_grid.best_params_}\")\n",
    "print(f\"Best CV RMSE: {-cat_grid.best_score_:.3f}\")\n",
    "\n",
    "cat_cv_results = pd.DataFrame(cat_grid.cv_results_).sort_values(\"mean_test_score\", ascending=False)\n",
    "cat_cv_results[[\"param_catboostregressor__iterations\",\n",
    "                \"param_catboostregressor__depth\",\n",
    "                \"param_catboostregressor__learning_rate\",\n",
    "                \"mean_test_score\"]].head()"
   ]
  },
  {
   "cell_type": "markdown",
   "metadata": {
    "deletable": false,
    "editable": false
   },
   "source": [
    "<!-- END QUESTION -->\n",
    "\n",
    "<br><br>"
   ]
  },
  {
   "cell_type": "markdown",
   "metadata": {
    "deletable": false,
    "editable": false
   },
   "source": [
    "<!-- BEGIN QUESTION -->\n",
    "\n",
    "## 11. Interpretation and feature importances\n",
    "<hr>\n",
    "rubric={points:10}\n",
    "\n",
    "<div class=\"alert alert-info\">\n",
    "    \n",
    "**Your tasks:**\n",
    "\n",
    "1. **Interpret model feature importance**: Use one of the interpretation methods discussed in class (e.g., `shap`), or another suitable method of your choice, to examine the most important features of one of your **non-linear models**.\n",
    "\n",
    "2. **Summarize insights**: Summarize your observations about which features contribute most to the model's predictions and how they influence the outcomes.\n",
    "\n",
    "   \n",
    "</div>"
   ]
  },
  {
   "cell_type": "markdown",
   "metadata": {},
   "source": [
    "Note: for the sake of computation power, we use shap on the catboost model rather than random forest"
   ]
  },
  {
   "cell_type": "markdown",
   "metadata": {
    "deletable": false,
    "editable": false
   },
   "source": [
    "<div class=\"alert alert-warning\">\n",
    "    \n",
    "Solution_11\n",
    "    \n",
    "</div>\n",
    "\n",
    "_Points:_ 10"
   ]
  },
  {
   "cell_type": "code",
   "execution_count": null,
   "metadata": {},
   "outputs": [],
   "source": [
    "!pip install shap"
   ]
  },
  {
   "cell_type": "markdown",
   "metadata": {
    "tags": [
     "otter_answer_cell"
    ]
   },
   "source": [
    "Interpretation: \n"
   ]
  },
  {
   "cell_type": "code",
   "execution_count": null,
   "metadata": {},
   "outputs": [],
   "source": [
    "# best random forest tree model from hyperparameter tuning\n",
    "model = rf_grid.best_estimator_"
   ]
  },
  {
   "cell_type": "code",
   "execution_count": null,
   "metadata": {},
   "outputs": [],
   "source": [
    "import shap \n",
    "\n",
    "explainer = shap.TreeExplainer(model)\n",
    "train_shap_values = explainer(X_train) "
   ]
  },
  {
   "cell_type": "code",
   "execution_count": null,
   "metadata": {
    "tags": [
     "otter_answer_cell"
    ]
   },
   "outputs": [],
   "source": [
    "shap.summary_plot(train_shap_values, X_train)"
   ]
  },
  {
   "cell_type": "code",
   "execution_count": null,
   "metadata": {
    "tags": [
     "otter_answer_cell"
    ]
   },
   "outputs": [],
   "source": [
    "..."
   ]
  },
  {
   "cell_type": "code",
   "execution_count": null,
   "metadata": {
    "tags": [
     "otter_answer_cell"
    ]
   },
   "outputs": [],
   "source": [
    "..."
   ]
  },
  {
   "cell_type": "code",
   "execution_count": null,
   "metadata": {
    "tags": [
     "otter_answer_cell"
    ]
   },
   "outputs": [],
   "source": [
    "..."
   ]
  },
  {
   "cell_type": "code",
   "execution_count": null,
   "metadata": {
    "tags": [
     "otter_answer_cell"
    ]
   },
   "outputs": [],
   "source": [
    "..."
   ]
  },
  {
   "cell_type": "code",
   "execution_count": null,
   "metadata": {
    "tags": [
     "otter_answer_cell"
    ]
   },
   "outputs": [],
   "source": [
    "..."
   ]
  },
  {
   "cell_type": "code",
   "execution_count": null,
   "metadata": {
    "tags": [
     "otter_answer_cell"
    ]
   },
   "outputs": [],
   "source": [
    "..."
   ]
  },
  {
   "cell_type": "code",
   "execution_count": null,
   "metadata": {
    "tags": [
     "otter_answer_cell"
    ]
   },
   "outputs": [],
   "source": [
    "..."
   ]
  },
  {
   "cell_type": "code",
   "execution_count": null,
   "metadata": {
    "tags": [
     "otter_answer_cell"
    ]
   },
   "outputs": [],
   "source": [
    "..."
   ]
  },
  {
   "cell_type": "code",
   "execution_count": null,
   "metadata": {},
   "outputs": [],
   "source": []
  },
  {
   "cell_type": "code",
   "execution_count": null,
   "metadata": {
    "tags": [
     "otter_answer_cell"
    ]
   },
   "outputs": [],
   "source": [
    "..."
   ]
  },
  {
   "cell_type": "markdown",
   "metadata": {
    "deletable": false,
    "editable": false
   },
   "source": [
    "<!-- END QUESTION -->\n",
    "\n",
    "<br><br>"
   ]
  },
  {
   "cell_type": "markdown",
   "metadata": {
    "deletable": false,
    "editable": false,
    "tags": []
   },
   "source": [
    "<!-- BEGIN QUESTION -->\n",
    "\n",
    "## 12. Results on the test set\n",
    "<hr>\n",
    "\n",
    "rubric={points:10}\n",
    "\n",
    "<div class=\"alert alert-info\">\n",
    "    \n",
    "**Your tasks:**\n",
    "\n",
    "1. **Evaluate on the test set**: Apply your best-performing model to the test data and report the test scores.\n",
    "\n",
    "2. **Compare and reflect**: Compare the **test scores** with the **validation scores** from previous experiments. Discuss the consistency between them. How much do you **trust your results**? Reflect on whether you might have encountered **optimization bias**.\n",
    "\n",
    "3. **Explain individual predictions**: Select one or two examples from your test predictions and use an interpretation method (e.g., **SHAP force plots**) to explain these individual predictions.\n",
    "</div>"
   ]
  },
  {
   "cell_type": "markdown",
   "metadata": {
    "deletable": false,
    "editable": false
   },
   "source": [
    "<div class=\"alert alert-warning\">\n",
    "    \n",
    "Solution_12\n",
    "    \n",
    "</div>\n",
    "\n",
    "_Points:_ 10"
   ]
  },
  {
   "cell_type": "markdown",
   "metadata": {
    "tags": [
     "otter_answer_cell"
    ]
   },
   "source": [
    "_Type your answer here, replacing this text._"
   ]
  },
  {
   "cell_type": "code",
   "execution_count": null,
   "metadata": {
    "tags": [
     "otter_answer_cell"
    ]
   },
   "outputs": [],
   "source": [
    "..."
   ]
  },
  {
   "cell_type": "code",
   "execution_count": null,
   "metadata": {
    "tags": [
     "otter_answer_cell"
    ]
   },
   "outputs": [],
   "source": [
    "..."
   ]
  },
  {
   "cell_type": "code",
   "execution_count": null,
   "metadata": {
    "tags": [
     "otter_answer_cell"
    ]
   },
   "outputs": [],
   "source": [
    "..."
   ]
  },
  {
   "cell_type": "code",
   "execution_count": null,
   "metadata": {
    "tags": [
     "otter_answer_cell"
    ]
   },
   "outputs": [],
   "source": [
    "..."
   ]
  },
  {
   "cell_type": "code",
   "execution_count": null,
   "metadata": {
    "tags": [
     "otter_answer_cell"
    ]
   },
   "outputs": [],
   "source": [
    "..."
   ]
  },
  {
   "cell_type": "code",
   "execution_count": null,
   "metadata": {
    "tags": [
     "otter_answer_cell"
    ]
   },
   "outputs": [],
   "source": [
    "..."
   ]
  },
  {
   "cell_type": "code",
   "execution_count": null,
   "metadata": {
    "tags": [
     "otter_answer_cell"
    ]
   },
   "outputs": [],
   "source": [
    "..."
   ]
  },
  {
   "cell_type": "code",
   "execution_count": null,
   "metadata": {
    "tags": [
     "otter_answer_cell"
    ]
   },
   "outputs": [],
   "source": [
    "..."
   ]
  },
  {
   "cell_type": "code",
   "execution_count": null,
   "metadata": {
    "tags": [
     "otter_answer_cell"
    ]
   },
   "outputs": [],
   "source": [
    "..."
   ]
  },
  {
   "cell_type": "code",
   "execution_count": null,
   "metadata": {
    "tags": [
     "otter_answer_cell"
    ]
   },
   "outputs": [],
   "source": [
    "..."
   ]
  },
  {
   "cell_type": "code",
   "execution_count": null,
   "metadata": {
    "tags": [
     "otter_answer_cell"
    ]
   },
   "outputs": [],
   "source": [
    "..."
   ]
  },
  {
   "cell_type": "code",
   "execution_count": null,
   "metadata": {
    "tags": [
     "otter_answer_cell"
    ]
   },
   "outputs": [],
   "source": [
    "..."
   ]
  },
  {
   "cell_type": "markdown",
   "metadata": {
    "deletable": false,
    "editable": false
   },
   "source": [
    "<!-- END QUESTION -->\n",
    "\n",
    "<br><br>"
   ]
  },
  {
   "cell_type": "markdown",
   "metadata": {
    "deletable": false,
    "editable": false
   },
   "source": [
    "<!-- BEGIN QUESTION -->\n",
    "\n",
    "## 13. Summary of results\n",
    "<hr>\n",
    "rubric={points:12}\n",
    "\n",
    "Imagine you are preparing to present the summary of your results to your boss and co-workers.\n",
    "\n",
    "<div class=\"alert alert-info\">\n",
    "    \n",
    "**Your tasks:**\n",
    "\n",
    "1. **Summarize key results**: Create a clear and concise table highlighting your most important results (e.g., models compared, validation/test scores, key observations).\n",
    "\n",
    "2. **Write concluding remarks**: Summarize your main takeaways from the project, including what worked well and what did not.\n",
    "\n",
    "3. **Propose future improvements**: Discuss ideas or approaches you did not try but that could potentially improve **performance** or **interpretability**.\n",
    "\n",
    "4. **Report final results**: Report your **final test score** and the **metric** you used.\n",
    "\n",
    "</div>\n"
   ]
  },
  {
   "cell_type": "markdown",
   "metadata": {
    "deletable": false,
    "editable": false
   },
   "source": [
    "<div class=\"alert alert-warning\">\n",
    "    \n",
    "Solution_13\n",
    "    \n",
    "</div>\n",
    "\n",
    "_Points:_ 12"
   ]
  },
  {
   "cell_type": "markdown",
   "metadata": {
    "tags": [
     "otter_answer_cell"
    ]
   },
   "source": [
    "_Type your answer here, replacing this text._"
   ]
  },
  {
   "cell_type": "code",
   "execution_count": null,
   "metadata": {
    "tags": [
     "otter_answer_cell"
    ]
   },
   "outputs": [],
   "source": [
    "..."
   ]
  },
  {
   "cell_type": "code",
   "execution_count": null,
   "metadata": {
    "tags": [
     "otter_answer_cell"
    ]
   },
   "outputs": [],
   "source": [
    "..."
   ]
  },
  {
   "cell_type": "markdown",
   "metadata": {
    "deletable": false,
    "editable": false
   },
   "source": [
    "<!-- END QUESTION -->\n",
    "\n",
    "<br><br>"
   ]
  },
  {
   "cell_type": "markdown",
   "metadata": {},
   "source": [
    "<br><br>"
   ]
  },
  {
   "cell_type": "markdown",
   "metadata": {
    "deletable": false,
    "editable": false
   },
   "source": [
    "<!-- BEGIN QUESTION -->\n",
    "\n",
    "## 14. Your takeaway\n",
    "<hr>\n",
    "rubric={points:2}\n",
    "\n",
    "<div class=\"alert alert-info\">\n",
    "    \n",
    "**Your tasks:**\n",
    "\n",
    "What is your biggest takeaway from the supervised machine learning material we have learned so far? Please write thoughtful answers.  \n",
    "\n",
    "</div>"
   ]
  },
  {
   "cell_type": "markdown",
   "metadata": {
    "deletable": false,
    "editable": false
   },
   "source": [
    "<div class=\"alert alert-warning\">\n",
    "    \n",
    "Solution_14\n",
    "    \n",
    "</div>\n",
    "\n",
    "_Points:_ 2"
   ]
  },
  {
   "cell_type": "markdown",
   "metadata": {},
   "source": [
    "Our takeaway from this supervised machine learning project follows that the "
   ]
  },
  {
   "cell_type": "markdown",
   "metadata": {
    "deletable": false,
    "editable": false
   },
   "source": [
    "<!-- END QUESTION -->\n",
    "\n",
    "<br><br>"
   ]
  },
  {
   "cell_type": "markdown",
   "metadata": {},
   "source": [
    "Before submitting your assignment, please ensure you have followed all the steps in the **Instructions** section at the top.  \n",
    "\n",
    "### Submission checklist  \n",
    "\n",
    "- [ ] Restart the kernel and run all cells (▶▶ button)\n",
    "- [ ] Make sure to push the most up to date version of your homework assignment to your GitHub repository so that we can use it for grading if there are any problems with your submission on Gradescope. \n",
    "- [ ] The `.ipynb` file runs without errors and shows all outputs.  \n",
    "- [ ] Only the `.ipynb` file and required output files are uploaded (no extra files).  \n",
    "- [ ] If the `.ipynb` file is too large to render on Gradescope, upload a Web PDF and/or HTML version as well.\n"
   ]
  },
  {
   "cell_type": "markdown",
   "metadata": {},
   "source": [
    "This was a tricky one but you did it 👏👏!  "
   ]
  },
  {
   "cell_type": "markdown",
   "metadata": {},
   "source": [
    "![](img/eva-well-done.png)"
   ]
  }
 ],
 "metadata": {
  "kernelspec": {
   "display_name": "cpsc330",
   "language": "python",
   "name": "python3"
  },
  "language_info": {
   "codemirror_mode": {
    "name": "ipython",
    "version": 3
   },
   "file_extension": ".py",
   "mimetype": "text/x-python",
   "name": "python",
   "nbconvert_exporter": "python",
   "pygments_lexer": "ipython3",
   "version": "3.13.5"
  },
  "otter": {
   "OK_FORMAT": true,
   "tests": {}
  }
 },
 "nbformat": 4,
 "nbformat_minor": 4
}
